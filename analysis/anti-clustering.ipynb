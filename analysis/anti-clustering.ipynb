{
 "cells": [
  {
   "cell_type": "code",
   "execution_count": 385,
   "metadata": {},
   "outputs": [],
   "source": [
    "import torch\n",
    "import torch.nn.functional as F\n",
    "import json, copy\n",
    "import h5py\n",
    "import numpy as np\n",
    "import math\n",
    "import matplotlib.pyplot as plt\n",
    "from matplotlib.pyplot import imshow\n",
    "from PIL import Image, ImageDraw"
   ]
  },
  {
   "cell_type": "code",
   "execution_count": 386,
   "metadata": {},
   "outputs": [],
   "source": [
    "from scipy.spatial import distance_matrix"
   ]
  },
  {
   "cell_type": "code",
   "execution_count": 387,
   "metadata": {},
   "outputs": [],
   "source": [
    "from tqdm import tqdm"
   ]
  },
  {
   "cell_type": "code",
   "execution_count": 388,
   "metadata": {},
   "outputs": [],
   "source": [
    "project_dir = '/home/miskai/デスクトップ/related-work/scene-graph-benchmark'\n",
    "image_file = json.load(open(f'{project_dir}/datasets/vg/image_data.json'))\n",
    "vocab_file = json.load(open(f'{project_dir}/datasets/vg/VG-SGG-dicts-with-attri.json'))\n",
    "data_file = h5py.File(f'{project_dir}/datasets/vg/VG-SGG-with-attri.h5', 'r')\n",
    "# remove invalid image\n",
    "corrupted_ims = [1592, 1722, 4616, 4617]\n",
    "tmp = []\n",
    "for item in image_file:\n",
    "    if int(item['image_id']) not in corrupted_ims:\n",
    "        tmp.append(item)\n",
    "image_file = tmp"
   ]
  },
  {
   "cell_type": "code",
   "execution_count": 389,
   "metadata": {},
   "outputs": [],
   "source": [
    "idx2pred = vocab_file[\"idx_to_predicate\"]\n",
    "pred2idx = vocab_file[\"predicate_to_idx\"]\n",
    "pred_cnt = vocab_file[\"predicate_count\"]"
   ]
  },
  {
   "cell_type": "markdown",
   "metadata": {},
   "source": [
    "## Feature load"
   ]
  },
  {
   "cell_type": "code",
   "execution_count": 390,
   "metadata": {},
   "outputs": [],
   "source": [
    "vis_info_path = \"/home/miskai/デスクトップ/related-work/scene-graph-benchmark/SGG-TD2/datasets/vg/vis_concat.npy\"\n",
    "# vis_info_path = \"/home/miskai/デスクトップ/related-work/scene-graph-benchmark/SGG-TD2/checkpoints/motifs-predcls-exmp/vis_record<20653/vis.npy\"\n",
    "# vis_info_path2 = \"/home/miskai/デスクトップ/related-work/scene-graph-benchmark/SGG-TD2/checkpoints/motifs-predcls-exmp/vis_record>20653/vis.npy\""
   ]
  },
  {
   "cell_type": "code",
   "execution_count": 391,
   "metadata": {},
   "outputs": [],
   "source": [
    "vis_info = np.load(vis_info_path, allow_pickle=True).item()\n",
    "# vis_info2 = np.load(vis_info_path2, allow_pickle=True).item()"
   ]
  },
  {
   "cell_type": "code",
   "execution_count": 366,
   "metadata": {},
   "outputs": [],
   "source": [
    "combined_vis_info = copy.deepcopy(vis_info)\n",
    "combined_vis_info[\"feat_sum\"] = (combined_vis_info[\"feat_sum\"]+vis_info2[\"feat_sum\"])[1:]\n",
    "combined_vis_info[\"feat_sq\"] = (combined_vis_info[\"feat_sq\"]+vis_info2[\"feat_sq\"])[1:]\n",
    "combined_vis_info[\"freq_sum\"] = (combined_vis_info[\"freq_sum\"]+vis_info2[\"freq_sum\"])[1:]\n",
    "combined_vis_info[\"freq_sq\"] = (combined_vis_info[\"freq_sq\"]+vis_info2[\"freq_sq\"])[1:]\n",
    "combined_vis_info[\"cnt\"] = (combined_vis_info[\"cnt\"]+vis_info2[\"cnt\"])[1:]"
   ]
  },
  {
   "cell_type": "code",
   "execution_count": 367,
   "metadata": {},
   "outputs": [],
   "source": [
    "combined_vis_info[\"feat_ave\"] = copy.deepcopy(combined_vis_info[\"feat_sum\"])\n",
    "combined_vis_info[\"freq_ave\"] = copy.deepcopy(combined_vis_info[\"freq_sum\"])\n",
    "for i in range(50):\n",
    "    combined_vis_info[\"feat_ave\"][i] /= combined_vis_info[\"cnt\"][i]\n",
    "    combined_vis_info[\"freq_ave\"][i] /= combined_vis_info[\"cnt\"][i]"
   ]
  },
  {
   "cell_type": "code",
   "execution_count": 368,
   "metadata": {},
   "outputs": [],
   "source": [
    "combined_vis_info[\"fused_ave\"] = np.concatenate([combined_vis_info[\"feat_ave\"], combined_vis_info[\"freq_ave\"]], axis=1)"
   ]
  },
  {
   "cell_type": "code",
   "execution_count": 407,
   "metadata": {},
   "outputs": [
    {
     "data": {
      "text/plain": [
       "array([[ 0.        ,  5.90079227,  5.84091756, ..., 10.3112903 ,\n",
       "         8.72827768,  6.6189399 ],\n",
       "       [ 5.90079227,  0.        ,  4.75385566, ...,  9.29334955,\n",
       "         6.92033695,  5.80215259],\n",
       "       [ 5.84091756,  4.75385566,  0.        , ...,  9.86153053,\n",
       "         7.86744407,  6.763253  ],\n",
       "       ...,\n",
       "       [10.3112903 ,  9.29334955,  9.86153053, ...,  0.        ,\n",
       "         4.00661882,  8.09135098],\n",
       "       [ 8.72827768,  6.92033695,  7.86744407, ...,  4.00661882,\n",
       "         0.        ,  6.32496914],\n",
       "       [ 6.6189399 ,  5.80215259,  6.763253  , ...,  8.09135098,\n",
       "         6.32496914,  0.        ]])"
      ]
     },
     "execution_count": 407,
     "metadata": {},
     "output_type": "execute_result"
    }
   ],
   "source": [
    "dist_mat = distance_matrix(vis_info[\"avg_feature\"][1:], vis_info[\"avg_feature\"][1:])\n",
    "# dist_mat = distance_matrix(combined_vis_info[\"fused_ave\"], combined_vis_info[\"fused_ave\"])\n",
    "dist_mat"
   ]
  },
  {
   "cell_type": "markdown",
   "metadata": {},
   "source": [
    "## clustering"
   ]
  },
  {
   "cell_type": "code",
   "execution_count": 395,
   "metadata": {},
   "outputs": [],
   "source": [
    "def calculate_var(group, dist_mat, verbose=False):\n",
    "    \"\"\"\n",
    "    Args\n",
    "        group: array which indicates which group classes belong to (#label)\n",
    "        dist_mat: distance matrix (#label, #label)\n",
    "    \"\"\"\n",
    "    # intra variance\n",
    "    intra_var = 0\n",
    "    for n in range(num_groups):\n",
    "        intra_dist = dist_mat[group==n][:, group==n]\n",
    "        intra_var += np.mean(intra_dist)\n",
    "    # inter variance\n",
    "    inter_var = 0\n",
    "    # for n in range(num_groups):\n",
    "    #     for m in range(n+1, num_groups):\n",
    "    #         inter_dist = dist_mat[group==n][:,group==m]\n",
    "    #         inter_var += np.min(inter_dist)\n",
    "    num_pair = 0\n",
    "    for n in range(num_groups):\n",
    "        for m in range(n+1, num_groups):\n",
    "            mean1 = np.mean(combined_vis_info[\"fused_ave\"][group==n], axis=0)\n",
    "            mean2 = np.mean(combined_vis_info[\"fused_ave\"][group==m], axis=0)\n",
    "            inter_var += np.sqrt(((mean1-mean2)**2).sum())\n",
    "            num_pair += 1\n",
    "    var = 10*intra_var/num_groups+inter_var/num_pair\n",
    "    if verbose:\n",
    "        print(intra_var/num_groups, inter_var/num_pair)\n",
    "    return var"
   ]
  },
  {
   "cell_type": "code",
   "execution_count": 396,
   "metadata": {},
   "outputs": [],
   "source": [
    "def pick_label(i, group, dist_mat, prior=0):\n",
    "    \"\"\"\n",
    "    Args\n",
    "        i: group number\n",
    "        group: array which indicates which group classes belong to (#label)\n",
    "        dist_mat: distance matrix(#label, #label)\n",
    "    \"\"\"\n",
    "    num = len(labels[group==i])\n",
    "    if num<=prior:\n",
    "        return -1\n",
    "    intra_dist = dist_mat[group==i][:,group==i]\n",
    "    independence = np.zeros(num)\n",
    "    for n in range(num):\n",
    "        independence[n] = intra_dist[n].sum()\n",
    "    return np.argsort(independence)[::-1][prior]"
   ]
  },
  {
   "cell_type": "code",
   "execution_count": 397,
   "metadata": {},
   "outputs": [],
   "source": [
    "def update_group(group, dist_mat, max_trial=10):\n",
    "    \"\"\"\n",
    "    Args\n",
    "        group: array which indicates which group classes belong to (#label)\n",
    "        dist_mat: distance matrix (#label, #label)\n",
    "        max_trial: the number of trial until the var increases\n",
    "    \"\"\"\n",
    "    trial = 0\n",
    "    while trial<max_trial:\n",
    "        var = calculate_var(group, dist_mat)\n",
    "        new_group = copy.deepcopy(group)\n",
    "        updated = False\n",
    "        priorities = np.random.randint(low=0, high=trial+1, size=num_groups)\n",
    "        for n in range(num_groups):\n",
    "            labels = np.where(group==n)[0]\n",
    "            drop_label = labels[pick_label(n, group, dist_mat, prior=priorities[n])]\n",
    "            if drop_label != -1:\n",
    "                updated = True\n",
    "                distination = np.arange(num_groups)\n",
    "                distination = np.delete(distination, n)\n",
    "                new_group[drop_label] = np.random.choice(distination)\n",
    "        new_var = calculate_var(new_group, dist_mat)\n",
    "        if new_var>var or (not updated):\n",
    "            return new_group\n",
    "        trial += 1\n",
    "    return group"
   ]
  },
  {
   "cell_type": "code",
   "execution_count": 408,
   "metadata": {},
   "outputs": [],
   "source": [
    "num_labels = 50\n",
    "num_groups = 2"
   ]
  },
  {
   "cell_type": "code",
   "execution_count": 409,
   "metadata": {},
   "outputs": [
    {
     "data": {
      "text/plain": [
       "array(['above', 'across', 'against', 'along', 'and', 'at', 'attached to',\n",
       "       'behind', 'belonging to', 'between', 'carrying', 'covered in',\n",
       "       'covering', 'eating', 'flying in', 'for', 'from', 'growing on',\n",
       "       'hanging from', 'has', 'holding', 'in', 'in front of', 'laying on',\n",
       "       'looking at', 'lying on', 'made of', 'mounted on', 'near', 'of',\n",
       "       'on', 'on back of', 'over', 'painted on', 'parked on', 'part of',\n",
       "       'playing', 'riding', 'says', 'sitting on', 'standing on', 'to',\n",
       "       'under', 'using', 'walking in', 'walking on', 'watching',\n",
       "       'wearing', 'wears', 'with'], dtype=object)"
      ]
     },
     "execution_count": 409,
     "metadata": {},
     "output_type": "execute_result"
    }
   ],
   "source": [
    "labels = np.array([idx2pred[str(i)] for i in range(1, num_labels+1)], dtype=object)\n",
    "labels"
   ]
  },
  {
   "cell_type": "code",
   "execution_count": 428,
   "metadata": {},
   "outputs": [
    {
     "data": {
      "text/plain": [
       "array([1, 0, 0, 1, 0, 0, 0, 1, 0, 1, 0, 1, 0, 1, 0, 1, 1, 1, 1, 0, 0, 0,\n",
       "       1, 1, 1, 0, 0, 0, 1, 1, 1, 0, 0, 0, 1, 0, 1, 0, 1, 1, 0, 0, 1, 1,\n",
       "       1, 1, 1, 0, 1, 0])"
      ]
     },
     "execution_count": 428,
     "metadata": {},
     "output_type": "execute_result"
    }
   ],
   "source": [
    "ini_group = np.random.uniform(low=0, high=num_groups, size=num_labels)\n",
    "ini_group = np.array([math.floor(num) for num in ini_group])\n",
    "ini_group"
   ]
  },
  {
   "cell_type": "code",
   "execution_count": 429,
   "metadata": {},
   "outputs": [
    {
     "name": "stdout",
     "output_type": "stream",
     "text": [
      "['across' 'against' 'and' 'at' 'attached to' 'belonging to' 'carrying'\n",
      " 'covering' 'flying in' 'has' 'holding' 'in' 'lying on' 'made of'\n",
      " 'mounted on' 'on back of' 'over' 'painted on' 'part of' 'riding'\n",
      " 'standing on' 'to' 'wearing' 'with']\n",
      "['above' 'along' 'behind' 'between' 'covered in' 'eating' 'for' 'from'\n",
      " 'growing on' 'hanging from' 'in front of' 'laying on' 'looking at' 'near'\n",
      " 'of' 'on' 'parked on' 'playing' 'says' 'sitting on' 'under' 'using'\n",
      " 'walking in' 'walking on' 'watching' 'wears']\n"
     ]
    }
   ],
   "source": [
    "for n in range(num_groups):\n",
    "    print(labels[ini_group==n])"
   ]
  },
  {
   "cell_type": "code",
   "execution_count": 411,
   "metadata": {},
   "outputs": [
    {
     "name": "stdout",
     "output_type": "stream",
     "text": [
      "7.2104178046577765 0.027772776322311968\n"
     ]
    },
    {
     "data": {
      "text/plain": [
       "72.13195082290008"
      ]
     },
     "execution_count": 411,
     "metadata": {},
     "output_type": "execute_result"
    }
   ],
   "source": [
    "calculate_var(ini_group, dist_mat, verbose=True)"
   ]
  },
  {
   "cell_type": "code",
   "execution_count": 412,
   "metadata": {},
   "outputs": [
    {
     "data": {
      "text/plain": [
       "array([0, 0, 1, 0, 0, 0, 1, 1, 1, 1, 1, 1, 1, 1, 1, 1, 1, 1, 0, 0, 0, 1,\n",
       "       1, 0, 0, 1, 0, 0, 1, 0, 1, 0, 1, 0, 1, 1, 1, 0, 0, 0, 0, 0, 0, 1,\n",
       "       0, 1, 0, 0, 0, 0])"
      ]
     },
     "execution_count": 412,
     "metadata": {},
     "output_type": "execute_result"
    }
   ],
   "source": [
    "update_group(ini_group, dist_mat)"
   ]
  },
  {
   "cell_type": "code",
   "execution_count": 438,
   "metadata": {},
   "outputs": [
    {
     "name": "stdout",
     "output_type": "stream",
     "text": [
      "Trial 0\n",
      "Epoch 1\n",
      "['above' 'across' 'against' 'and' 'at' 'attached to' 'behind'\n",
      " 'belonging to' 'covering' 'holding' 'looking at' 'lying on' 'made of'\n",
      " 'mounted on' 'near' 'of' 'on' 'on back of' 'over' 'painted on' 'part of'\n",
      " 'playing' 'says' 'sitting on' 'standing on' 'to' 'walking on' 'wearing'\n",
      " 'wears']\n",
      "['along' 'between' 'carrying' 'covered in' 'eating' 'flying in' 'for'\n",
      " 'from' 'growing on' 'hanging from' 'has' 'in' 'in front of' 'laying on'\n",
      " 'parked on' 'riding' 'under' 'using' 'walking in' 'watching' 'with']\n",
      "Epoch 2\n",
      "['above' 'across' 'against' 'and' 'at' 'attached to' 'behind'\n",
      " 'belonging to' 'covering' 'holding' 'looking at' 'lying on' 'made of'\n",
      " 'mounted on' 'near' 'of' 'on' 'on back of' 'over' 'painted on' 'part of'\n",
      " 'playing' 'says' 'sitting on' 'standing on' 'to' 'walking in' 'wearing'\n",
      " 'wears']\n",
      "['along' 'between' 'carrying' 'covered in' 'eating' 'flying in' 'for'\n",
      " 'from' 'growing on' 'hanging from' 'has' 'in' 'in front of' 'laying on'\n",
      " 'parked on' 'riding' 'under' 'using' 'walking on' 'watching' 'with']\n",
      "Epoch 3\n",
      "['above' 'across' 'against' 'and' 'at' 'attached to' 'behind'\n",
      " 'belonging to' 'covering' 'holding' 'looking at' 'made of' 'mounted on'\n",
      " 'near' 'of' 'on' 'on back of' 'over' 'painted on' 'part of' 'playing'\n",
      " 'says' 'sitting on' 'standing on' 'to' 'under' 'walking in' 'wearing'\n",
      " 'wears']\n",
      "['along' 'between' 'carrying' 'covered in' 'eating' 'flying in' 'for'\n",
      " 'from' 'growing on' 'hanging from' 'has' 'in' 'in front of' 'laying on'\n",
      " 'lying on' 'parked on' 'riding' 'using' 'walking on' 'watching' 'with']\n",
      "Epoch 4\n",
      "['above' 'across' 'against' 'and' 'at' 'attached to' 'behind'\n",
      " 'belonging to' 'covering' 'holding' 'in' 'looking at' 'made of'\n",
      " 'mounted on' 'near' 'of' 'on' 'on back of' 'over' 'part of' 'playing'\n",
      " 'says' 'sitting on' 'standing on' 'to' 'under' 'walking in' 'wearing'\n",
      " 'wears']\n",
      "['along' 'between' 'carrying' 'covered in' 'eating' 'flying in' 'for'\n",
      " 'from' 'growing on' 'hanging from' 'has' 'in front of' 'laying on'\n",
      " 'lying on' 'painted on' 'parked on' 'riding' 'using' 'walking on'\n",
      " 'watching' 'with']\n",
      "Epoch 5\n",
      "['above' 'across' 'against' 'and' 'at' 'attached to' 'behind'\n",
      " 'belonging to' 'carrying' 'covering' 'holding' 'in' 'looking at'\n",
      " 'made of' 'mounted on' 'near' 'of' 'on' 'on back of' 'over' 'part of'\n",
      " 'playing' 'says' 'sitting on' 'standing on' 'to' 'under' 'walking in'\n",
      " 'wears']\n",
      "['along' 'between' 'covered in' 'eating' 'flying in' 'for' 'from'\n",
      " 'growing on' 'hanging from' 'has' 'in front of' 'laying on' 'lying on'\n",
      " 'painted on' 'parked on' 'riding' 'using' 'walking on' 'watching'\n",
      " 'wearing' 'with']\n",
      "Epoch 6\n",
      "['above' 'across' 'against' 'and' 'at' 'attached to' 'behind'\n",
      " 'belonging to' 'carrying' 'covering' 'in' 'looking at' 'made of'\n",
      " 'mounted on' 'near' 'of' 'on' 'on back of' 'over' 'part of' 'playing'\n",
      " 'says' 'sitting on' 'standing on' 'to' 'under' 'using' 'walking in'\n",
      " 'wears']\n",
      "['along' 'between' 'covered in' 'eating' 'flying in' 'for' 'from'\n",
      " 'growing on' 'hanging from' 'has' 'holding' 'in front of' 'laying on'\n",
      " 'lying on' 'painted on' 'parked on' 'riding' 'walking on' 'watching'\n",
      " 'wearing' 'with']\n",
      "Epoch 7\n",
      "['above' 'across' 'against' 'and' 'at' 'attached to' 'behind'\n",
      " 'belonging to' 'carrying' 'covering' 'holding' 'in' 'made of'\n",
      " 'mounted on' 'near' 'of' 'on' 'on back of' 'over' 'part of' 'playing'\n",
      " 'says' 'sitting on' 'standing on' 'to' 'under' 'using' 'walking in'\n",
      " 'wears']\n",
      "['along' 'between' 'covered in' 'eating' 'flying in' 'for' 'from'\n",
      " 'growing on' 'hanging from' 'has' 'in front of' 'laying on' 'looking at'\n",
      " 'lying on' 'painted on' 'parked on' 'riding' 'walking on' 'watching'\n",
      " 'wearing' 'with']\n",
      "Epoch 8\n",
      "['above' 'across' 'against' 'and' 'at' 'attached to' 'behind'\n",
      " 'belonging to' 'covering' 'holding' 'in' 'made of' 'mounted on' 'near'\n",
      " 'of' 'on' 'on back of' 'over' 'part of' 'playing' 'says' 'sitting on'\n",
      " 'standing on' 'to' 'under' 'using' 'walking in' 'watching' 'wears']\n",
      "['along' 'between' 'carrying' 'covered in' 'eating' 'flying in' 'for'\n",
      " 'from' 'growing on' 'hanging from' 'has' 'in front of' 'laying on'\n",
      " 'looking at' 'lying on' 'painted on' 'parked on' 'riding' 'walking on'\n",
      " 'wearing' 'with']\n",
      "Epoch 9\n",
      "['above' 'across' 'against' 'and' 'at' 'attached to' 'behind'\n",
      " 'belonging to' 'covering' 'holding' 'in' 'lying on' 'made of'\n",
      " 'mounted on' 'near' 'of' 'on' 'on back of' 'over' 'part of' 'playing'\n",
      " 'says' 'sitting on' 'standing on' 'to' 'under' 'using' 'watching' 'wears']\n",
      "['along' 'between' 'carrying' 'covered in' 'eating' 'flying in' 'for'\n",
      " 'from' 'growing on' 'hanging from' 'has' 'in front of' 'laying on'\n",
      " 'looking at' 'painted on' 'parked on' 'riding' 'walking in' 'walking on'\n",
      " 'wearing' 'with']\n",
      "Epoch 10\n",
      "['above' 'across' 'against' 'and' 'at' 'attached to' 'behind'\n",
      " 'belonging to' 'covering' 'holding' 'in' 'lying on' 'made of'\n",
      " 'mounted on' 'near' 'of' 'on' 'over' 'part of' 'playing' 'riding' 'says'\n",
      " 'sitting on' 'standing on' 'to' 'under' 'using' 'watching' 'wears']\n",
      "['along' 'between' 'carrying' 'covered in' 'eating' 'flying in' 'for'\n",
      " 'from' 'growing on' 'hanging from' 'has' 'in front of' 'laying on'\n",
      " 'looking at' 'on back of' 'painted on' 'parked on' 'walking in'\n",
      " 'walking on' 'wearing' 'with']\n",
      "Epoch 11\n",
      "['above' 'across' 'against' 'and' 'at' 'attached to' 'behind'\n",
      " 'belonging to' 'covering' 'eating' 'holding' 'in' 'lying on' 'made of'\n",
      " 'mounted on' 'near' 'of' 'on' 'over' 'part of' 'playing' 'riding'\n",
      " 'sitting on' 'standing on' 'to' 'under' 'using' 'watching' 'wears']\n",
      "['along' 'between' 'carrying' 'covered in' 'flying in' 'for' 'from'\n",
      " 'growing on' 'hanging from' 'has' 'in front of' 'laying on' 'looking at'\n",
      " 'on back of' 'painted on' 'parked on' 'says' 'walking in' 'walking on'\n",
      " 'wearing' 'with']\n",
      "Epoch 12\n",
      "['above' 'across' 'against' 'and' 'at' 'attached to' 'behind'\n",
      " 'belonging to' 'covering' 'eating' 'holding' 'in' 'lying on' 'made of'\n",
      " 'mounted on' 'near' 'of' 'on' 'over' 'parked on' 'part of' 'playing'\n",
      " 'riding' 'sitting on' 'standing on' 'to' 'under' 'using' 'wears']\n",
      "['along' 'between' 'carrying' 'covered in' 'flying in' 'for' 'from'\n",
      " 'growing on' 'hanging from' 'has' 'in front of' 'laying on' 'looking at'\n",
      " 'on back of' 'painted on' 'says' 'walking in' 'walking on' 'watching'\n",
      " 'wearing' 'with']\n",
      "Epoch 13\n",
      "['above' 'across' 'against' 'and' 'at' 'attached to' 'behind'\n",
      " 'belonging to' 'covering' 'eating' 'holding' 'in' 'lying on' 'made of'\n",
      " 'mounted on' 'near' 'of' 'on' 'over' 'painted on' 'parked on' 'part of'\n",
      " 'playing' 'sitting on' 'standing on' 'to' 'under' 'using' 'wears']\n",
      "['along' 'between' 'carrying' 'covered in' 'flying in' 'for' 'from'\n",
      " 'growing on' 'hanging from' 'has' 'in front of' 'laying on' 'looking at'\n",
      " 'on back of' 'riding' 'says' 'walking in' 'walking on' 'watching'\n",
      " 'wearing' 'with']\n",
      "Epoch 14\n",
      "['above' 'across' 'against' 'and' 'at' 'attached to' 'behind'\n",
      " 'belonging to' 'carrying' 'covering' 'holding' 'in' 'lying on' 'made of'\n",
      " 'mounted on' 'near' 'of' 'on' 'over' 'painted on' 'parked on' 'part of'\n",
      " 'playing' 'sitting on' 'standing on' 'to' 'under' 'using' 'wears']\n",
      "['along' 'between' 'covered in' 'eating' 'flying in' 'for' 'from'\n",
      " 'growing on' 'hanging from' 'has' 'in front of' 'laying on' 'looking at'\n",
      " 'on back of' 'riding' 'says' 'walking in' 'walking on' 'watching'\n",
      " 'wearing' 'with']\n"
     ]
    }
   ],
   "source": [
    "best_group = -np.ones(num_labels)\n",
    "biggest_var = 0\n",
    "num_trial = 1\n",
    "for i in range(num_trial):\n",
    "    print(f\"Trial {i}\")\n",
    "    # ini_group = np.random.randint(low=0, high=num_groups, size=num_labels) \n",
    "    ini_group = np.random.uniform(low=0, high=num_groups, size=num_labels)\n",
    "    ini_group = np.array([math.floor(num) for num in ini_group])\n",
    "    group = ini_group\n",
    "    new_group = update_group(group, dist_mat, max_trial=15)\n",
    "    epoch = 0\n",
    "    while not (new_group == group).all():\n",
    "        epoch += 1\n",
    "        print(f\"Epoch {epoch}\")\n",
    "        for n in range(num_groups):\n",
    "            print(labels[new_group==n])\n",
    "        group = new_group\n",
    "        new_group = update_group(group, dist_mat, max_trial=15)\n",
    "    var = calculate_var(group, dist_mat)\n",
    "    if biggest_var < var:\n",
    "        biggest_var = var\n",
    "        best_group = group"
   ]
  },
  {
   "cell_type": "code",
   "execution_count": 439,
   "metadata": {},
   "outputs": [
    {
     "name": "stdout",
     "output_type": "stream",
     "text": [
      "['above' 'across' 'against' 'and' 'at' 'attached to' 'behind'\n",
      " 'belonging to' 'carrying' 'covering' 'holding' 'in' 'lying on' 'made of'\n",
      " 'mounted on' 'near' 'of' 'on' 'over' 'painted on' 'parked on' 'part of'\n",
      " 'playing' 'sitting on' 'standing on' 'to' 'under' 'using' 'wears']\n",
      "['along' 'between' 'covered in' 'eating' 'flying in' 'for' 'from'\n",
      " 'growing on' 'hanging from' 'has' 'in front of' 'laying on' 'looking at'\n",
      " 'on back of' 'riding' 'says' 'walking in' 'walking on' 'watching'\n",
      " 'wearing' 'with']\n",
      "73.31523377152595\n"
     ]
    }
   ],
   "source": [
    "for n in range(num_groups):\n",
    "    print(labels[best_group==n])\n",
    "print(biggest_var)"
   ]
  },
  {
   "cell_type": "code",
   "execution_count": 358,
   "metadata": {},
   "outputs": [
    {
     "data": {
      "text/plain": [
       "\"'above','against','along','and','attached,to','behind','belonging,to','between','carrying','covered,in','eating','for','hanging,from','holding','in','in,front,of','looking,at','made,of','near','of','on','over','painted,on','part,of','playing','riding','says','sitting,on','standing,on','to','under','walking,in','walking,on','with'\""
      ]
     },
     "execution_count": 358,
     "metadata": {},
     "output_type": "execute_result"
    }
   ],
   "source": [
    "group = \"'above' 'against' 'along' 'and' 'attached to' 'behind' 'belonging to' 'between' 'carrying' 'covered in' 'eating' 'for' 'hanging from' 'holding' 'in' 'in front of' 'looking at' 'made of' 'near' 'of' 'on' 'over' 'painted on' 'part of' 'playing' 'riding' 'says' 'sitting on' 'standing on' 'to' 'under' 'walking in' 'walking on' 'with'\"\n",
    "\",\".join(group.split())"
   ]
  },
  {
   "cell_type": "code",
   "execution_count": 422,
   "metadata": {},
   "outputs": [
    {
     "name": "stdout",
     "output_type": "stream",
     "text": [
      "7.409734520132674 0.02801711922959411\n"
     ]
    },
    {
     "data": {
      "text/plain": [
       "74.12536232055633"
      ]
     },
     "execution_count": 422,
     "metadata": {},
     "output_type": "execute_result"
    }
   ],
   "source": [
    "calculate_var(best_group, dist_mat, verbose=True)"
   ]
  },
  {
   "cell_type": "markdown",
   "metadata": {},
   "source": [
    "## Calulation of variance from json groups"
   ]
  },
  {
   "cell_type": "code",
   "execution_count": 415,
   "metadata": {},
   "outputs": [],
   "source": [
    "num_labels = 50"
   ]
  },
  {
   "cell_type": "code",
   "execution_count": 444,
   "metadata": {},
   "outputs": [],
   "source": [
    "group_json = open(\"/home/miskai/デスクトップ/related-work/scene-graph-benchmark/SGG-TD2/datasets/vg/cat-base-2cluster.json\")\n",
    "group_json = json.load(group_json)"
   ]
  },
  {
   "cell_type": "code",
   "execution_count": 445,
   "metadata": {},
   "outputs": [],
   "source": [
    "groups = -np.ones(num_labels+1, dtype=int)\n",
    "idx = 0\n",
    "for par in group_json[\"children\"]:\n",
    "    if par == \"root\":\n",
    "        continue\n",
    "    else:\n",
    "        for ch in group_json[\"children\"][par]:\n",
    "            groups[pred2idx[ch]] = idx\n",
    "        idx += 1\n",
    "groups = groups[1:]\n",
    "num_groups = idx"
   ]
  },
  {
   "cell_type": "code",
   "execution_count": 446,
   "metadata": {},
   "outputs": [
    {
     "data": {
      "text/plain": [
       "array([0, 1, 1, 0, 1, 1, 0, 1, 0, 1, 1, 0, 0, 1, 1, 0, 1, 0, 0, 1, 1, 0,\n",
       "       1, 0, 1, 0, 1, 0, 1, 0, 0, 0, 1, 1, 0, 0, 1, 0, 1, 0, 0, 0, 1, 1,\n",
       "       0, 0, 1, 1, 1, 1])"
      ]
     },
     "execution_count": 446,
     "metadata": {},
     "output_type": "execute_result"
    }
   ],
   "source": [
    "groups"
   ]
  },
  {
   "cell_type": "code",
   "execution_count": 447,
   "metadata": {},
   "outputs": [
    {
     "name": "stdout",
     "output_type": "stream",
     "text": [
      "6.605348381742426 0.106501923168834\n"
     ]
    },
    {
     "data": {
      "text/plain": [
       "66.1599857405931"
      ]
     },
     "execution_count": 447,
     "metadata": {},
     "output_type": "execute_result"
    }
   ],
   "source": [
    "calculate_var(groups, dist_mat, verbose=True)"
   ]
  },
  {
   "cell_type": "code",
   "execution_count": null,
   "metadata": {},
   "outputs": [],
   "source": []
  }
 ],
 "metadata": {
  "interpreter": {
   "hash": "9cee0c3e8d1c24ad445e317ad9d7c265bd18b3ddfd9aa29f4b8bff3337f2bbcc"
  },
  "kernelspec": {
   "display_name": "Python 3.7.0 64-bit ('sgg-td': conda)",
   "name": "python3"
  },
  "language_info": {
   "codemirror_mode": {
    "name": "ipython",
    "version": 3
   },
   "file_extension": ".py",
   "mimetype": "text/x-python",
   "name": "python",
   "nbconvert_exporter": "python",
   "pygments_lexer": "ipython3",
   "version": "3.7.0"
  },
  "orig_nbformat": 4
 },
 "nbformat": 4,
 "nbformat_minor": 2
}