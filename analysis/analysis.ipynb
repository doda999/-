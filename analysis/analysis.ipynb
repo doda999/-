{
 "cells": [
  {
   "cell_type": "code",
   "execution_count": 4,
   "metadata": {},
   "outputs": [],
   "source": [
    "import torch\n",
    "import torch.nn.functional as F\n",
    "import json, copy, os\n",
    "import h5py\n",
    "import numpy as np\n",
    "import math\n",
    "import matplotlib.pyplot as plt\n",
    "from matplotlib.pyplot import imshow\n",
    "from PIL import Image, ImageDraw"
   ]
  },
  {
   "cell_type": "code",
   "execution_count": 1,
   "metadata": {},
   "outputs": [],
   "source": [
    "from sklearn.metrics import confusion_matrix\n",
    "import seaborn as sns\n",
    "from sklearn.cluster import KMeans\n",
    "import scipy as sp\n",
    "from scipy.cluster import hierarchy\n",
    "from functools import reduce"
   ]
  },
  {
   "cell_type": "code",
   "execution_count": 2,
   "metadata": {},
   "outputs": [],
   "source": [
    "from tqdm import tqdm"
   ]
  },
  {
   "cell_type": "code",
   "execution_count": 5,
   "metadata": {},
   "outputs": [],
   "source": [
    "project_dir = \"/home/miskai/デスクトップ/related-work/scene-graph-benchmark\"\n",
    "image_file = json.load(open(f'{project_dir}/datasets/vg/image_data.json'))\n",
    "vocab_file = json.load(open(f'{project_dir}/datasets/vg/VG-SGG-dicts-with-attri.json'))\n",
    "data_file = h5py.File(f'{project_dir}/datasets/vg/VG-SGG-with-attri.h5', 'r')\n",
    "# remove invalid image\n",
    "corrupted_ims = [1592, 1722, 4616, 4617]\n",
    "tmp = []\n",
    "for item in image_file:\n",
    "    if int(item['image_id']) not in corrupted_ims:\n",
    "        tmp.append(item)\n",
    "image_file = tmp"
   ]
  },
  {
   "cell_type": "code",
   "execution_count": 104,
   "metadata": {},
   "outputs": [],
   "source": [
    "result_path = '/home/miskai/デスクトップ/related-work/scene-graph-benchmark/SGG-TD2/checkpoints/motifs-sgcls-exmp-2cluster/concat-fixed'\n",
    "detected_origin_path = f'{result_path}/inference/VG_stanford_filtered_with_attribute_test/'\n",
    "detected_origin_result = torch.load(detected_origin_path + 'eval_results.pytorch')\n",
    "detected_info = json.load(open(detected_origin_path + 'visual_info.json'))"
   ]
  },
  {
   "cell_type": "code",
   "execution_count": 96,
   "metadata": {},
   "outputs": [],
   "source": [
    "def bbox_match(pred, gt):\n",
    "    \"\"\"Args:\n",
    "        pred: [x0, y0, x1, y1]\n",
    "        gt: same as above\n",
    "    Returns: whether objects in gt and prediction are seen as same objects\n",
    "    \"\"\"\n",
    "    xA = max(pred[0], gt[0])\n",
    "    yA = max(pred[1], gt[1])\n",
    "    xB = min(pred[2], gt[2])\n",
    "    yB = min(pred[3], gt[3])\n",
    "    intra_area = max(0, xB-xA+1)*max(0, yB-yA+1)\n",
    "    pred_area = (pred[2]-pred[0]+1)*(pred[3]-pred[1]+1)\n",
    "    gt_area = (gt[2]-gt[0]+1)*(gt[3]-gt[1]+1)\n",
    "    iou = intra_area/float(pred_area+gt_area-intra_area)\n",
    "    return iou>0.5"
   ]
  },
  {
   "cell_type": "code",
   "execution_count": 97,
   "metadata": {},
   "outputs": [],
   "source": [
    "def find_match(pred_rels, gt_rels):\n",
    "    \"\"\"\n",
    "    pred_rels, gt_rels: relation triplets\n",
    "        sub_label: label of subject (String)\n",
    "        obj_label: label of object  (String)\n",
    "        sub_bbox:  bbox of subject  ([num_rel, 4])\n",
    "        obj_bbox:  bbox of object   ([num_rel, 4])\n",
    "        rel_label: relation label   (Int)\n",
    "    \"\"\"\n",
    "    selected_pred_label = []\n",
    "    selected_gt_label = []\n",
    "    # for each gt, check pair matched prediction (if it has corresponding prediction, put 1)\n",
    "    pair_found = [0 for x in range(len(gt_rels))]\n",
    "    # for each prediction, check all matched gt\n",
    "    pred_to_gt = [[] for x in range(len(pred_rels))]\n",
    "    for i, pre in enumerate(pred_rels):\n",
    "        for j, gt in enumerate(gt_rels):\n",
    "            if pre[\"sub_label\"]==gt[\"sub_label\"] and pre[\"obj_label\"]==gt[\"obj_label\"] and bbox_match(pre[\"sub_bbox\"],gt[\"sub_bbox\"] ) and bbox_match(pre[\"obj_bbox\"], gt[\"obj_bbox\"]):\n",
    "                selected_pred_label.append(pre[\"rel_label\"])\n",
    "                selected_gt_label.append(gt[\"rel_label\"])\n",
    "                pair_found[j] = 1\n",
    "                if pre[\"rel_label\"]==gt[\"rel_label\"]:\n",
    "                    pred_to_gt[i].append(j)\n",
    "    # print(pred_to_gt)\n",
    "    return pred_to_gt, selected_pred_label, selected_gt_label, pair_found"
   ]
  },
  {
   "cell_type": "code",
   "execution_count": 52,
   "metadata": {},
   "outputs": [],
   "source": [
    "def extract_failure(pred_rels, gt_rels):\n",
    "    \"\"\" See failed prediction samples\n",
    "    Args:\n",
    "        pred_rels: list[{sub_label: subject_label\n",
    "                    obj_label: object label\n",
    "                    sub_bbox: subject bbox\n",
    "                    obj_bbox: object bbox\n",
    "                    rel_label: relation label}]\n",
    "        gt_rels: same as above\n",
    "    \"\"\"\n",
    "    res = []\n",
    "    for i, pred in enumerate(pred_rels):\n",
    "        flag = False\n",
    "        failed_gt = None\n",
    "        # check every gt to see if a predicted predicte is failure or not\n",
    "        for gt in gt_rels:\n",
    "            if pred[\"sub_label\"] == gt['sub_label'] and pred['obj_label'] == gt[\"obj_label\"]:\n",
    "                if bbox_match(pred['sub_bbox'], gt[\"sub_bbox\"]) and bbox_match(pred[\"obj_bbox\"], gt[\"obj_bbox\"]):\n",
    "                    if gt[\"rel_label\"] == pred[\"rel_label\"]:\n",
    "                        flag = True\n",
    "                        break\n",
    "                    else:\n",
    "                        failed_gt = gt\n",
    "        if not flag and failed_gt:\n",
    "            res.append({\"prediction\": pred, \"groundtruth\":failed_gt})\n",
    "    return res  "
   ]
  },
  {
   "cell_type": "code",
   "execution_count": 53,
   "metadata": {},
   "outputs": [],
   "source": [
    "pred2idx = vocab_file[\"predicate_to_idx\"]"
   ]
  },
  {
   "cell_type": "code",
   "execution_count": 24,
   "metadata": {},
   "outputs": [
    {
     "name": "stderr",
     "output_type": "stream",
     "text": [
      "100%|██████████| 26446/26446 [00:14<00:00, 1817.52it/s]\n"
     ]
    }
   ],
   "source": [
    "##### This is a code to see failed samples ######\n",
    "result = {}\n",
    "for i in tqdm(range(26446)):\n",
    "    prediction = detected_origin_result[\"predictions\"][i]\n",
    "    groundtruths = detected_origin_result[\"groundtruths\"][i]\n",
    "    idx2label = vocab_file['idx_to_label']\n",
    "    idx2pred = vocab_file['idx_to_predicate']\n",
    "    # prediction boxes\n",
    "    pred_boxes = prediction.bbox\n",
    "    # predicted object label corresponding to bbox above\n",
    "    pred_labels = prediction.get_field(\"pred_labels\").long().tolist()\n",
    "    # ground truth boxes\n",
    "    gt_boxes = groundtruths.bbox\n",
    "    # ground truth label corresponding to bbox above\n",
    "    gt_labels = groundtruths.get_field(\"labels\").tolist()\n",
    "    # rel pair lists\n",
    "    pred_rels = []\n",
    "    gt_rels =[]\n",
    "    # ground truth triplet\n",
    "    gt_triplets = groundtruths.get_field('relation_tuple').tolist()\n",
    "    for tri in gt_triplets:\n",
    "        tmp = {}\n",
    "        tmp[\"sub_label\"] = idx2label[str(gt_labels[tri[0]])]\n",
    "        tmp[\"obj_label\"] = idx2label[str(gt_labels[tri[1]])]\n",
    "        tmp[\"sub_bbox\"] = gt_boxes[tri[0]].tolist()\n",
    "        tmp[\"obj_bbox\"] = gt_boxes[tri[1]].tolist()\n",
    "        tmp[\"rel_label\"] = idx2pred[str(tri[2])]\n",
    "        gt_rels.append(tmp)\n",
    "    # prediction relation triplet\n",
    "    pred_rel_pair = prediction.get_field('rel_pair_idxs').long().tolist()\n",
    "    pred_rel_label = prediction.get_field('pred_rel_labels').long()[:100]\n",
    "    for j, k in zip(pred_rel_pair, pred_rel_label.tolist()):\n",
    "        tmp = {}\n",
    "        tmp[\"sub_label\"] = idx2label[str(pred_labels[j[0]])]\n",
    "        tmp[\"obj_label\"] = idx2label[str(pred_labels[j[1]])]\n",
    "        tmp[\"sub_bbox\"] = pred_boxes[j[0]].tolist()\n",
    "        tmp[\"obj_bbox\"] = pred_boxes[j[1]].tolist()\n",
    "        tmp[\"rel_label\"] = idx2pred[str(k)]\n",
    "        pred_rels.append(tmp)\n",
    "    failure = extract_failure(pred_rels, gt_rels)\n",
    "    result[str(i)] = failure"
   ]
  },
  {
   "cell_type": "code",
   "execution_count": 28,
   "metadata": {},
   "outputs": [],
   "source": [
    "with open (\"/home/miskai/デスクトップ/related-work/scene-graph-benchmark/SGG-TD2/analysis/kt-less-patience--predcls-failure.json\", \"w\") as f:\n",
    "    json.dump(result, f, indent=2)"
   ]
  },
  {
   "cell_type": "markdown",
   "metadata": {},
   "source": [
    "# Confusion matrix"
   ]
  },
  {
   "cell_type": "code",
   "execution_count": 105,
   "metadata": {},
   "outputs": [
    {
     "name": "stderr",
     "output_type": "stream",
     "text": [
      "100%|██████████| 26446/26446 [00:42<00:00, 617.55it/s]\n"
     ]
    }
   ],
   "source": [
    "pred = []\n",
    "gt = []\n",
    "gt_nums = []\n",
    "recalls = []\n",
    "pair_matchs = []\n",
    "idxs = []\n",
    "# for i in tqdm(range(1)):\n",
    "for i in tqdm(range(26446)):\n",
    "    gt_num = 0\n",
    "    prediction = detected_origin_result[\"predictions\"][i]\n",
    "    groundtruths = detected_origin_result[\"groundtruths\"][i]\n",
    "    idx2label = vocab_file['idx_to_label']\n",
    "    idx2pred = vocab_file['idx_to_predicate']\n",
    "    # prediction boxes\n",
    "    pred_boxes = prediction.bbox\n",
    "    # predicted object label corresponding to bbox above\n",
    "    pred_labels = prediction.get_field(\"pred_labels\").long().tolist()\n",
    "    # ground truth boxes\n",
    "    gt_boxes = groundtruths.bbox\n",
    "    # ground truth label corresponding to bbox above\n",
    "    gt_labels = groundtruths.get_field(\"labels\").tolist()\n",
    "    # rel pair lists\n",
    "    pred_rels = []\n",
    "    gt_rels =[]\n",
    "    # ground truth triplet\n",
    "    gt_triplets = groundtruths.get_field('relation_tuple').tolist()\n",
    "    gt_num = len(gt_triplets)\n",
    "    gt_nums.append(gt_num)\n",
    "    for tri in gt_triplets:\n",
    "        tmp = {}\n",
    "        tmp[\"sub_label\"] = idx2label[str(gt_labels[tri[0]])]\n",
    "        tmp[\"obj_label\"] = idx2label[str(gt_labels[tri[1]])]\n",
    "        tmp[\"sub_bbox\"] = gt_boxes[tri[0]].tolist()\n",
    "        tmp[\"obj_bbox\"] = gt_boxes[tri[1]].tolist()\n",
    "        tmp[\"rel_label\"] = tri[2]\n",
    "        gt_rels.append(tmp)\n",
    "    # prediction relation triplet\n",
    "    pred_rel_pair = prediction.get_field('rel_pair_idxs').long().tolist()\n",
    "    pred_rel_label = prediction.get_field('pred_rel_labels').long()[:100].tolist()\n",
    "    for j, k in zip(pred_rel_pair, pred_rel_label):\n",
    "        tmp = {}\n",
    "        tmp[\"sub_label\"] = idx2label[str(pred_labels[j[0]])]\n",
    "        tmp[\"obj_label\"] = idx2label[str(pred_labels[j[1]])]\n",
    "        tmp[\"sub_bbox\"] = pred_boxes[j[0]].tolist()\n",
    "        tmp[\"obj_bbox\"] = pred_boxes[j[1]].tolist()\n",
    "        tmp[\"rel_label\"] = k\n",
    "        pred_rels.append(tmp)\n",
    "    pred_to_gt, selected_pred_label, selected_gt_label, pair_found = find_match(pred_rels, gt_rels)\n",
    "    match = reduce(np.union1d, pred_to_gt)\n",
    "    rec = float(len(match))/float(gt_num)\n",
    "    recalls.append(rec)\n",
    "    pair_matchs.append(float(np.sum(pair_found))/float(gt_num))\n",
    "    pred = pred+selected_pred_label\n",
    "    gt = gt+selected_gt_label\n",
    "    # idxs = idxs+[i for _ in range(len(selected_gt_label))]"
   ]
  },
  {
   "cell_type": "code",
   "execution_count": 88,
   "metadata": {},
   "outputs": [
    {
     "data": {
      "text/plain": [
       "True"
      ]
     },
     "execution_count": 88,
     "metadata": {},
     "output_type": "execute_result"
    }
   ],
   "source": [
    "len(pred) == len(gt)"
   ]
  },
  {
   "cell_type": "code",
   "execution_count": 106,
   "metadata": {},
   "outputs": [
    {
     "data": {
      "text/plain": [
       "0.3930701648250885"
      ]
     },
     "execution_count": 106,
     "metadata": {},
     "output_type": "execute_result"
    }
   ],
   "source": [
    "# Recall@100\n",
    "np.mean(recalls)"
   ]
  },
  {
   "cell_type": "code",
   "execution_count": 100,
   "metadata": {},
   "outputs": [
    {
     "data": {
      "text/plain": [
       "0.5815962649113464"
      ]
     },
     "execution_count": 100,
     "metadata": {},
     "output_type": "execute_result"
    }
   ],
   "source": [
    "# pair match accuracy\n",
    "np.mean(pair_matchs)"
   ]
  },
  {
   "cell_type": "code",
   "execution_count": 35,
   "metadata": {},
   "outputs": [],
   "source": [
    "val_mat = confusion_matrix(gt, pred)"
   ]
  },
  {
   "cell_type": "code",
   "execution_count": 36,
   "metadata": {},
   "outputs": [],
   "source": [
    "mat = copy.deepcopy(val_mat).astype(float)\n",
    "for i in range(mat.shape[0]):\n",
    "    if np.sum(mat[i]):\n",
    "        mat[i] = mat[i]/np.sum(mat[i])"
   ]
  },
  {
   "cell_type": "code",
   "execution_count": 37,
   "metadata": {},
   "outputs": [],
   "source": [
    "labels = np.array([idx2pred[str(i)] for i in set(gt)], dtype=str)"
   ]
  },
  {
   "cell_type": "code",
   "execution_count": 38,
   "metadata": {},
   "outputs": [
    {
     "data": {
      "image/png": "[encoded data removed]",
      "text/plain": [
       "<Figure size 1440x1080 with 2 Axes>"
      ]
     },
     "metadata": {
      "needs_background": "light"
     },
     "output_type": "display_data"
    }
   ],
   "source": [
    "plt.figure(figsize=(20,15))\n",
    "sns.heatmap(mat, cmap=\"Blues\", xticklabels=labels, yticklabels=labels)\n",
    "save_path = os.path.join(result_path, \"conf_matrix.png\")\n",
    "plt.savefig(save_path, dpi=300)"
   ]
  },
  {
   "cell_type": "markdown",
   "metadata": {},
   "source": [
    "# Root Analysis"
   ]
  },
  {
   "cell_type": "code",
   "execution_count": 92,
   "metadata": {},
   "outputs": [],
   "source": [
    "top10 = [\"on\", \"has\", \"wearing\", \"of\", \"in\", \"near\", \"behind\", \"with\", \"holding\", \"above\"]\n",
    "middle = [\"under\", \"wears\", \"sitting on\", \"in front of\", \"riding\", \"standing on\", \"at\", \"attached to\", \"over\", \"carrying\", \"walking on\", \"for\", \"looking at\", \"watching\", \"hanging from\", \"belonging to\", \"and\", \"parked on\", \"between\", \"laying on\", \"along\", \"eating\", \"covering\", \"covered in\", \"part of\"]\n",
    "bottom15 = [\"using\", \"to\", \"on back of\", \"across\", \"mounted on\", \"lying on\", \"walking in\", \"against\", \"from\", \"growing on\", \"painted on\", \"made of\", \"playing\", \"says\", \"flying in\"]\n",
    "top10 = [pred2idx[t] for t in top10]\n",
    "middle = [pred2idx[m] for m in middle]\n",
    "bottom15 = [pred2idx[b] for b in bottom15]"
   ]
  },
  {
   "cell_type": "code",
   "execution_count": 107,
   "metadata": {},
   "outputs": [],
   "source": [
    "# load taxonomy json file\n",
    "json_file = \"/home/miskai/デスクトップ/related-work/scene-graph-benchmark/SGG-TD2/datasets/vg/sgcls_clusters/cat_less_lr/RELU/motifs/2cluster.json\"\n",
    "taxonomy = open(json_file)\n",
    "taxonomy = json.load(taxonomy)"
   ]
  },
  {
   "cell_type": "code",
   "execution_count": 108,
   "metadata": {},
   "outputs": [],
   "source": [
    "pars = taxonomy[\"children\"][\"root\"]\n",
    "par_dic = {}\n",
    "for par in pars:\n",
    "    for ch in taxonomy[\"children\"][par]:\n",
    "        par_dic[pred2idx[ch]] = par"
   ]
  },
  {
   "cell_type": "code",
   "execution_count": 109,
   "metadata": {},
   "outputs": [
    {
     "name": "stdout",
     "output_type": "stream",
     "text": [
      "count: 164414\n",
      "head count: 137059\n",
      "body count: 24797\n",
      "tail count: 2558\n",
      "Root Accuracy: 0.9171846679723138\n",
      "Head Accuracy: 0.9438125186963279\n",
      "Body Accuracy: 0.7919103117312578\n",
      "Tail Accuracy: 0.7048475371383893\n"
     ]
    }
   ],
   "source": [
    "count = 0\n",
    "correct = 0\n",
    "top_count = 0\n",
    "top_correct = 0\n",
    "mid_count = 0\n",
    "mid_correct = 0\n",
    "bot_count = 0\n",
    "bot_correct = 0\n",
    "failed_predicate = []\n",
    "for pre, gr in zip(pred, gt):\n",
    "    if par_dic[pre]==par_dic[gr]:\n",
    "        correct += 1\n",
    "        if gr in top10:\n",
    "            top_correct += 1\n",
    "        elif gr in middle:\n",
    "            mid_correct += 1\n",
    "        else:\n",
    "            bot_correct += 1\n",
    "    else:\n",
    "        failed_predicate.append((idx2pred[str(pre)], idx2pred[str(gr)])) \n",
    "    count += 1\n",
    "    if gr in top10:\n",
    "        top_count += 1\n",
    "    elif gr in middle:\n",
    "        mid_count += 1\n",
    "    else:\n",
    "        bot_count += 1\n",
    "print(f\"count: {count}\")\n",
    "print(f\"top10 count: {top_count}\")\n",
    "print(f\"middle count: {mid_count}\")\n",
    "print(f\"bottom15 count: {bot_count}\")\n",
    "print(f\"Root Accuracy: {correct/count}\")\n",
    "print(f\"Top10 Accuracy: {top_correct/top_count}\")\n",
    "print(f\"Middle Accuracy: {mid_correct/mid_count}\")\n",
    "print(f\"Bottom15 Accuracy: {bot_correct/bot_count}\")"
   ]
  }
 ],
 "metadata": {
  "interpreter": {
   "hash": "9cee0c3e8d1c24ad445e317ad9d7c265bd18b3ddfd9aa29f4b8bff3337f2bbcc"
  },
  "kernelspec": {
   "display_name": "Python 3.7.0 64-bit ('sgg-td': conda)",
   "name": "python3"
  },
  "language_info": {
   "codemirror_mode": {
    "name": "ipython",
    "version": 3
   },
   "file_extension": ".py",
   "mimetype": "text/x-python",
   "name": "python",
   "nbconvert_exporter": "python",
   "pygments_lexer": "ipython3",
   "version": "3.7.0"
  },
  "orig_nbformat": 4
 },
 "nbformat": 4,
 "nbformat_minor": 2
}
