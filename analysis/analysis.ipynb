{
 "cells": [
  {
   "cell_type": "code",
   "execution_count": 2,
   "metadata": {},
   "outputs": [],
   "source": [
    "import torch\n",
    "import torch.nn.functional as F\n",
    "import json, copy\n",
    "import h5py\n",
    "import numpy as np\n",
    "import math\n",
    "import matplotlib.pyplot as plt\n",
    "from matplotlib.pyplot import imshow\n",
    "from PIL import Image, ImageDraw"
   ]
  },
  {
   "cell_type": "code",
   "execution_count": 3,
   "metadata": {},
   "outputs": [],
   "source": [
    "from sklearn.metrics import confusion_matrix\n",
    "import seaborn as sns\n",
    "from sklearn.cluster import KMeans\n",
    "import scipy as sp\n",
    "from scipy.cluster import hierarchy"
   ]
  },
  {
   "cell_type": "code",
   "execution_count": 4,
   "metadata": {},
   "outputs": [],
   "source": [
    "from tqdm import tqdm"
   ]
  },
  {
   "cell_type": "code",
   "execution_count": 5,
   "metadata": {},
   "outputs": [],
   "source": [
    "project_dir = \"/home/miskai/デスクトップ/related-work/scene-graph-benchmark\"\n",
    "image_file = json.load(open(f'{project_dir}/datasets/vg/image_data.json'))\n",
    "vocab_file = json.load(open(f'{project_dir}/datasets/vg/VG-SGG-dicts-with-attri.json'))\n",
    "data_file = h5py.File(f'{project_dir}/datasets/vg/VG-SGG-with-attri.h5', 'r')\n",
    "# remove invalid image\n",
    "corrupted_ims = [1592, 1722, 4616, 4617]\n",
    "tmp = []\n",
    "for item in image_file:\n",
    "    if int(item['image_id']) not in corrupted_ims:\n",
    "        tmp.append(item)\n",
    "image_file = tmp"
   ]
  },
  {
   "cell_type": "code",
   "execution_count": 34,
   "metadata": {},
   "outputs": [],
   "source": [
    "result_path = '/home/miskai/デスクトップ/related-work/scene-graph-benchmark/SGG-TD2'\n",
    "detected_origin_path = f'{result_path}/checkpoints/knowledgetrans-motifs-predcls-exmp-3cluster/cat-base/inference/VG_stanford_filtered_with_attribute_test/'\n",
    "detected_origin_result = torch.load(detected_origin_path + 'eval_results.pytorch')\n",
    "detected_info = json.load(open(detected_origin_path + 'visual_info.json'))"
   ]
  },
  {
   "cell_type": "code",
   "execution_count": 28,
   "metadata": {},
   "outputs": [],
   "source": [
    "def bbox_match(pred, gt):\n",
    "    \"\"\"Args:\n",
    "        pred: [x0, y0, x1, y1]\n",
    "        gt: same as above\n",
    "    Returns: whether objects in gt and prediction are seen as same objects\n",
    "    \"\"\"\n",
    "    xA = max(pred[0], gt[0])\n",
    "    yA = max(pred[1], gt[1])\n",
    "    xB = min(pred[2], gt[2])\n",
    "    yB = min(pred[3], gt[3])\n",
    "    intra_area = max(0, xB-xA+1)*max(0, yB-yA+1)\n",
    "    pred_area = (pred[2]-pred[0]+1)*(pred[3]-pred[1]+1)\n",
    "    gt_area = (gt[2]-gt[0]+1)*(gt[3]-gt[1]+1)\n",
    "    iou = intra_area/float(pred_area+gt_area-intra_area)\n",
    "    return iou>0.5"
   ]
  },
  {
   "cell_type": "code",
   "execution_count": 29,
   "metadata": {},
   "outputs": [],
   "source": [
    "def find_match(pred_rels, gt_rels):\n",
    "    \"\"\"\n",
    "    pred_rels, gt_rels: relation triplets\n",
    "        sub_label: label of subject (String)\n",
    "        obj_label: label of object  (String)\n",
    "        sub_bbox:  bbox of subject  ([num_rel, 4])\n",
    "        obj_bbox:  bbox of object   ([num_rel, 4])\n",
    "        rel_label: relation label   (Int)\n",
    "    \"\"\"\n",
    "    selected_pred_label = []\n",
    "    selected_gt_label = []\n",
    "    for pre in pred_rels:\n",
    "        for gt in gt_rels:\n",
    "            if pre[\"sub_label\"]==gt[\"sub_label\"] and pre[\"obj_label\"]==gt[\"obj_label\"] and bbox_match(pre[\"sub_bbox\"],gt[\"sub_bbox\"] ) and bbox_match(pre[\"obj_bbox\"], gt[\"obj_bbox\"]):\n",
    "                selected_pred_label.append(pre[\"rel_label\"])\n",
    "                selected_gt_label.append(gt[\"rel_label\"])\n",
    "    return selected_pred_label, selected_gt_label"
   ]
  },
  {
   "cell_type": "code",
   "execution_count": 30,
   "metadata": {},
   "outputs": [],
   "source": [
    "def extract_failure(pred_rels, gt_rels):\n",
    "    \"\"\" See failed prediction samples\n",
    "    Args:\n",
    "        pred_rels: list[{sub_label: subject_label\n",
    "                    obj_label: object label\n",
    "                    sub_bbox: subject bbox\n",
    "                    obj_bbox: object bbox\n",
    "                    rel_label: relation label}]\n",
    "        gt_rels: same as above\n",
    "    \"\"\"\n",
    "    res = []\n",
    "    for i, pred in enumerate(pred_rels):\n",
    "        flag = False\n",
    "        failed_gt = None\n",
    "        # check every gt to see if a predicted predicte is failure or not\n",
    "        for gt in gt_rels:\n",
    "            if pred[\"sub_label\"] == gt['sub_label'] and pred['obj_label'] == gt[\"obj_label\"]:\n",
    "                if bbox_match(pred['sub_bbox'], gt[\"sub_bbox\"]) and bbox_match(pred[\"obj_bbox\"], gt[\"obj_bbox\"]):\n",
    "                    if gt[\"rel_label\"] == pred[\"rel_label\"]:\n",
    "                        flag = True\n",
    "                        break\n",
    "                    else:\n",
    "                        failed_gt = gt\n",
    "        if not flag and failed_gt:\n",
    "            res.append({\"prediction\": pred, \"groundtruth\":failed_gt})\n",
    "    return res  "
   ]
  },
  {
   "cell_type": "code",
   "execution_count": 31,
   "metadata": {},
   "outputs": [],
   "source": [
    "pred2idx = vocab_file[\"predicate_to_idx\"]"
   ]
  },
  {
   "cell_type": "code",
   "execution_count": 32,
   "metadata": {},
   "outputs": [
    {
     "name": "stderr",
     "output_type": "stream",
     "text": [
      "100%|██████████| 26446/26446 [00:08<00:00, 3140.60it/s]\n"
     ]
    }
   ],
   "source": [
    "##### This is a code to see failed samples ######\n",
    "result = {}\n",
    "for i in tqdm(range(26446)):\n",
    "    prediction = detected_origin_result[\"predictions\"][i]\n",
    "    groundtruths = detected_origin_result[\"groundtruths\"][i]\n",
    "    idx2label = vocab_file['idx_to_label']\n",
    "    idx2pred = vocab_file['idx_to_predicate']\n",
    "    # prediction boxes\n",
    "    pred_boxes = prediction.bbox\n",
    "    # predicted object label corresponding to bbox above\n",
    "    pred_labels = prediction.get_field(\"pred_labels\").tolist()\n",
    "    # ground truth boxes\n",
    "    gt_boxes = groundtruths.bbox\n",
    "    # ground truth label corresponding to bbox above\n",
    "    gt_labels = groundtruths.get_field(\"labels\").tolist()\n",
    "    # rel pair lists\n",
    "    pred_rels = []\n",
    "    gt_rels =[]\n",
    "    # ground truth triplet\n",
    "    gt_triplets = groundtruths.get_field('relation_tuple').tolist()\n",
    "    for tri in gt_triplets:\n",
    "        tmp = {}\n",
    "        tmp[\"sub_label\"] = idx2label[str(gt_labels[tri[0]])]\n",
    "        tmp[\"obj_label\"] = idx2label[str(gt_labels[tri[1]])]\n",
    "        tmp[\"sub_bbox\"] = gt_boxes[tri[0]].tolist()\n",
    "        tmp[\"obj_bbox\"] = gt_boxes[tri[1]].tolist()\n",
    "        tmp[\"rel_label\"] = idx2pred[str(tri[2])]\n",
    "        gt_rels.append(tmp)\n",
    "    # prediction relation triplet\n",
    "    pred_rel_pair = prediction.get_field('rel_pair_idxs').tolist()\n",
    "    pred_rel_label = prediction.get_field('pred_rel_labels')[:50]\n",
    "    for j, k in zip(pred_rel_pair, pred_rel_label.tolist()):\n",
    "        tmp = {}\n",
    "        tmp[\"sub_label\"] = idx2label[str(pred_labels[j[0]])]\n",
    "        tmp[\"obj_label\"] = idx2label[str(pred_labels[j[1]])]\n",
    "        tmp[\"sub_bbox\"] = pred_boxes[j[0]].tolist()\n",
    "        tmp[\"obj_bbox\"] = pred_boxes[j[1]].tolist()\n",
    "        tmp[\"rel_label\"] = idx2pred[str(k)]\n",
    "        pred_rels.append(tmp)\n",
    "    failure = extract_failure(pred_rels, gt_rels)\n",
    "    result[str(i)] = failure"
   ]
  },
  {
   "cell_type": "code",
   "execution_count": 33,
   "metadata": {},
   "outputs": [],
   "source": [
    "with open (\"/home/miskai/デスクトップ/related-work/scene-graph-benchmark/SGG-TD2/analysis/kt-predcls-failure.json\", \"w\") as f:\n",
    "    json.dump(result, f, indent=2)"
   ]
  },
  {
   "cell_type": "markdown",
   "metadata": {},
   "source": [
    "# confusion matrix"
   ]
  },
  {
   "cell_type": "code",
   "execution_count": 35,
   "metadata": {},
   "outputs": [
    {
     "name": "stderr",
     "output_type": "stream",
     "text": [
      "100%|██████████| 26446/26446 [00:20<00:00, 1319.55it/s]\n"
     ]
    }
   ],
   "source": [
    "pred = []\n",
    "gt = []\n",
    "for i in tqdm(range(26446)):\n",
    "    prediction = detected_origin_result[\"predictions\"][i]\n",
    "    groundtruths = detected_origin_result[\"groundtruths\"][i]\n",
    "    idx2label = vocab_file['idx_to_label']\n",
    "    idx2pred = vocab_file['idx_to_predicate']\n",
    "    # prediction boxes\n",
    "    pred_boxes = prediction.bbox\n",
    "    # predicted object label corresponding to bbox above\n",
    "    pred_labels = prediction.get_field(\"pred_labels\").tolist()\n",
    "    # ground truth boxes\n",
    "    gt_boxes = groundtruths.bbox\n",
    "    # ground truth label corresponding to bbox above\n",
    "    gt_labels = groundtruths.get_field(\"labels\").tolist()\n",
    "    # rel pair lists\n",
    "    pred_rels = []\n",
    "    gt_rels =[]\n",
    "    # ground truth triplet\n",
    "    gt_triplets = groundtruths.get_field('relation_tuple').tolist()\n",
    "    for tri in gt_triplets:\n",
    "        tmp = {}\n",
    "        tmp[\"sub_label\"] = idx2label[str(gt_labels[tri[0]])]\n",
    "        tmp[\"obj_label\"] = idx2label[str(gt_labels[tri[1]])]\n",
    "        tmp[\"sub_bbox\"] = gt_boxes[tri[0]].tolist()\n",
    "        tmp[\"obj_bbox\"] = gt_boxes[tri[1]].tolist()\n",
    "        tmp[\"rel_label\"] = tri[2]\n",
    "        gt_rels.append(tmp)\n",
    "    # prediction relation triplet\n",
    "    pred_rel_pair = prediction.get_field('rel_pair_idxs').tolist()\n",
    "    pred_rel_label = prediction.get_field('pred_rel_labels')[:50]\n",
    "    for j, k in zip(pred_rel_pair, pred_rel_label.tolist()):\n",
    "        tmp = {}\n",
    "        tmp[\"sub_label\"] = idx2label[str(pred_labels[j[0]])]\n",
    "        tmp[\"obj_label\"] = idx2label[str(pred_labels[j[1]])]\n",
    "        tmp[\"sub_bbox\"] = pred_boxes[j[0]].tolist()\n",
    "        tmp[\"obj_bbox\"] = pred_boxes[j[1]].tolist()\n",
    "        tmp[\"rel_label\"] = k\n",
    "        pred_rels.append(tmp)\n",
    "    selected_pred_label, selected_gt_label = find_match(pred_rels, gt_rels)\n",
    "    pred = pred+selected_pred_label\n",
    "    gt = gt+selected_gt_label"
   ]
  },
  {
   "cell_type": "code",
   "execution_count": 414,
   "metadata": {},
   "outputs": [
    {
     "data": {
      "text/plain": [
       "True"
      ]
     },
     "execution_count": 414,
     "metadata": {},
     "output_type": "execute_result"
    }
   ],
   "source": [
    "len(pred) == len(gt)"
   ]
  },
  {
   "cell_type": "code",
   "execution_count": 415,
   "metadata": {},
   "outputs": [
    {
     "data": {
      "text/plain": [
       "0.6092385381273393"
      ]
     },
     "execution_count": 415,
     "metadata": {},
     "output_type": "execute_result"
    }
   ],
   "source": [
    "pred = np.array(pred)\n",
    "gt = np.array(gt)\n",
    "len(pred[pred==gt])/len(gt)"
   ]
  },
  {
   "cell_type": "code",
   "execution_count": 416,
   "metadata": {},
   "outputs": [
    {
     "name": "stdout",
     "output_type": "stream",
     "text": [
      "{'on': 72068, 'near': 6257, 'has': 27394, 'wearing': 25137, 'under': 1626, 'in front of': 1071, 'of': 21886, 'in': 12045, 'above': 2412, 'behind': 3846, 'sitting on': 2662, 'carrying': 740, 'walking on': 728, 'with': 5429, 'parked on': 383, 'wears': 2772, 'riding': 2355, 'on back of': 214, 'at': 666, 'holding': 5049, 'looking at': 310, 'using': 288, 'attached to': 905, 'standing on': 1460, 'hanging from': 352, 'eating': 396, 'laying on': 382, 'over': 400, 'part of': 158, 'across': 70, 'along': 122, 'for': 289, 'says': 10, 'to': 154, 'painted on': 102, 'growing on': 103, 'watching': 255, 'against': 55, 'flying in': 2, 'and': 168, 'between': 153, 'belonging to': 885, 'walking in': 79, 'lying on': 183, 'covered in': 172, 'covering': 247, 'mounted on': 208, 'from': 89, 'made of': 23, 'playing': 21}\n"
     ]
    }
   ],
   "source": [
    "cnt = {}\n",
    "for g in gt:\n",
    "    g_pred = idx2pred[str(g)]\n",
    "    if g_pred not in cnt.keys():\n",
    "        cnt[g_pred] = 1\n",
    "    else:\n",
    "        cnt[g_pred] += 1\n",
    "print(cnt)"
   ]
  },
  {
   "cell_type": "code",
   "execution_count": 417,
   "metadata": {},
   "outputs": [],
   "source": [
    "val_mat = confusion_matrix(gt, pred)"
   ]
  },
  {
   "cell_type": "code",
   "execution_count": 418,
   "metadata": {},
   "outputs": [],
   "source": [
    "mat = copy.deepcopy(val_mat).astype(float)\n",
    "for i in range(mat.shape[0]):\n",
    "    if np.sum(mat[i]):\n",
    "        mat[i] = mat[i]/np.sum(mat[i])"
   ]
  },
  {
   "cell_type": "code",
   "execution_count": 419,
   "metadata": {},
   "outputs": [],
   "source": [
    "labels = np.array([idx2pred[str(i)] for i in set(gt)], dtype=str)"
   ]
  },
  {
   "cell_type": "code",
   "execution_count": 420,
   "metadata": {},
   "outputs": [
    {
     "data": {
      "text/plain": [
       "<AxesSubplot:>"
      ]
     },
     "execution_count": 420,
     "metadata": {},
     "output_type": "execute_result"
    },
    {
     "data": {
      "image/png": "[encoded data removed]",
      "text/plain": [
       "<Figure size 1440x1080 with 2 Axes>"
      ]
     },
     "metadata": {
      "needs_background": "light"
     },
     "output_type": "display_data"
    }
   ],
   "source": [
    "plt.figure(figsize=(20,15))\n",
    "sns.heatmap(mat, cmap=\"Blues\", xticklabels=labels, yticklabels=labels)\n",
    "# plt.savefig(\"/home/miskai/デスクトップ/related-work/scene-graph-benchmark/SGG-TD2/analysis/confusion_matrix/kt2cluster-cat-base-motifs-predcls-conf.png\", dpi=300)"
   ]
  },
  {
   "cell_type": "markdown",
   "metadata": {},
   "source": [
    "# Hierarchical Analysis"
   ]
  },
  {
   "cell_type": "code",
   "execution_count": 21,
   "metadata": {},
   "outputs": [
    {
     "name": "stderr",
     "output_type": "stream",
     "text": [
      "100%|██████████| 26446/26446 [00:19<00:00, 1361.56it/s]\n"
     ]
    }
   ],
   "source": [
    "#find matched pair\n",
    "pred = []\n",
    "gt = []\n",
    "for i in tqdm(range(26446)):\n",
    "    prediction = detected_origin_result[\"predictions\"][i]\n",
    "    groundtruths = detected_origin_result[\"groundtruths\"][i]\n",
    "    idx2label = vocab_file['idx_to_label']\n",
    "    idx2pred = vocab_file['idx_to_predicate']\n",
    "    # prediction boxes\n",
    "    pred_boxes = prediction.bbox\n",
    "    # predicted object label corresponding to bbox above\n",
    "    pred_labels = prediction.get_field(\"pred_labels\").tolist()\n",
    "    # ground truth boxes\n",
    "    gt_boxes = groundtruths.bbox\n",
    "    # ground truth label corresponding to bbox above\n",
    "    gt_labels = groundtruths.get_field(\"labels\").tolist()\n",
    "    # rel pair lists\n",
    "    pred_rels = []\n",
    "    gt_rels =[]\n",
    "    # ground truth triplet\n",
    "    gt_triplets = groundtruths.get_field('relation_tuple').tolist()\n",
    "    for tri in gt_triplets:\n",
    "        tmp = {}\n",
    "        tmp[\"sub_label\"] = idx2label[str(gt_labels[tri[0]])]\n",
    "        tmp[\"obj_label\"] = idx2label[str(gt_labels[tri[1]])]\n",
    "        tmp[\"sub_bbox\"] = gt_boxes[tri[0]].tolist()\n",
    "        tmp[\"obj_bbox\"] = gt_boxes[tri[1]].tolist()\n",
    "        tmp[\"rel_label\"] = tri[2]\n",
    "        gt_rels.append(tmp)\n",
    "    # prediction relation triplet\n",
    "    pred_rel_pair = prediction.get_field('rel_pair_idxs').tolist()\n",
    "    pred_rel_label = prediction.get_field('pred_rel_labels')[:50]\n",
    "    for j, k in zip(pred_rel_pair, pred_rel_label.tolist()):\n",
    "        tmp = {}\n",
    "        tmp[\"sub_label\"] = idx2label[str(pred_labels[j[0]])]\n",
    "        tmp[\"obj_label\"] = idx2label[str(pred_labels[j[1]])]\n",
    "        tmp[\"sub_bbox\"] = pred_boxes[j[0]].tolist()\n",
    "        tmp[\"obj_bbox\"] = pred_boxes[j[1]].tolist()\n",
    "        tmp[\"rel_label\"] = k\n",
    "        pred_rels.append(tmp)\n",
    "    selected_pred_label, selected_gt_label = find_match(pred_rels, gt_rels)\n",
    "    pred = pred+selected_pred_label\n",
    "    gt = gt+selected_gt_label"
   ]
  },
  {
   "cell_type": "code",
   "execution_count": 36,
   "metadata": {},
   "outputs": [],
   "source": [
    "json_file = \"/home/miskai/デスクトップ/related-work/scene-graph-benchmark/SGG-TD2/datasets/vg/cat-base-3cluster.json\"\n",
    "taxonomy = open(json_file)\n",
    "taxonomy = json.load(taxonomy)"
   ]
  },
  {
   "cell_type": "code",
   "execution_count": 37,
   "metadata": {},
   "outputs": [],
   "source": [
    "pars = taxonomy[\"children\"][\"root\"]\n",
    "par_dic = {}\n",
    "for par in pars:\n",
    "    for ch in taxonomy[\"children\"][par]:\n",
    "        par_dic[pred2idx[ch]] = par"
   ]
  },
  {
   "cell_type": "code",
   "execution_count": 38,
   "metadata": {},
   "outputs": [
    {
     "name": "stdout",
     "output_type": "stream",
     "text": [
      "count: 182770\n",
      "Root Accuracy: 0.915746566723204\n"
     ]
    }
   ],
   "source": [
    "count = 0\n",
    "correct = 0\n",
    "failed_predicate = []\n",
    "for pre, gr in zip(pred, gt):\n",
    "    if par_dic[pre]==par_dic[gr]:\n",
    "        correct += 1\n",
    "    else:\n",
    "        failed_predicate.append((idx2pred[str(pre)], idx2pred[str(gr)])) \n",
    "    count += 1\n",
    "print(f\"count: {count}\")\n",
    "print(f\"Root Accuracy: {correct/count}\")"
   ]
  },
  {
   "cell_type": "code",
   "execution_count": 18,
   "metadata": {},
   "outputs": [
    {
     "name": "stdout",
     "output_type": "stream",
     "text": [
      "{'near': 2233, 'on': 2011, 'with': 338, 'in': 3115, 'looking at': 73, 'in front of': 276, 'at': 265, 'along': 41, 'behind': 271, 'carrying': 232, 'holding': 679, 'above': 296, 'under': 500, 'over': 228, 'of': 463, 'wearing': 45, 'watching': 55, 'has': 282, 'across': 29, 'painted on': 72, 'attached to': 26, 'for': 132, 'eating': 44, 'using': 43, 'standing on': 118, 'covered in': 99, 'lying on': 5, 'laying on': 11, 'sitting on': 54, 'to': 6, 'from': 80, 'between': 46, 'and': 24, 'riding': 63, 'against': 10, 'wears': 7, 'on back of': 3, 'growing on': 4, 'walking in': 7, 'says': 2, 'playing': 2, 'hanging from': 3, 'made of': 2, 'covering': 17, 'mounted on': 1, 'part of': 0, 'belonging to': 1, 'walking on': 4}\n"
     ]
    }
   ],
   "source": [
    "# no root KT\n",
    "failed_cnt = {}\n",
    "for fail in failed_predicate:\n",
    "    if fail[1] in failed_cnt.keys():\n",
    "        failed_cnt[fail[1]] += 1\n",
    "    else:\n",
    "        failed_cnt[fail[1]] = 1\n",
    "print(failed_cnt)"
   ]
  },
  {
   "cell_type": "code",
   "execution_count": 25,
   "metadata": {},
   "outputs": [
    {
     "name": "stdout",
     "output_type": "stream",
     "text": [
      "{'in': 2662, 'above': 390, 'near': 2315, 'on': 2333, 'with': 427, 'in front of': 312, 'has': 466, 'at': 242, 'behind': 373, 'carrying': 274, 'holding': 836, 'under': 444, 'over': 216, 'of': 346, 'watching': 41, 'across': 57, 'made of': 6, 'says': 5, 'painted on': 87, 'attached to': 23, 'for': 92, 'eating': 18, 'standing on': 149, 'riding': 147, 'using': 49, 'wearing': 54, 'to': 10, 'along': 46, 'between': 45, 'from': 76, 'looking at': 77, 'sitting on': 97, 'hanging from': 15, 'and': 28, 'on back of': 6, 'parked on': 0, 'wears': 7, 'growing on': 6, 'walking in': 4, 'laying on': 27, 'belonging to': 1, 'against': 11, 'covered in': 6, 'covering': 16, 'mounted on': 1, 'part of': 0, 'playing': 0, 'lying on': 3, 'walking on': 4}\n"
     ]
    }
   ],
   "source": [
    "# normal cat-base\n",
    "failed_cnt = {}\n",
    "for fail in failed_predicate:\n",
    "    if fail[1] in failed_cnt.keys():\n",
    "        failed_cnt[fail[1]] += 1\n",
    "    else:\n",
    "        failed_cnt[fail[1]] = 1\n",
    "print(failed_cnt)"
   ]
  },
  {
   "cell_type": "code",
   "execution_count": 399,
   "metadata": {},
   "outputs": [],
   "source": [
    "root_mat = confusion_matrix(list(map(lambda x: x[1], failed_predicate)), list(map(lambda x: x[0], failed_predicate)))\n",
    "mat = copy.deepcopy(root_mat).astype(float)\n",
    "for i in range(mat.shape[0]):\n",
    "    if np.sum(mat[i]):\n",
    "        mat[i] = mat[i]/np.sum(mat[i])"
   ]
  },
  {
   "cell_type": "code",
   "execution_count": 400,
   "metadata": {},
   "outputs": [],
   "source": [
    "labels = sorted(set(list(map(lambda x: x[1], failed_predicate))+list(map(lambda x: x[0], failed_predicate))))"
   ]
  },
  {
   "cell_type": "code",
   "execution_count": 402,
   "metadata": {},
   "outputs": [
    {
     "data": {
      "image/png": "[encoded data removed]",
      "text/plain": [
       "<Figure size 1440x1080 with 2 Axes>"
      ]
     },
     "metadata": {
      "needs_background": "light"
     },
     "output_type": "display_data"
    }
   ],
   "source": [
    "plt.figure(figsize=(20,15))\n",
    "sns.heatmap(mat, cmap=\"Blues\", xticklabels=labels, yticklabels=labels)\n",
    "# plt.savefig(\"/home/miskai/デスクトップ/related-work/scene-graph-benchmark/SGG-TD2/analysis/confusion_matrix/kt2cluster-cat-base-motifs-predcls-root-conf.png\", dpi=300)"
   ]
  },
  {
   "cell_type": "markdown",
   "metadata": {},
   "source": [
    "# Group Analysis"
   ]
  },
  {
   "cell_type": "code",
   "execution_count": 87,
   "metadata": {},
   "outputs": [],
   "source": [
    "group_path = \"/home/miskai/デスクトップ/related-work/scene-graph-benchmark/SGG-TD2/datasets/vg/random_group.npy\"\n",
    "G = np.load(group_path, allow_pickle=True).item()\n",
    "groups = G[\"groups\"]\n",
    "num_groups = G[\"num_groups\"]\n",
    "cls2group = -np.ones(51, dtype=int)\n",
    "for num, group in enumerate(groups):\n",
    "    for clas in group:\n",
    "        cls2group[clas] = num"
   ]
  },
  {
   "cell_type": "code",
   "execution_count": 88,
   "metadata": {},
   "outputs": [
    {
     "name": "stdout",
     "output_type": "stream",
     "text": [
      "[0 7 3 0 1 1 8 5 7 1 1 6 2 6 6 3 8 0 4 8 9 7 7 5 1 0 4 2 3 9 9 9 4 8 0 0 2\n",
      " 6 8 2 7 5 2 5 3 4 6 1 9 5 7]\n"
     ]
    }
   ],
   "source": [
    "print(cls2group)"
   ]
  },
  {
   "cell_type": "code",
   "execution_count": 98,
   "metadata": {},
   "outputs": [],
   "source": [
    "def find_match_group(pred_rels, gt_rels, unconstrained=False):\n",
    "    \"\"\"\n",
    "    pred_rels, gt_rels: relation triplets\n",
    "        sub_label: label of subject (String)\n",
    "        obj_label: label of object  (String)\n",
    "        sub_bbox:  bbox of subject  ([num_rel, 4])\n",
    "        obj_bbox:  bbox of object   ([num_rel, 4])\n",
    "        rel_label: relation label   (Int) \n",
    "        (for pred_rels) candidates: predictions in every group (List)\n",
    "        (for pred_rels) pred_probs: prediction probability in every group (List)\n",
    "    \"\"\"\n",
    "    selected_pred_label = []\n",
    "    selected_gt_label = []\n",
    "    pred_groups = []\n",
    "    gt_groups = []\n",
    "    pred_probs = []\n",
    "    gt_probs = []\n",
    "    for pre in pred_rels:\n",
    "        for gt in gt_rels:\n",
    "            if pre[\"sub_label\"]==gt[\"sub_label\"] and pre[\"obj_label\"]==gt[\"obj_label\"] and bbox_match(pre[\"sub_bbox\"],gt[\"sub_bbox\"] ) and bbox_match(pre[\"obj_bbox\"], gt[\"obj_bbox\"]):\n",
    "                selected_gt_label.append(gt[\"rel_label\"])\n",
    "                gt_group = cls2group[gt[\"rel_label\"]]\n",
    "                gt_groups.append(gt_group)\n",
    "                gt_probs.append(pre[\"pred_probs\"][gt_group].numpy().tolist())\n",
    "                selected_pred_label.append(pre[\"rel_label\"])\n",
    "                pred_group = cls2group[pre[\"rel_label\"]]\n",
    "                pred_groups.append(pred_group)\n",
    "                pred_probs.append(pre[\"pred_probs\"][pred_group].numpy().tolist())\n",
    "                if unconstrained:\n",
    "                    for num, label in enumerate(pre[\"candidates\"]):\n",
    "                        if label == gt[\"rel_label\"]:\n",
    "                            selected_pred_label[-1]=label\n",
    "                            pred_groups.append(num)\n",
    "                            pred_probs.append(pre[\"pred_probs\"][num].numpy().tolist())\n",
    "                \n",
    "    return selected_pred_label, selected_gt_label, pred_groups, gt_groups, pred_probs, gt_probs"
   ]
  },
  {
   "cell_type": "code",
   "execution_count": 101,
   "metadata": {},
   "outputs": [
    {
     "name": "stderr",
     "output_type": "stream",
     "text": [
      "100%|██████████| 26446/26446 [03:59<00:00, 110.37it/s]\n"
     ]
    }
   ],
   "source": [
    "pred = []\n",
    "gt = []\n",
    "pred_groups = []\n",
    "gt_groups = []\n",
    "pred_distribs = []\n",
    "gt_distribs = []\n",
    "for i in tqdm(range(26446)):\n",
    "# for i in tqdm(range(1)):\n",
    "    prediction = detected_origin_result[\"predictions\"][i]\n",
    "    groundtruths = detected_origin_result[\"groundtruths\"][i]\n",
    "    idx2label = vocab_file['idx_to_label']\n",
    "    idx2pred = vocab_file['idx_to_predicate']\n",
    "    # prediction boxes\n",
    "    pred_boxes = prediction.bbox\n",
    "    # predicted object label corresponding to bbox above\n",
    "    pred_labels = prediction.get_field(\"pred_labels\").tolist()\n",
    "    # ground truth boxes\n",
    "    gt_boxes = groundtruths.bbox\n",
    "    # ground truth label corresponding to bbox above\n",
    "    gt_labels = groundtruths.get_field(\"labels\").tolist()\n",
    "    # rel pair lists\n",
    "    pred_rels = []\n",
    "    gt_rels =[]\n",
    "    # ground truth triplet\n",
    "    gt_triplets = groundtruths.get_field('relation_tuple').tolist()\n",
    "    for tri in gt_triplets:\n",
    "        tmp = {}\n",
    "        tmp[\"sub_label\"] = idx2label[str(gt_labels[tri[0]])]\n",
    "        tmp[\"obj_label\"] = idx2label[str(gt_labels[tri[1]])]\n",
    "        tmp[\"sub_bbox\"] = gt_boxes[tri[0]].tolist()\n",
    "        tmp[\"obj_bbox\"] = gt_boxes[tri[1]].tolist()\n",
    "        tmp[\"rel_label\"] = tri[2]\n",
    "        gt_rels.append(tmp)\n",
    "    # prediction relation triplet\n",
    "    pred_rel_pair = prediction.get_field('rel_pair_idxs').tolist()\n",
    "    pred_rel_label = prediction.get_field('pred_rel_labels')[:50]\n",
    "    for m, (j, k) in enumerate(zip(pred_rel_pair, pred_rel_label.tolist())):\n",
    "        tmp = {}\n",
    "        tmp[\"sub_label\"] = idx2label[str(pred_labels[j[0]])]\n",
    "        tmp[\"obj_label\"] = idx2label[str(pred_labels[j[1]])]\n",
    "        tmp[\"sub_bbox\"] = pred_boxes[j[0]].tolist()\n",
    "        tmp[\"obj_bbox\"] = pred_boxes[j[1]].tolist()\n",
    "        tmp[\"rel_label\"] = k\n",
    "        tmp[\"pred_probs\"] = []\n",
    "        tmp[\"candidates\"] = []\n",
    "        for num in range(num_groups):\n",
    "            pred_probs = prediction.get_field(f\"pred_rel_probs{num}\")[m]\n",
    "            tmp[\"pred_probs\"].append(pred_probs)\n",
    "            idx = pred_probs.argmax()\n",
    "            tmp[\"candidates\"].append(groups[num][idx])\n",
    "        pred_rels.append(tmp)\n",
    "    selected_pred_label, selected_gt_label, pred_g, gt_g, pred_p, gt_p = find_match_group(pred_rels, gt_rels)\n",
    "    pred = pred+selected_pred_label\n",
    "    gt = gt+selected_gt_label\n",
    "    pred_groups = pred_groups+pred_g\n",
    "    gt_groups = gt_groups+gt_g\n",
    "    pred_distribs = pred_distribs+pred_p\n",
    "    gt_distribs = gt_distribs+gt_p"
   ]
  },
  {
   "cell_type": "code",
   "execution_count": 102,
   "metadata": {},
   "outputs": [
    {
     "data": {
      "text/plain": [
       "True"
      ]
     },
     "execution_count": 102,
     "metadata": {},
     "output_type": "execute_result"
    }
   ],
   "source": [
    "len(gt)==len(pred)"
   ]
  },
  {
   "cell_type": "code",
   "execution_count": 104,
   "metadata": {},
   "outputs": [
    {
     "data": {
      "text/plain": [
       "True"
      ]
     },
     "execution_count": 104,
     "metadata": {},
     "output_type": "execute_result"
    }
   ],
   "source": [
    "len(gt_groups)==len(pred_groups)"
   ]
  },
  {
   "cell_type": "code",
   "execution_count": 103,
   "metadata": {},
   "outputs": [
    {
     "data": {
      "text/plain": [
       "0.017786236996685592"
      ]
     },
     "execution_count": 103,
     "metadata": {},
     "output_type": "execute_result"
    }
   ],
   "source": [
    "pred = np.array(pred)\n",
    "gt = np.array(gt)\n",
    "len(pred[pred==gt])/len(gt)"
   ]
  },
  {
   "cell_type": "code",
   "execution_count": 105,
   "metadata": {},
   "outputs": [],
   "source": [
    "val_mat = confusion_matrix(gt_groups, pred_groups)"
   ]
  },
  {
   "cell_type": "code",
   "execution_count": 106,
   "metadata": {},
   "outputs": [],
   "source": [
    "mat = copy.deepcopy(val_mat).astype(float)\n",
    "for i in range(mat.shape[0]):\n",
    "    if np.sum(mat[i]):\n",
    "        mat[i] = mat[i]/np.sum(mat[i])"
   ]
  },
  {
   "cell_type": "code",
   "execution_count": 107,
   "metadata": {},
   "outputs": [],
   "source": [
    "labels = np.array([idx2pred[str(i)] for i in set(gt)], dtype=str)"
   ]
  },
  {
   "cell_type": "code",
   "execution_count": 111,
   "metadata": {},
   "outputs": [
    {
     "data": {
      "text/plain": [
       "<AxesSubplot:>"
      ]
     },
     "execution_count": 111,
     "metadata": {},
     "output_type": "execute_result"
    },
    {
     "data": {
      "image/png": "[encoded data removed]",
      "text/plain": [
       "<Figure size 720x576 with 2 Axes>"
      ]
     },
     "metadata": {
      "needs_background": "light"
     },
     "output_type": "display_data"
    }
   ],
   "source": [
    "plt.figure(figsize=(10,8))\n",
    "sns.heatmap(mat, cmap=\"Blues\") # group confusion matrix\n",
    "# plt.figure(figsize=(20,20))\n",
    "# sns.heatmap(mat, cmap=\"Blues\", xticklabels=labels, yticklabels=labels)\n",
    "# plt.savefig(\"/home/miskai/デスクトップ/related-work/scene-graph-benchmark/SGG-TD2/analysis/random-entropy-unconstrained-conf.png\", dpi=300)"
   ]
  },
  {
   "cell_type": "code",
   "execution_count": 126,
   "metadata": {},
   "outputs": [],
   "source": [
    "def vis_distrib(prob, group):\n",
    "    plt.bar([i+1 for i in range(len(prob))], prob, tick_label=[idx2pred[str(c)] for c in groups[group]])"
   ]
  },
  {
   "cell_type": "code",
   "execution_count": 139,
   "metadata": {},
   "outputs": [],
   "source": [
    "n = 45"
   ]
  },
  {
   "cell_type": "code",
   "execution_count": 140,
   "metadata": {},
   "outputs": [
    {
     "name": "stdout",
     "output_type": "stream",
     "text": [
      "belonging to\n"
     ]
    },
    {
     "data": {
      "image/png": "[encoded data removed]",
      "text/plain": [
       "<Figure size 432x288 with 1 Axes>"
      ]
     },
     "metadata": {
      "needs_background": "light"
     },
     "output_type": "display_data"
    }
   ],
   "source": [
    "vis_distrib(pred_distribs[n],pred_groups[n])\n",
    "print(idx2pred[str(pred[n])])"
   ]
  },
  {
   "cell_type": "code",
   "execution_count": 141,
   "metadata": {},
   "outputs": [
    {
     "name": "stdout",
     "output_type": "stream",
     "text": [
      "of\n"
     ]
    },
    {
     "data": {
      "image/png": "[encoded data removed]",
      "text/plain": [
       "<Figure size 432x288 with 1 Axes>"
      ]
     },
     "metadata": {
      "needs_background": "light"
     },
     "output_type": "display_data"
    }
   ],
   "source": [
    "vis_distrib(gt_distribs[n],gt_groups[n])\n",
    "print(idx2pred[str(gt[n])])"
   ]
  },
  {
   "cell_type": "code",
   "execution_count": null,
   "metadata": {},
   "outputs": [],
   "source": []
  },
  {
   "cell_type": "code",
   "execution_count": null,
   "metadata": {},
   "outputs": [],
   "source": []
  },
  {
   "cell_type": "code",
   "execution_count": null,
   "metadata": {},
   "outputs": [],
   "source": []
  }
 ],
 "metadata": {
  "interpreter": {
   "hash": "9cee0c3e8d1c24ad445e317ad9d7c265bd18b3ddfd9aa29f4b8bff3337f2bbcc"
  },
  "kernelspec": {
   "display_name": "Python 3.7.0 64-bit ('sgg-td': conda)",
   "name": "python3"
  },
  "language_info": {
   "codemirror_mode": {
    "name": "ipython",
    "version": 3
   },
   "file_extension": ".py",
   "mimetype": "text/x-python",
   "name": "python",
   "nbconvert_exporter": "python",
   "pygments_lexer": "ipython3",
   "version": "3.7.0"
  },
  "orig_nbformat": 4
 },
 "nbformat": 4,
 "nbformat_minor": 2
}