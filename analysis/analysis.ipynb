{
 "cells": [
  {
   "cell_type": "code",
   "execution_count": 62,
   "metadata": {},
   "outputs": [],
   "source": [
    "import torch\n",
    "import torch.nn.functional as F\n",
    "import json, copy, os\n",
    "import h5py\n",
    "import numpy as np\n",
    "import math\n",
    "import matplotlib.pyplot as plt\n",
    "from matplotlib.pyplot import imshow\n",
    "from PIL import Image, ImageDraw"
   ]
  },
  {
   "cell_type": "code",
   "execution_count": 49,
   "metadata": {},
   "outputs": [],
   "source": [
    "from sklearn.metrics import confusion_matrix\n",
    "import seaborn as sns\n",
    "from sklearn.cluster import KMeans\n",
    "import scipy as sp\n",
    "from scipy.cluster import hierarchy\n",
    "from functools import reduce"
   ]
  },
  {
   "cell_type": "code",
   "execution_count": 3,
   "metadata": {},
   "outputs": [],
   "source": [
    "from tqdm import tqdm"
   ]
  },
  {
   "cell_type": "code",
   "execution_count": 4,
   "metadata": {},
   "outputs": [],
   "source": [
    "project_dir = \"/home/acd13805eb/SGG/SGG-TD2\"\n",
    "image_file = json.load(open(f'{project_dir}/datasets/vg/image_data.json'))\n",
    "vocab_file = json.load(open(f'{project_dir}/datasets/vg/VG-SGG-dicts-with-attri.json'))\n",
    "data_file = h5py.File(f'{project_dir}/datasets/vg/VG-SGG-with-attri.h5', 'r')\n",
    "# remove invalid image\n",
    "corrupted_ims = [1592, 1722, 4616, 4617]\n",
    "tmp = []\n",
    "for item in image_file:\n",
    "    if int(item['image_id']) not in corrupted_ims:\n",
    "        tmp.append(item)\n",
    "image_file = tmp"
   ]
  },
  {
   "cell_type": "code",
   "execution_count": 196,
   "metadata": {},
   "outputs": [],
   "source": [
    "result_path = '/groups/gcc50494/home/ohashi/checkpoints/motifs-knowledgetrans-sgcls-exmp-2cluster/RELU/concat_margin40_from_record_mse_percls_avg/ktall_cls0.1'\n",
    "detected_origin_path = f'{result_path}/inference/VG_stanford_filtered_with_attribute_test/'\n",
    "detected_origin_result = torch.load(detected_origin_path + 'eval_results.pytorch')\n",
    "detected_info = json.load(open(detected_origin_path + 'visual_info.json'))"
   ]
  },
  {
   "cell_type": "code",
   "execution_count": 6,
   "metadata": {},
   "outputs": [],
   "source": [
    "def bbox_match(pred, gt):\n",
    "    \"\"\"Args:\n",
    "        pred: [x0, y0, x1, y1]\n",
    "        gt: same as above\n",
    "    Returns: whether objects in gt and prediction are seen as same objects\n",
    "    \"\"\"\n",
    "    xA = max(pred[0], gt[0])\n",
    "    yA = max(pred[1], gt[1])\n",
    "    xB = min(pred[2], gt[2])\n",
    "    yB = min(pred[3], gt[3])\n",
    "    intra_area = max(0, xB-xA+1)*max(0, yB-yA+1)\n",
    "    pred_area = (pred[2]-pred[0]+1)*(pred[3]-pred[1]+1)\n",
    "    gt_area = (gt[2]-gt[0]+1)*(gt[3]-gt[1]+1)\n",
    "    iou = intra_area/float(pred_area+gt_area-intra_area)\n",
    "    return iou>0.5"
   ]
  },
  {
   "cell_type": "code",
   "execution_count": 7,
   "metadata": {},
   "outputs": [],
   "source": [
    "def find_match(pred_rels, gt_rels):\n",
    "    \"\"\"\n",
    "    pred_rels, gt_rels: relation triplets\n",
    "        sub_label: label of subject (String)\n",
    "        obj_label: label of object  (String)\n",
    "        sub_bbox:  bbox of subject  ([num_rel, 4])\n",
    "        obj_bbox:  bbox of object   ([num_rel, 4])\n",
    "        rel_label: relation label   (Int)\n",
    "    \"\"\"\n",
    "    selected_pred_label = []\n",
    "    selected_gt_label = []\n",
    "    # for each gt, check pair matched prediction (if it has corresponding prediction, put 1)\n",
    "    pair_found = [0 for x in range(len(gt_rels))]\n",
    "    # for each prediction, check all matched gt\n",
    "    pred_to_gt = [[] for x in range(len(pred_rels))]\n",
    "    for i, pre in enumerate(pred_rels):\n",
    "        for j, gt in enumerate(gt_rels):\n",
    "            if pre[\"sub_label\"]==gt[\"sub_label\"] and pre[\"obj_label\"]==gt[\"obj_label\"] and bbox_match(pre[\"sub_bbox\"],gt[\"sub_bbox\"] ) and bbox_match(pre[\"obj_bbox\"], gt[\"obj_bbox\"]):\n",
    "                selected_pred_label.append(pre[\"rel_label\"])\n",
    "                selected_gt_label.append(gt[\"rel_label\"])\n",
    "                pair_found[j] = 1\n",
    "                if pre[\"rel_label\"]==gt[\"rel_label\"]:\n",
    "                    pred_to_gt[i].append(j)\n",
    "    # print(pred_to_gt)\n",
    "    return pred_to_gt, selected_pred_label, selected_gt_label, pair_found"
   ]
  },
  {
   "cell_type": "code",
   "execution_count": 8,
   "metadata": {},
   "outputs": [],
   "source": [
    "def extract_failure(pred_rels, gt_rels):\n",
    "    \"\"\" See failed prediction samples\n",
    "    Args:\n",
    "        pred_rels: list[{sub_label: subject_label\n",
    "                    obj_label: object label\n",
    "                    sub_bbox: subject bbox\n",
    "                    obj_bbox: object bbox\n",
    "                    rel_label: relation label}]\n",
    "        gt_rels: same as above\n",
    "    \"\"\"\n",
    "    res = []\n",
    "    for i, pred in enumerate(pred_rels):\n",
    "        flag = False\n",
    "        failed_gt = None\n",
    "        # check every gt to see if a predicted predicte is failure or not\n",
    "        for gt in gt_rels:\n",
    "            if pred[\"sub_label\"] == gt['sub_label'] and pred['obj_label'] == gt[\"obj_label\"]:\n",
    "                if bbox_match(pred['sub_bbox'], gt[\"sub_bbox\"]) and bbox_match(pred[\"obj_bbox\"], gt[\"obj_bbox\"]):\n",
    "                    if gt[\"rel_label\"] == pred[\"rel_label\"]:\n",
    "                        flag = True\n",
    "                        break\n",
    "                    else:\n",
    "                        failed_gt = gt\n",
    "        if not flag and failed_gt:\n",
    "            res.append({\"prediction\": pred, \"groundtruth\":failed_gt})\n",
    "    return res  "
   ]
  },
  {
   "cell_type": "code",
   "execution_count": 9,
   "metadata": {},
   "outputs": [],
   "source": [
    "pred2idx = vocab_file[\"predicate_to_idx\"]"
   ]
  },
  {
   "cell_type": "code",
   "execution_count": 42,
   "metadata": {},
   "outputs": [
    {
     "name": "stderr",
     "output_type": "stream",
     "text": [
      "100%|██████████| 26446/26446 [00:15<00:00, 1739.09it/s]\n"
     ]
    }
   ],
   "source": [
    "##### This is a code to see failed samples ######\n",
    "result = {}\n",
    "for i in tqdm(range(26446)):\n",
    "    prediction = detected_origin_result[\"predictions\"][i]\n",
    "    groundtruths = detected_origin_result[\"groundtruths\"][i]\n",
    "    idx2label = vocab_file['idx_to_label']\n",
    "    idx2pred = vocab_file['idx_to_predicate']\n",
    "    # prediction boxes\n",
    "    pred_boxes = prediction.bbox\n",
    "    # predicted object label corresponding to bbox above\n",
    "    pred_labels = prediction.get_field(\"pred_labels\").long().tolist()\n",
    "    # ground truth boxes\n",
    "    gt_boxes = groundtruths.bbox\n",
    "    # ground truth label corresponding to bbox above\n",
    "    gt_labels = groundtruths.get_field(\"labels\").tolist()\n",
    "    # rel pair lists\n",
    "    pred_rels = []\n",
    "    gt_rels =[]\n",
    "    # ground truth triplet\n",
    "    gt_triplets = groundtruths.get_field('relation_tuple').tolist()\n",
    "    for tri in gt_triplets:\n",
    "        tmp = {}\n",
    "        tmp[\"sub_label\"] = idx2label[str(gt_labels[tri[0]])]\n",
    "        tmp[\"obj_label\"] = idx2label[str(gt_labels[tri[1]])]\n",
    "        tmp[\"sub_bbox\"] = gt_boxes[tri[0]].tolist()\n",
    "        tmp[\"obj_bbox\"] = gt_boxes[tri[1]].tolist()\n",
    "        tmp[\"rel_label\"] = idx2pred[str(tri[2])]\n",
    "        gt_rels.append(tmp)\n",
    "    # prediction relation triplet\n",
    "    pred_rel_pair = prediction.get_field('rel_pair_idxs').long().tolist()\n",
    "    pred_rel_label = prediction.get_field('pred_rel_labels').long()[:100]\n",
    "    for j, k in zip(pred_rel_pair, pred_rel_label.tolist()):\n",
    "        tmp = {}\n",
    "        tmp[\"sub_label\"] = idx2label[str(pred_labels[j[0]])]\n",
    "        tmp[\"obj_label\"] = idx2label[str(pred_labels[j[1]])]\n",
    "        tmp[\"sub_bbox\"] = pred_boxes[j[0]].tolist()\n",
    "        tmp[\"obj_bbox\"] = pred_boxes[j[1]].tolist()\n",
    "        tmp[\"rel_label\"] = idx2pred[str(k)]\n",
    "        pred_rels.append(tmp)\n",
    "    failure = extract_failure(pred_rels, gt_rels)\n",
    "    result[str(i)] = failure"
   ]
  },
  {
   "cell_type": "code",
   "execution_count": 28,
   "metadata": {},
   "outputs": [],
   "source": [
    "with open (\"/home/miskai/デスクトップ/related-work/scene-graph-benchmark/SGG-TD2/analysis/kt-less-patience--predcls-failure.json\", \"w\") as f:\n",
    "    json.dump(result, f, indent=2)"
   ]
  },
  {
   "cell_type": "markdown",
   "metadata": {},
   "source": [
    "# confusion matrix"
   ]
  },
  {
   "cell_type": "code",
   "execution_count": 184,
   "metadata": {},
   "outputs": [
    {
     "name": "stderr",
     "output_type": "stream",
     "text": [
      "100%|██████████| 26446/26446 [01:04<00:00, 410.29it/s]\n"
     ]
    }
   ],
   "source": [
    "pred = []\n",
    "gt = []\n",
    "gt_nums = []\n",
    "recalls = []\n",
    "pair_matchs = []\n",
    "idxs = []\n",
    "# for i in tqdm(range(1)):\n",
    "for i in tqdm(range(26446)):\n",
    "    gt_num = 0\n",
    "    prediction = detected_origin_result[\"predictions\"][i]\n",
    "    groundtruths = detected_origin_result[\"groundtruths\"][i]\n",
    "    idx2label = vocab_file['idx_to_label']\n",
    "    idx2pred = vocab_file['idx_to_predicate']\n",
    "    # prediction boxes\n",
    "    pred_boxes = prediction.bbox\n",
    "    # predicted object label corresponding to bbox above\n",
    "    pred_labels = prediction.get_field(\"pred_labels\").long().tolist()\n",
    "    # ground truth boxes\n",
    "    gt_boxes = groundtruths.bbox\n",
    "    # ground truth label corresponding to bbox above\n",
    "    gt_labels = groundtruths.get_field(\"labels\").tolist()\n",
    "    # rel pair lists\n",
    "    pred_rels = []\n",
    "    gt_rels =[]\n",
    "    # ground truth triplet\n",
    "    gt_triplets = groundtruths.get_field('relation_tuple').tolist()\n",
    "    gt_num = len(gt_triplets)\n",
    "    gt_nums.append(gt_num)\n",
    "    for tri in gt_triplets:\n",
    "        tmp = {}\n",
    "        tmp[\"sub_label\"] = idx2label[str(gt_labels[tri[0]])]\n",
    "        tmp[\"obj_label\"] = idx2label[str(gt_labels[tri[1]])]\n",
    "        tmp[\"sub_bbox\"] = gt_boxes[tri[0]].tolist()\n",
    "        tmp[\"obj_bbox\"] = gt_boxes[tri[1]].tolist()\n",
    "        tmp[\"rel_label\"] = tri[2]\n",
    "        gt_rels.append(tmp)\n",
    "    # prediction relation triplet\n",
    "    pred_rel_pair = prediction.get_field('rel_pair_idxs').long().tolist()\n",
    "    pred_rel_label = prediction.get_field('pred_rel_labels').long()[:100].tolist()\n",
    "    for j, k in zip(pred_rel_pair, pred_rel_label):\n",
    "        tmp = {}\n",
    "        tmp[\"sub_label\"] = idx2label[str(pred_labels[j[0]])]\n",
    "        tmp[\"obj_label\"] = idx2label[str(pred_labels[j[1]])]\n",
    "        tmp[\"sub_bbox\"] = pred_boxes[j[0]].tolist()\n",
    "        tmp[\"obj_bbox\"] = pred_boxes[j[1]].tolist()\n",
    "        tmp[\"rel_label\"] = k\n",
    "        pred_rels.append(tmp)\n",
    "    pred_to_gt, selected_pred_label, selected_gt_label, pair_found = find_match(pred_rels, gt_rels)\n",
    "    match = reduce(np.union1d, pred_to_gt)\n",
    "    rec = float(len(match))/float(gt_num)\n",
    "    recalls.append(rec)\n",
    "    pair_matchs.append(float(np.sum(pair_found))/float(gt_num))\n",
    "    pred = pred+selected_pred_label\n",
    "    gt = gt+selected_gt_label\n",
    "    # idxs = idxs+[i for _ in range(len(selected_gt_label))]"
   ]
  },
  {
   "cell_type": "code",
   "execution_count": 178,
   "metadata": {},
   "outputs": [
    {
     "data": {
      "text/plain": [
       "True"
      ]
     },
     "execution_count": 178,
     "metadata": {},
     "output_type": "execute_result"
    }
   ],
   "source": [
    "len(pred) == len(gt)"
   ]
  },
  {
   "cell_type": "code",
   "execution_count": 185,
   "metadata": {},
   "outputs": [
    {
     "data": {
      "text/plain": [
       "0.6359990546193012"
      ]
     },
     "execution_count": 185,
     "metadata": {},
     "output_type": "execute_result"
    }
   ],
   "source": [
    "# Recall@100\n",
    "np.mean(recalls)"
   ]
  },
  {
   "cell_type": "code",
   "execution_count": 186,
   "metadata": {},
   "outputs": [
    {
     "data": {
      "text/plain": [
       "0.9758089362601483"
      ]
     },
     "execution_count": 186,
     "metadata": {},
     "output_type": "execute_result"
    }
   ],
   "source": [
    "# pair match accuracy\n",
    "np.mean(pair_matchs)"
   ]
  },
  {
   "cell_type": "code",
   "execution_count": 164,
   "metadata": {},
   "outputs": [
    {
     "data": {
      "text/plain": [
       "164414"
      ]
     },
     "execution_count": 164,
     "metadata": {},
     "output_type": "execute_result"
    }
   ],
   "source": [
    "len(pred)"
   ]
  },
  {
   "cell_type": "code",
   "execution_count": 33,
   "metadata": {},
   "outputs": [
    {
     "data": {
      "text/plain": [
       "0.6776065298575548"
      ]
     },
     "execution_count": 33,
     "metadata": {},
     "output_type": "execute_result"
    }
   ],
   "source": [
    "pred = np.array(pred)\n",
    "gt = np.array(gt)\n",
    "len(pred[pred==gt])/len(gt)"
   ]
  },
  {
   "cell_type": "code",
   "execution_count": 34,
   "metadata": {},
   "outputs": [
    {
     "name": "stdout",
     "output_type": "stream",
     "text": [
      "{'on': 58863, 'has': 22265, 'near': 5969, 'under': 1286, 'hanging from': 267, 'wearing': 18367, 'in': 9336, 'above': 2029, 'of': 18790, 'sitting on': 1813, 'behind': 3469, 'with': 4770, 'carrying': 611, 'parked on': 361, 'walking on': 495, 'on back of': 128, 'in front of': 993, 'at': 543, 'riding': 1787, 'holding': 3943, 'along': 124, 'wears': 1930, 'looking at': 233, 'laying on': 280, 'watching': 157, 'over': 367, 'across': 53, 'to': 129, 'standing on': 1211, 'painted on': 62, 'growing on': 80, 'belonging to': 819, 'part of': 145, 'against': 49, 'flying in': 17, 'attached to': 819, 'between': 155, 'walking in': 79, 'for': 221, 'eating': 231, 'covered in': 162, 'and': 142, 'using': 233, 'mounted on': 163, 'covering': 217, 'from': 67, 'lying on': 142, 'says': 9, 'playing': 17, 'made of': 16}\n"
     ]
    }
   ],
   "source": [
    "cnt = {}\n",
    "for g in gt:\n",
    "    g_pred = idx2pred[str(g)]\n",
    "    if g_pred not in cnt.keys():\n",
    "        cnt[g_pred] = 1\n",
    "    else:\n",
    "        cnt[g_pred] += 1\n",
    "print(cnt)"
   ]
  },
  {
   "cell_type": "code",
   "execution_count": 104,
   "metadata": {},
   "outputs": [],
   "source": [
    "val_mat = confusion_matrix(gt, pred)"
   ]
  },
  {
   "cell_type": "code",
   "execution_count": 105,
   "metadata": {},
   "outputs": [],
   "source": [
    "mat = copy.deepcopy(val_mat).astype(float)\n",
    "for i in range(mat.shape[0]):\n",
    "    if np.sum(mat[i]):\n",
    "        mat[i] = mat[i]/np.sum(mat[i])"
   ]
  },
  {
   "cell_type": "code",
   "execution_count": 106,
   "metadata": {},
   "outputs": [],
   "source": [
    "labels = np.array([idx2pred[str(i)] for i in set(gt)], dtype=str)"
   ]
  },
  {
   "cell_type": "code",
   "execution_count": 107,
   "metadata": {},
   "outputs": [
    {
     "data": {
      "image/png": "[encoded data removed]",
      "text/plain": [
       "<Figure size 1440x1080 with 2 Axes>"
      ]
     },
     "metadata": {
      "needs_background": "light"
     },
     "output_type": "display_data"
    }
   ],
   "source": [
    "plt.figure(figsize=(20,15))\n",
    "sns.heatmap(mat, cmap=\"Blues\", xticklabels=labels, yticklabels=labels)\n",
    "save_path = os.path.join(result_path, \"conf_matrix.png\")\n",
    "plt.savefig(save_path, dpi=300)"
   ]
  },
  {
   "cell_type": "markdown",
   "metadata": {},
   "source": [
    "# Hierarchical Analysis"
   ]
  },
  {
   "cell_type": "code",
   "execution_count": 149,
   "metadata": {},
   "outputs": [
    {
     "name": "stderr",
     "output_type": "stream",
     "text": [
      "100%|██████████| 26446/26446 [00:29<00:00, 882.19it/s] \n"
     ]
    }
   ],
   "source": [
    "#find matched pair\n",
    "pred = []\n",
    "gt = []\n",
    "gt_nums = []\n",
    "idxs = []\n",
    "# for i in tqdm(range(1)):\n",
    "for i in tqdm(range(26446)):\n",
    "    gt_num = 0\n",
    "    prediction = detected_origin_result[\"predictions\"][i]\n",
    "    groundtruths = detected_origin_result[\"groundtruths\"][i]\n",
    "    idx2label = vocab_file['idx_to_label']\n",
    "    idx2pred = vocab_file['idx_to_predicate']\n",
    "    # prediction boxes\n",
    "    pred_boxes = prediction.bbox\n",
    "    # predicted object label corresponding to bbox above\n",
    "    pred_labels = prediction.get_field(\"pred_labels\").long().tolist()\n",
    "    # ground truth boxes\n",
    "    gt_boxes = groundtruths.bbox\n",
    "    # ground truth label corresponding to bbox above\n",
    "    gt_labels = groundtruths.get_field(\"labels\").tolist()\n",
    "    # rel pair lists\n",
    "    pred_rels = []\n",
    "    gt_rels =[]\n",
    "    # ground truth triplet\n",
    "    gt_triplets = groundtruths.get_field('relation_tuple').tolist()\n",
    "    gt_num = len(gt_triplets)\n",
    "    gt_nums.append(gt_num)\n",
    "    for tri in gt_triplets:\n",
    "        tmp = {}\n",
    "        tmp[\"sub_label\"] = idx2label[str(gt_labels[tri[0]])]\n",
    "        tmp[\"obj_label\"] = idx2label[str(gt_labels[tri[1]])]\n",
    "        tmp[\"sub_bbox\"] = gt_boxes[tri[0]].tolist()\n",
    "        tmp[\"obj_bbox\"] = gt_boxes[tri[1]].tolist()\n",
    "        tmp[\"rel_label\"] = tri[2]\n",
    "        gt_rels.append(tmp)\n",
    "    # prediction relation triplet\n",
    "    pred_rel_pair = prediction.get_field('rel_pair_idxs').long().tolist()\n",
    "    pred_rel_label = prediction.get_field('pred_rel_labels').long()[:100].tolist()\n",
    "    for j, k in zip(pred_rel_pair, pred_rel_label):\n",
    "        tmp = {}\n",
    "        tmp[\"sub_label\"] = idx2label[str(pred_labels[j[0]])]\n",
    "        tmp[\"obj_label\"] = idx2label[str(pred_labels[j[1]])]\n",
    "        tmp[\"sub_bbox\"] = pred_boxes[j[0]].tolist()\n",
    "        tmp[\"obj_bbox\"] = pred_boxes[j[1]].tolist()\n",
    "        tmp[\"rel_label\"] = k\n",
    "        pred_rels.append(tmp)\n",
    "    pred_to_gt, selected_pred_label, selected_gt_label, pair_found = find_match(pred_rels, gt_rels)\n",
    "    pred = pred+selected_pred_label\n",
    "    gt = gt+selected_gt_label\n",
    "    # idxs = idxs+[i for _ in range(len(selected_gt_label))]"
   ]
  },
  {
   "cell_type": "code",
   "execution_count": 165,
   "metadata": {},
   "outputs": [],
   "source": [
    "head = [\"on\", \"has\", \"wearing\", \"of\", \"in\", \"near\", \"behind\"]\n",
    "body = [\"with\", \"holding\", \"above\", \"under\", \"wears\", \"sitting on\", \"in front of\", \"riding\", \"standing on\", \"at\", \"attached to\", \"over\", \"carrying\", \"walking on\", \"for\", \"looking at\", \"watching\", \"hanging from\", \"belonging to\", \"and\", \"parked on\"]\n",
    "tail = [\"between\", \"laying on\", \"along\", \"eating\", \"covering\", \"covered in\", \"part of\", \"using\", \"to\", \"on back of\", \"across\", \"mounted on\", \"lying on\", \"walking in\", \"against\", \"from\", \"growing on\", \"painted on\", \"made of\", \"playing\", \"says\", \"flying in\"]\n",
    "head = [pred2idx[h] for h in head]\n",
    "body = [pred2idx[b] for b in body]\n",
    "tail = [pred2idx[t] for t in tail]"
   ]
  },
  {
   "cell_type": "code",
   "execution_count": 166,
   "metadata": {},
   "outputs": [],
   "source": [
    "top10 = [\"on\", \"has\", \"wearing\", \"of\", \"in\", \"near\", \"behind\", \"with\", \"holding\", \"above\"]\n",
    "middle = [\"under\", \"wears\", \"sitting on\", \"in front of\", \"riding\", \"standing on\", \"at\", \"attached to\", \"over\", \"carrying\", \"walking on\", \"for\", \"looking at\", \"watching\", \"hanging from\", \"belonging to\", \"and\", \"parked on\", \"between\", \"laying on\", \"along\", \"eating\", \"covering\", \"covered in\", \"part of\"]\n",
    "bottom15 = [\"using\", \"to\", \"on back of\", \"across\", \"mounted on\", \"lying on\", \"walking in\", \"against\", \"from\", \"growing on\", \"painted on\", \"made of\", \"playing\", \"says\", \"flying in\"]\n",
    "top10 = [pred2idx[t] for t in top10]\n",
    "middle = [pred2idx[m] for m in middle]\n",
    "bottom15 = [pred2idx[b] for b in bottom15]"
   ]
  },
  {
   "cell_type": "code",
   "execution_count": 192,
   "metadata": {},
   "outputs": [],
   "source": [
    "json_file = \"/home/acd13805eb/SGG/SGG-PS/datasets/vg/predcls_clusters/motifs/2cluster.json\"\n",
    "taxonomy = open(json_file)\n",
    "taxonomy = json.load(taxonomy)"
   ]
  },
  {
   "cell_type": "code",
   "execution_count": 193,
   "metadata": {},
   "outputs": [],
   "source": [
    "pars = taxonomy[\"children\"][\"root\"]\n",
    "par_dic = {}\n",
    "for par in pars:\n",
    "    for ch in taxonomy[\"children\"][par]:\n",
    "        par_dic[pred2idx[ch]] = par"
   ]
  },
  {
   "cell_type": "code",
   "execution_count": 194,
   "metadata": {},
   "outputs": [
    {
     "name": "stdout",
     "output_type": "stream",
     "text": [
      "count: 231722\n",
      "head count: 191179\n",
      "body count: 36655\n",
      "tail count: 3888\n",
      "Root Accuracy: 0.9301404268908433\n",
      "Head Accuracy: 0.9579085569021702\n",
      "Body Accuracy: 0.8008730050470604\n",
      "Tail Accuracy: 0.7834362139917695\n"
     ]
    }
   ],
   "source": [
    "count = 0\n",
    "correct = 0\n",
    "head_count = 0\n",
    "head_correct = 0\n",
    "body_count = 0\n",
    "body_correct = 0\n",
    "tail_count = 0\n",
    "tail_correct = 0\n",
    "failed_predicate = []\n",
    "for pre, gr in zip(pred, gt):\n",
    "    if par_dic[pre]==par_dic[gr]:\n",
    "        correct += 1\n",
    "        if gr in head:\n",
    "            head_correct += 1\n",
    "        elif gr in body:\n",
    "            body_correct += 1\n",
    "        else:\n",
    "            tail_correct += 1\n",
    "    else:\n",
    "        failed_predicate.append((idx2pred[str(pre)], idx2pred[str(gr)])) \n",
    "    count += 1\n",
    "    if gr in head:\n",
    "        head_count += 1\n",
    "    elif gr in body:\n",
    "        body_count += 1\n",
    "    else:\n",
    "        tail_count += 1\n",
    "print(f\"count: {count}\")\n",
    "print(f\"head count: {head_count}\")\n",
    "print(f\"body count: {body_count}\")\n",
    "print(f\"tail count: {tail_count}\")\n",
    "print(f\"Root Accuracy: {correct/count}\")\n",
    "print(f\"Head Accuracy: {head_correct/head_count}\")\n",
    "print(f\"Body Accuracy: {body_correct/body_count}\")\n",
    "print(f\"Tail Accuracy: {tail_correct/tail_count}\")"
   ]
  },
  {
   "cell_type": "code",
   "execution_count": 195,
   "metadata": {},
   "outputs": [
    {
     "name": "stdout",
     "output_type": "stream",
     "text": [
      "count: 231722\n",
      "top10 count: 206515\n",
      "middle count: 23242\n",
      "bottom15 count: 1965\n",
      "Root Accuracy: 0.9301404268908433\n",
      "Top10 Accuracy: 0.9531946831949253\n",
      "Middle Accuracy: 0.7329403665777472\n",
      "Bottom15 Accuracy: 0.8396946564885496\n"
     ]
    }
   ],
   "source": [
    "count = 0\n",
    "correct = 0\n",
    "top_count = 0\n",
    "top_correct = 0\n",
    "mid_count = 0\n",
    "mid_correct = 0\n",
    "bot_count = 0\n",
    "bot_correct = 0\n",
    "failed_predicate = []\n",
    "for pre, gr in zip(pred, gt):\n",
    "    if par_dic[pre]==par_dic[gr]:\n",
    "        correct += 1\n",
    "        if gr in top10:\n",
    "            top_correct += 1\n",
    "        elif gr in middle:\n",
    "            mid_correct += 1\n",
    "        else:\n",
    "            bot_correct += 1\n",
    "    else:\n",
    "        failed_predicate.append((idx2pred[str(pre)], idx2pred[str(gr)])) \n",
    "    count += 1\n",
    "    if gr in top10:\n",
    "        top_count += 1\n",
    "    elif gr in middle:\n",
    "        mid_count += 1\n",
    "    else:\n",
    "        bot_count += 1\n",
    "print(f\"count: {count}\")\n",
    "print(f\"top10 count: {top_count}\")\n",
    "print(f\"middle count: {mid_count}\")\n",
    "print(f\"bottom15 count: {bot_count}\")\n",
    "print(f\"Root Accuracy: {correct/count}\")\n",
    "print(f\"Top10 Accuracy: {top_correct/top_count}\")\n",
    "print(f\"Middle Accuracy: {mid_correct/mid_count}\")\n",
    "print(f\"Bottom15 Accuracy: {bot_correct/bot_count}\")"
   ]
  },
  {
   "cell_type": "code",
   "execution_count": 67,
   "metadata": {},
   "outputs": [
    {
     "name": "stdout",
     "output_type": "stream",
     "text": [
      "{'in': 3289, 'on': 2897, 'sitting on': 1258, 'near': 675, 'in front of': 146, 'at': 497, 'riding': 1051, 'under': 707, 'with': 424, 'of': 384, 'laying on': 238, 'behind': 190, 'watching': 105, 'standing on': 308, 'has': 223, 'across': 3, 'above': 173, 'flying in': 16, 'looking at': 79, 'between': 133, 'holding': 204, 'eating': 43, 'wearing': 43, 'covered in': 95, 'over': 29, 'and': 69, 'attached to': 28, 'against': 9, 'to': 17, 'lying on': 112, 'along': 5, 'carrying': 8, 'wears': 4, 'for': 37, 'from': 9, 'says': 3, 'walking on': 15, 'playing': 4, 'walking in': 17, 'covering': 9, 'using': 17, 'made of': 13, 'belonging to': 3, 'mounted on': 2, 'painted on': 9, 'hanging from': 15, 'part of': 1}\n"
     ]
    }
   ],
   "source": [
    "# no root KT\n",
    "failed_cnt = {}\n",
    "for fail in failed_predicate:\n",
    "    if fail[1] in failed_cnt.keys():\n",
    "        failed_cnt[fail[1]] += 1\n",
    "    else:\n",
    "        failed_cnt[fail[1]] = 1\n",
    "print(failed_cnt)"
   ]
  },
  {
   "cell_type": "code",
   "execution_count": 399,
   "metadata": {},
   "outputs": [],
   "source": [
    "root_mat = confusion_matrix(list(map(lambda x: x[1], failed_predicate)), list(map(lambda x: x[0], failed_predicate)))\n",
    "mat = copy.deepcopy(root_mat).astype(float)\n",
    "for i in range(mat.shape[0]):\n",
    "    if np.sum(mat[i]):\n",
    "        mat[i] = mat[i]/np.sum(mat[i])"
   ]
  },
  {
   "cell_type": "code",
   "execution_count": 400,
   "metadata": {},
   "outputs": [],
   "source": [
    "labels = sorted(set(list(map(lambda x: x[1], failed_predicate))+list(map(lambda x: x[0], failed_predicate))))"
   ]
  },
  {
   "cell_type": "code",
   "execution_count": 402,
   "metadata": {},
   "outputs": [
    {
     "data": {
      "image/png": "[encoded data removed]",
      "text/plain": [
       "<Figure size 1440x1080 with 2 Axes>"
      ]
     },
     "metadata": {
      "needs_background": "light"
     },
     "output_type": "display_data"
    }
   ],
   "source": [
    "plt.figure(figsize=(20,15))\n",
    "sns.heatmap(mat, cmap=\"Blues\", xticklabels=labels, yticklabels=labels)\n",
    "# plt.savefig(\"/home/miskai/デスクトップ/related-work/scene-graph-benchmark/SGG-TD2/analysis/confusion_matrix/kt2cluster-cat-base-motifs-predcls-root-conf.png\", dpi=300)"
   ]
  },
  {
   "cell_type": "markdown",
   "metadata": {},
   "source": [
    "# Group Analysis"
   ]
  },
  {
   "cell_type": "code",
   "execution_count": 87,
   "metadata": {},
   "outputs": [],
   "source": [
    "group_path = \"/home/miskai/デスクトップ/related-work/scene-graph-benchmark/SGG-TD2/datasets/vg/random_group.npy\"\n",
    "G = np.load(group_path, allow_pickle=True).item()\n",
    "groups = G[\"groups\"]\n",
    "num_groups = G[\"num_groups\"]\n",
    "cls2group = -np.ones(51, dtype=int)\n",
    "for num, group in enumerate(groups):\n",
    "    for clas in group:\n",
    "        cls2group[clas] = num"
   ]
  },
  {
   "cell_type": "code",
   "execution_count": 88,
   "metadata": {},
   "outputs": [
    {
     "name": "stdout",
     "output_type": "stream",
     "text": [
      "[0 7 3 0 1 1 8 5 7 1 1 6 2 6 6 3 8 0 4 8 9 7 7 5 1 0 4 2 3 9 9 9 4 8 0 0 2\n",
      " 6 8 2 7 5 2 5 3 4 6 1 9 5 7]\n"
     ]
    }
   ],
   "source": [
    "print(cls2group)"
   ]
  },
  {
   "cell_type": "code",
   "execution_count": 98,
   "metadata": {},
   "outputs": [],
   "source": [
    "def find_match_group(pred_rels, gt_rels, unconstrained=False):\n",
    "    \"\"\"\n",
    "    pred_rels, gt_rels: relation triplets\n",
    "        sub_label: label of subject (String)\n",
    "        obj_label: label of object  (String)\n",
    "        sub_bbox:  bbox of subject  ([num_rel, 4])\n",
    "        obj_bbox:  bbox of object   ([num_rel, 4])\n",
    "        rel_label: relation label   (Int) \n",
    "        (for pred_rels) candidates: predictions in every group (List)\n",
    "        (for pred_rels) pred_probs: prediction probability in every group (List)\n",
    "    \"\"\"\n",
    "    selected_pred_label = []\n",
    "    selected_gt_label = []\n",
    "    pred_groups = []\n",
    "    gt_groups = []\n",
    "    pred_probs = []\n",
    "    gt_probs = []\n",
    "    for pre in pred_rels:\n",
    "        for gt in gt_rels:\n",
    "            if pre[\"sub_label\"]==gt[\"sub_label\"] and pre[\"obj_label\"]==gt[\"obj_label\"] and bbox_match(pre[\"sub_bbox\"],gt[\"sub_bbox\"] ) and bbox_match(pre[\"obj_bbox\"], gt[\"obj_bbox\"]):\n",
    "                selected_gt_label.append(gt[\"rel_label\"])\n",
    "                gt_group = cls2group[gt[\"rel_label\"]]\n",
    "                gt_groups.append(gt_group)\n",
    "                gt_probs.append(pre[\"pred_probs\"][gt_group].numpy().tolist())\n",
    "                selected_pred_label.append(pre[\"rel_label\"])\n",
    "                pred_group = cls2group[pre[\"rel_label\"]]\n",
    "                pred_groups.append(pred_group)\n",
    "                pred_probs.append(pre[\"pred_probs\"][pred_group].numpy().tolist())\n",
    "                if unconstrained:\n",
    "                    for num, label in enumerate(pre[\"candidates\"]):\n",
    "                        if label == gt[\"rel_label\"]:\n",
    "                            selected_pred_label[-1]=label\n",
    "                            pred_groups.append(num)\n",
    "                            pred_probs.append(pre[\"pred_probs\"][num].numpy().tolist())\n",
    "                \n",
    "    return selected_pred_label, selected_gt_label, pred_groups, gt_groups, pred_probs, gt_probs"
   ]
  },
  {
   "cell_type": "code",
   "execution_count": 101,
   "metadata": {},
   "outputs": [
    {
     "name": "stderr",
     "output_type": "stream",
     "text": [
      "100%|██████████| 26446/26446 [03:59<00:00, 110.37it/s]\n"
     ]
    }
   ],
   "source": [
    "pred = []\n",
    "gt = []\n",
    "pred_groups = []\n",
    "gt_groups = []\n",
    "pred_distribs = []\n",
    "gt_distribs = []\n",
    "for i in tqdm(range(26446)):\n",
    "# for i in tqdm(range(1)):\n",
    "    prediction = detected_origin_result[\"predictions\"][i]\n",
    "    groundtruths = detected_origin_result[\"groundtruths\"][i]\n",
    "    idx2label = vocab_file['idx_to_label']\n",
    "    idx2pred = vocab_file['idx_to_predicate']\n",
    "    # prediction boxes\n",
    "    pred_boxes = prediction.bbox\n",
    "    # predicted object label corresponding to bbox above\n",
    "    pred_labels = prediction.get_field(\"pred_labels\").tolist()\n",
    "    # ground truth boxes\n",
    "    gt_boxes = groundtruths.bbox\n",
    "    # ground truth label corresponding to bbox above\n",
    "    gt_labels = groundtruths.get_field(\"labels\").tolist()\n",
    "    # rel pair lists\n",
    "    pred_rels = []\n",
    "    gt_rels =[]\n",
    "    # ground truth triplet\n",
    "    gt_triplets = groundtruths.get_field('relation_tuple').tolist()\n",
    "    for tri in gt_triplets:\n",
    "        tmp = {}\n",
    "        tmp[\"sub_label\"] = idx2label[str(gt_labels[tri[0]])]\n",
    "        tmp[\"obj_label\"] = idx2label[str(gt_labels[tri[1]])]\n",
    "        tmp[\"sub_bbox\"] = gt_boxes[tri[0]].tolist()\n",
    "        tmp[\"obj_bbox\"] = gt_boxes[tri[1]].tolist()\n",
    "        tmp[\"rel_label\"] = tri[2]\n",
    "        gt_rels.append(tmp)\n",
    "    # prediction relation triplet\n",
    "    pred_rel_pair = prediction.get_field('rel_pair_idxs').tolist()\n",
    "    pred_rel_label = prediction.get_field('pred_rel_labels')[:50]\n",
    "    for m, (j, k) in enumerate(zip(pred_rel_pair, pred_rel_label.tolist())):\n",
    "        tmp = {}\n",
    "        tmp[\"sub_label\"] = idx2label[str(pred_labels[j[0]])]\n",
    "        tmp[\"obj_label\"] = idx2label[str(pred_labels[j[1]])]\n",
    "        tmp[\"sub_bbox\"] = pred_boxes[j[0]].tolist()\n",
    "        tmp[\"obj_bbox\"] = pred_boxes[j[1]].tolist()\n",
    "        tmp[\"rel_label\"] = k\n",
    "        tmp[\"pred_probs\"] = []\n",
    "        tmp[\"candidates\"] = []\n",
    "        for num in range(num_groups):\n",
    "            pred_probs = prediction.get_field(f\"pred_rel_probs{num}\")[m]\n",
    "            tmp[\"pred_probs\"].append(pred_probs)\n",
    "            idx = pred_probs.argmax()\n",
    "            tmp[\"candidates\"].append(groups[num][idx])\n",
    "        pred_rels.append(tmp)\n",
    "    selected_pred_label, selected_gt_label, pred_g, gt_g, pred_p, gt_p = find_match_group(pred_rels, gt_rels)\n",
    "    pred = pred+selected_pred_label\n",
    "    gt = gt+selected_gt_label\n",
    "    pred_groups = pred_groups+pred_g\n",
    "    gt_groups = gt_groups+gt_g\n",
    "    pred_distribs = pred_distribs+pred_p\n",
    "    gt_distribs = gt_distribs+gt_p"
   ]
  },
  {
   "cell_type": "code",
   "execution_count": 102,
   "metadata": {},
   "outputs": [
    {
     "data": {
      "text/plain": [
       "True"
      ]
     },
     "execution_count": 102,
     "metadata": {},
     "output_type": "execute_result"
    }
   ],
   "source": [
    "len(gt)==len(pred)"
   ]
  },
  {
   "cell_type": "code",
   "execution_count": 104,
   "metadata": {},
   "outputs": [
    {
     "data": {
      "text/plain": [
       "True"
      ]
     },
     "execution_count": 104,
     "metadata": {},
     "output_type": "execute_result"
    }
   ],
   "source": [
    "len(gt_groups)==len(pred_groups)"
   ]
  },
  {
   "cell_type": "code",
   "execution_count": 103,
   "metadata": {},
   "outputs": [
    {
     "data": {
      "text/plain": [
       "0.017786236996685592"
      ]
     },
     "execution_count": 103,
     "metadata": {},
     "output_type": "execute_result"
    }
   ],
   "source": [
    "pred = np.array(pred)\n",
    "gt = np.array(gt)\n",
    "len(pred[pred==gt])/len(gt)"
   ]
  },
  {
   "cell_type": "code",
   "execution_count": 105,
   "metadata": {},
   "outputs": [],
   "source": [
    "val_mat = confusion_matrix(gt_groups, pred_groups)"
   ]
  },
  {
   "cell_type": "code",
   "execution_count": 106,
   "metadata": {},
   "outputs": [],
   "source": [
    "mat = copy.deepcopy(val_mat).astype(float)\n",
    "for i in range(mat.shape[0]):\n",
    "    if np.sum(mat[i]):\n",
    "        mat[i] = mat[i]/np.sum(mat[i])"
   ]
  },
  {
   "cell_type": "code",
   "execution_count": 107,
   "metadata": {},
   "outputs": [],
   "source": [
    "labels = np.array([idx2pred[str(i)] for i in set(gt)], dtype=str)"
   ]
  },
  {
   "cell_type": "code",
   "execution_count": 111,
   "metadata": {},
   "outputs": [
    {
     "data": {
      "text/plain": [
       "<AxesSubplot:>"
      ]
     },
     "execution_count": 111,
     "metadata": {},
     "output_type": "execute_result"
    },
    {
     "data": {
      "image/png": "[encoded data removed]",
      "text/plain": [
       "<Figure size 720x576 with 2 Axes>"
      ]
     },
     "metadata": {
      "needs_background": "light"
     },
     "output_type": "display_data"
    }
   ],
   "source": [
    "plt.figure(figsize=(10,8))\n",
    "sns.heatmap(mat, cmap=\"Blues\") # group confusion matrix\n",
    "# plt.figure(figsize=(20,20))\n",
    "# sns.heatmap(mat, cmap=\"Blues\", xticklabels=labels, yticklabels=labels)\n",
    "# plt.savefig(\"/home/miskai/デスクトップ/related-work/scene-graph-benchmark/SGG-TD2/analysis/random-entropy-unconstrained-conf.png\", dpi=300)"
   ]
  },
  {
   "cell_type": "code",
   "execution_count": 126,
   "metadata": {},
   "outputs": [],
   "source": [
    "def vis_distrib(prob, group):\n",
    "    plt.bar([i+1 for i in range(len(prob))], prob, tick_label=[idx2pred[str(c)] for c in groups[group]])"
   ]
  },
  {
   "cell_type": "code",
   "execution_count": 139,
   "metadata": {},
   "outputs": [],
   "source": [
    "n = 45"
   ]
  },
  {
   "cell_type": "code",
   "execution_count": 140,
   "metadata": {},
   "outputs": [
    {
     "name": "stdout",
     "output_type": "stream",
     "text": [
      "belonging to\n"
     ]
    },
    {
     "data": {
      "image/png": "[encoded data removed]",
      "text/plain": [
       "<Figure size 432x288 with 1 Axes>"
      ]
     },
     "metadata": {
      "needs_background": "light"
     },
     "output_type": "display_data"
    }
   ],
   "source": [
    "vis_distrib(pred_distribs[n],pred_groups[n])\n",
    "print(idx2pred[str(pred[n])])"
   ]
  },
  {
   "cell_type": "code",
   "execution_count": 141,
   "metadata": {},
   "outputs": [
    {
     "name": "stdout",
     "output_type": "stream",
     "text": [
      "of\n"
     ]
    },
    {
     "data": {
      "image/png": "[encoded data removed]",
      "text/plain": [
       "<Figure size 432x288 with 1 Axes>"
      ]
     },
     "metadata": {
      "needs_background": "light"
     },
     "output_type": "display_data"
    }
   ],
   "source": [
    "vis_distrib(gt_distribs[n],gt_groups[n])\n",
    "print(idx2pred[str(gt[n])])"
   ]
  },
  {
   "cell_type": "code",
   "execution_count": null,
   "metadata": {},
   "outputs": [],
   "source": []
  },
  {
   "cell_type": "code",
   "execution_count": null,
   "metadata": {},
   "outputs": [],
   "source": []
  },
  {
   "cell_type": "code",
   "execution_count": null,
   "metadata": {},
   "outputs": [],
   "source": []
  }
 ],
 "metadata": {
  "interpreter": {
   "hash": "9cee0c3e8d1c24ad445e317ad9d7c265bd18b3ddfd9aa29f4b8bff3337f2bbcc"
  },
  "kernelspec": {
   "display_name": "Python 3.7.0 64-bit ('sgg-td': conda)",
   "name": "python3"
  },
  "language_info": {
   "codemirror_mode": {
    "name": "ipython",
    "version": 3
   },
   "file_extension": ".py",
   "mimetype": "text/x-python",
   "name": "python",
   "nbconvert_exporter": "python",
   "pygments_lexer": "ipython3",
   "version": "3.7.0"
  },
  "orig_nbformat": 4
 },
 "nbformat": 4,
 "nbformat_minor": 2
}
