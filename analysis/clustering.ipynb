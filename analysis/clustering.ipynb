{
 "cells": [
  {
   "cell_type": "code",
   "execution_count": 1,
   "metadata": {},
   "outputs": [],
   "source": [
    "import torch\n",
    "import torch.nn.functional as F\n",
    "import json\n",
    "import h5py\n",
    "import numpy as np\n",
    "import math\n",
    "import matplotlib.pyplot as plt\n",
    "from matplotlib.pyplot import imshow\n",
    "from PIL import Image, ImageDraw"
   ]
  },
  {
   "cell_type": "code",
   "execution_count": 2,
   "metadata": {},
   "outputs": [],
   "source": [
    "from tqdm import tqdm"
   ]
  },
  {
   "cell_type": "code",
   "execution_count": 3,
   "metadata": {},
   "outputs": [],
   "source": [
    "from sklearn.metrics import confusion_matrix\n",
    "import scipy as sp\n",
    "import seaborn as sns\n",
    "from scipy.cluster import hierarchy\n",
    "from sklearn.cluster import KMeans\n",
    "import copy\n",
    "from sklearn.cluster import SpectralClustering"
   ]
  },
  {
   "cell_type": "code",
   "execution_count": 4,
   "metadata": {},
   "outputs": [],
   "source": [
    "project_dir = '/home/miskai/デスクトップ/related-work/scene-graph-benchmark'\n",
    "image_file = json.load(open(f'{project_dir}/datasets/vg/image_data.json'))\n",
    "vocab_file = json.load(open(f'{project_dir}/datasets/vg/VG-SGG-dicts-with-attri.json'))\n",
    "data_file = h5py.File(f'{project_dir}/datasets/vg/VG-SGG-with-attri.h5', 'r')\n",
    "# remove invalid image\n",
    "corrupted_ims = [1592, 1722, 4616, 4617]\n",
    "tmp = []\n",
    "for item in image_file:\n",
    "    if int(item['image_id']) not in corrupted_ims:\n",
    "        tmp.append(item)\n",
    "image_file = tmp"
   ]
  },
  {
   "cell_type": "code",
   "execution_count": 5,
   "metadata": {},
   "outputs": [
    {
     "ename": "KeyboardInterrupt",
     "evalue": "",
     "output_type": "error",
     "traceback": [
      "\u001b[0;31m---------------------------------------------------------------------------\u001b[0m",
      "\u001b[0;31mKeyboardInterrupt\u001b[0m                         Traceback (most recent call last)",
      "\u001b[0;32m/tmp/ipykernel_230803/194370110.py\u001b[0m in \u001b[0;36m<module>\u001b[0;34m\u001b[0m\n\u001b[1;32m      1\u001b[0m \u001b[0mresult_path\u001b[0m \u001b[0;34m=\u001b[0m \u001b[0;34m'/home/miskai/デスクトップ/related-work/scene-graph-benchmark/SGG-TD2'\u001b[0m\u001b[0;34m\u001b[0m\u001b[0m\n\u001b[1;32m      2\u001b[0m \u001b[0mdetected_origin_path\u001b[0m \u001b[0;34m=\u001b[0m \u001b[0;34mf'{result_path}/checkpoints/motifs-predcls-base-feature-exmp/inference/VG_stanford_filtered_with_attribute_test/'\u001b[0m\u001b[0;34m\u001b[0m\u001b[0m\n\u001b[0;32m----> 3\u001b[0;31m \u001b[0mdetected_origin_result\u001b[0m \u001b[0;34m=\u001b[0m \u001b[0mtorch\u001b[0m\u001b[0;34m.\u001b[0m\u001b[0mload\u001b[0m\u001b[0;34m(\u001b[0m\u001b[0mdetected_origin_path\u001b[0m \u001b[0;34m+\u001b[0m \u001b[0;34m'eval_results.pytorch'\u001b[0m\u001b[0;34m)\u001b[0m\u001b[0;34m\u001b[0m\u001b[0m\n\u001b[0m\u001b[1;32m      4\u001b[0m \u001b[0mdetected_info\u001b[0m \u001b[0;34m=\u001b[0m \u001b[0mjson\u001b[0m\u001b[0;34m.\u001b[0m\u001b[0mload\u001b[0m\u001b[0;34m(\u001b[0m\u001b[0mopen\u001b[0m\u001b[0;34m(\u001b[0m\u001b[0mdetected_origin_path\u001b[0m \u001b[0;34m+\u001b[0m \u001b[0;34m'visual_info.json'\u001b[0m\u001b[0;34m)\u001b[0m\u001b[0;34m)\u001b[0m\u001b[0;34m\u001b[0m\u001b[0m\n",
      "\u001b[0;32m~/.pyenv/versions/miniconda3-latest/envs/sgg-td/lib/python3.7/site-packages/torch/serialization.py\u001b[0m in \u001b[0;36mload\u001b[0;34m(f, map_location, pickle_module, **pickle_load_args)\u001b[0m\n\u001b[1;32m    605\u001b[0m                     \u001b[0mopened_file\u001b[0m\u001b[0;34m.\u001b[0m\u001b[0mseek\u001b[0m\u001b[0;34m(\u001b[0m\u001b[0morig_position\u001b[0m\u001b[0;34m)\u001b[0m\u001b[0;34m\u001b[0m\u001b[0m\n\u001b[1;32m    606\u001b[0m                     \u001b[0;32mreturn\u001b[0m \u001b[0mtorch\u001b[0m\u001b[0;34m.\u001b[0m\u001b[0mjit\u001b[0m\u001b[0;34m.\u001b[0m\u001b[0mload\u001b[0m\u001b[0;34m(\u001b[0m\u001b[0mopened_file\u001b[0m\u001b[0;34m)\u001b[0m\u001b[0;34m\u001b[0m\u001b[0m\n\u001b[0;32m--> 607\u001b[0;31m                 \u001b[0;32mreturn\u001b[0m \u001b[0m_load\u001b[0m\u001b[0;34m(\u001b[0m\u001b[0mopened_zipfile\u001b[0m\u001b[0;34m,\u001b[0m \u001b[0mmap_location\u001b[0m\u001b[0;34m,\u001b[0m \u001b[0mpickle_module\u001b[0m\u001b[0;34m,\u001b[0m \u001b[0;34m**\u001b[0m\u001b[0mpickle_load_args\u001b[0m\u001b[0;34m)\u001b[0m\u001b[0;34m\u001b[0m\u001b[0m\n\u001b[0m\u001b[1;32m    608\u001b[0m         \u001b[0;32mreturn\u001b[0m \u001b[0m_legacy_load\u001b[0m\u001b[0;34m(\u001b[0m\u001b[0mopened_file\u001b[0m\u001b[0;34m,\u001b[0m \u001b[0mmap_location\u001b[0m\u001b[0;34m,\u001b[0m \u001b[0mpickle_module\u001b[0m\u001b[0;34m,\u001b[0m \u001b[0;34m**\u001b[0m\u001b[0mpickle_load_args\u001b[0m\u001b[0;34m)\u001b[0m\u001b[0;34m\u001b[0m\u001b[0m\n\u001b[1;32m    609\u001b[0m \u001b[0;34m\u001b[0m\u001b[0m\n",
      "\u001b[0;32m~/.pyenv/versions/miniconda3-latest/envs/sgg-td/lib/python3.7/site-packages/torch/serialization.py\u001b[0m in \u001b[0;36m_load\u001b[0;34m(zip_file, map_location, pickle_module, pickle_file, **pickle_load_args)\u001b[0m\n\u001b[1;32m    880\u001b[0m     \u001b[0munpickler\u001b[0m \u001b[0;34m=\u001b[0m \u001b[0mUnpicklerWrapper\u001b[0m\u001b[0;34m(\u001b[0m\u001b[0mdata_file\u001b[0m\u001b[0;34m,\u001b[0m \u001b[0;34m**\u001b[0m\u001b[0mpickle_load_args\u001b[0m\u001b[0;34m)\u001b[0m\u001b[0;34m\u001b[0m\u001b[0m\n\u001b[1;32m    881\u001b[0m     \u001b[0munpickler\u001b[0m\u001b[0;34m.\u001b[0m\u001b[0mpersistent_load\u001b[0m \u001b[0;34m=\u001b[0m \u001b[0mpersistent_load\u001b[0m\u001b[0;34m\u001b[0m\u001b[0m\n\u001b[0;32m--> 882\u001b[0;31m     \u001b[0mresult\u001b[0m \u001b[0;34m=\u001b[0m \u001b[0munpickler\u001b[0m\u001b[0;34m.\u001b[0m\u001b[0mload\u001b[0m\u001b[0;34m(\u001b[0m\u001b[0;34m)\u001b[0m\u001b[0;34m\u001b[0m\u001b[0m\n\u001b[0m\u001b[1;32m    883\u001b[0m \u001b[0;34m\u001b[0m\u001b[0m\n\u001b[1;32m    884\u001b[0m     \u001b[0mtorch\u001b[0m\u001b[0;34m.\u001b[0m\u001b[0m_utils\u001b[0m\u001b[0;34m.\u001b[0m\u001b[0m_validate_loaded_sparse_tensors\u001b[0m\u001b[0;34m(\u001b[0m\u001b[0;34m)\u001b[0m\u001b[0;34m\u001b[0m\u001b[0m\n",
      "\u001b[0;32m~/.pyenv/versions/miniconda3-latest/envs/sgg-td/lib/python3.7/site-packages/torch/serialization.py\u001b[0m in \u001b[0;36mpersistent_load\u001b[0;34m(saved_id)\u001b[0m\n\u001b[1;32m    855\u001b[0m         \u001b[0mdata_type\u001b[0m\u001b[0;34m,\u001b[0m \u001b[0mkey\u001b[0m\u001b[0;34m,\u001b[0m \u001b[0mlocation\u001b[0m\u001b[0;34m,\u001b[0m \u001b[0msize\u001b[0m \u001b[0;34m=\u001b[0m \u001b[0mdata\u001b[0m\u001b[0;34m\u001b[0m\u001b[0m\n\u001b[1;32m    856\u001b[0m         \u001b[0;32mif\u001b[0m \u001b[0mkey\u001b[0m \u001b[0;32mnot\u001b[0m \u001b[0;32min\u001b[0m \u001b[0mloaded_storages\u001b[0m\u001b[0;34m:\u001b[0m\u001b[0;34m\u001b[0m\u001b[0m\n\u001b[0;32m--> 857\u001b[0;31m             \u001b[0mload_tensor\u001b[0m\u001b[0;34m(\u001b[0m\u001b[0mdata_type\u001b[0m\u001b[0;34m,\u001b[0m \u001b[0msize\u001b[0m\u001b[0;34m,\u001b[0m \u001b[0mkey\u001b[0m\u001b[0;34m,\u001b[0m \u001b[0m_maybe_decode_ascii\u001b[0m\u001b[0;34m(\u001b[0m\u001b[0mlocation\u001b[0m\u001b[0;34m)\u001b[0m\u001b[0;34m)\u001b[0m\u001b[0;34m\u001b[0m\u001b[0m\n\u001b[0m\u001b[1;32m    858\u001b[0m         \u001b[0mstorage\u001b[0m \u001b[0;34m=\u001b[0m \u001b[0mloaded_storages\u001b[0m\u001b[0;34m[\u001b[0m\u001b[0mkey\u001b[0m\u001b[0;34m]\u001b[0m\u001b[0;34m\u001b[0m\u001b[0m\n\u001b[1;32m    859\u001b[0m         \u001b[0;32mreturn\u001b[0m \u001b[0mstorage\u001b[0m\u001b[0;34m\u001b[0m\u001b[0m\n",
      "\u001b[0;32m~/.pyenv/versions/miniconda3-latest/envs/sgg-td/lib/python3.7/site-packages/torch/serialization.py\u001b[0m in \u001b[0;36mload_tensor\u001b[0;34m(data_type, size, key, location)\u001b[0m\n\u001b[1;32m    843\u001b[0m         \u001b[0mdtype\u001b[0m \u001b[0;34m=\u001b[0m \u001b[0mdata_type\u001b[0m\u001b[0;34m(\u001b[0m\u001b[0;36m0\u001b[0m\u001b[0;34m)\u001b[0m\u001b[0;34m.\u001b[0m\u001b[0mdtype\u001b[0m\u001b[0;34m\u001b[0m\u001b[0m\n\u001b[1;32m    844\u001b[0m \u001b[0;34m\u001b[0m\u001b[0m\n\u001b[0;32m--> 845\u001b[0;31m         \u001b[0mstorage\u001b[0m \u001b[0;34m=\u001b[0m \u001b[0mzip_file\u001b[0m\u001b[0;34m.\u001b[0m\u001b[0mget_storage_from_record\u001b[0m\u001b[0;34m(\u001b[0m\u001b[0mname\u001b[0m\u001b[0;34m,\u001b[0m \u001b[0msize\u001b[0m\u001b[0;34m,\u001b[0m \u001b[0mdtype\u001b[0m\u001b[0;34m)\u001b[0m\u001b[0;34m.\u001b[0m\u001b[0mstorage\u001b[0m\u001b[0;34m(\u001b[0m\u001b[0;34m)\u001b[0m\u001b[0;34m\u001b[0m\u001b[0m\n\u001b[0m\u001b[1;32m    846\u001b[0m         \u001b[0mloaded_storages\u001b[0m\u001b[0;34m[\u001b[0m\u001b[0mkey\u001b[0m\u001b[0;34m]\u001b[0m \u001b[0;34m=\u001b[0m \u001b[0mrestore_location\u001b[0m\u001b[0;34m(\u001b[0m\u001b[0mstorage\u001b[0m\u001b[0;34m,\u001b[0m \u001b[0mlocation\u001b[0m\u001b[0;34m)\u001b[0m\u001b[0;34m\u001b[0m\u001b[0m\n\u001b[1;32m    847\u001b[0m \u001b[0;34m\u001b[0m\u001b[0m\n",
      "\u001b[0;31mKeyboardInterrupt\u001b[0m: "
     ]
    }
   ],
   "source": [
    "result_path = '/home/miskai/デスクトップ/related-work/scene-graph-benchmark/SGG-TD2'\n",
    "detected_origin_path = f'{result_path}/checkpoints/motifs-predcls-base-feature-exmp/inference/VG_stanford_filtered_with_attribute_test/'\n",
    "detected_origin_result = torch.load(detected_origin_path + 'eval_results.pytorch')\n",
    "detected_info = json.load(open(detected_origin_path + 'visual_info.json'))"
   ]
  },
  {
   "cell_type": "code",
   "execution_count": 5,
   "metadata": {},
   "outputs": [],
   "source": [
    "idx2pred = vocab_file[\"idx_to_predicate\"]\n",
    "pred_cnt = vocab_file[\"predicate_count\"]"
   ]
  },
  {
   "cell_type": "code",
   "execution_count": 9,
   "metadata": {},
   "outputs": [],
   "source": [
    "def balanced_tree_building(labels, cls):\n",
    "    cnts = []\n",
    "    clusters = []\n",
    "    for i in range(1, len(set(cls))+1):\n",
    "        cnt = 0\n",
    "        for l in labels[cls==i]:\n",
    "            cnt += pred_cnt[l]\n",
    "        cnts.append(cnt)\n",
    "        clusters.append(labels[cls==i].tolist())\n",
    "    clusters = np.array(clusters, dtype=object)\n",
    "    log_cnts = np.log10(cnts).astype(int)\n",
    "    new_clusters = []\n",
    "    for num in range(np.max(log_cnts)+1):\n",
    "        tmp = []\n",
    "        mask = log_cnts==num\n",
    "        if any(mask):\n",
    "            print(num)\n",
    "            new_clusters.append(clusters[mask])\n",
    "    new_clusters.reverse()\n",
    "    return new_clusters\n"
   ]
  },
  {
   "cell_type": "markdown",
   "metadata": {},
   "source": [
    "# confusion matrix"
   ]
  },
  {
   "cell_type": "code",
   "execution_count": 10,
   "metadata": {},
   "outputs": [],
   "source": [
    "def bbox_match(pred, gt):\n",
    "    \"\"\"Args:\n",
    "        pred: [x0, y0, x1, y1]\n",
    "        gt: same as above\n",
    "    Returns: whether objects in gt and prediction are seen as same objects\n",
    "    \"\"\"\n",
    "    xA = max(pred[0], gt[0])\n",
    "    yA = max(pred[1], gt[1])\n",
    "    xB = min(pred[2], gt[2])\n",
    "    yB = min(pred[3], gt[3])\n",
    "    intra_area = max(0, xB-xA+1)*max(0, yB-yA+1)\n",
    "    pred_area = (pred[2]-pred[0]+1)*(pred[3]-pred[1]+1)\n",
    "    gt_area = (gt[2]-gt[0]+1)*(gt[3]-gt[1]+1)\n",
    "    iou = intra_area/float(pred_area+gt_area-intra_area)\n",
    "    return iou>0.5"
   ]
  },
  {
   "cell_type": "code",
   "execution_count": 11,
   "metadata": {},
   "outputs": [],
   "source": [
    "def find_match(pred_rels, gt_rels):\n",
    "    \"\"\"\n",
    "    pred_rels, gt_rels: relation triplets\n",
    "        sub_label: label of subject (String)\n",
    "        obj_label: label of object  (String)\n",
    "        sub_bbox:  bbox of subject  ([num_rel, 4])\n",
    "        obj_bbox:  bbox of object   ([num_rel, 4])\n",
    "        rel_label: relation label   (Int)\n",
    "    \"\"\"\n",
    "    selected_pred_label = []\n",
    "    selected_gt_label = []\n",
    "    for pre in pred_rels:\n",
    "        for gt in gt_rels:\n",
    "            if pre[\"sub_label\"]==gt[\"sub_label\"] and pre[\"obj_label\"]==gt[\"obj_label\"] and bbox_match(pre[\"sub_bbox\"],gt[\"sub_bbox\"] ) and bbox_match(pre[\"obj_bbox\"], gt[\"obj_bbox\"]):\n",
    "                selected_pred_label.append(pre[\"rel_label\"])\n",
    "                selected_gt_label.append(gt[\"rel_label\"])\n",
    "    return selected_pred_label, selected_gt_label"
   ]
  },
  {
   "cell_type": "code",
   "execution_count": 12,
   "metadata": {},
   "outputs": [
    {
     "name": "stderr",
     "output_type": "stream",
     "text": [
      "100%|██████████| 26446/26446 [00:26<00:00, 992.34it/s]\n"
     ]
    }
   ],
   "source": [
    "pred = []\n",
    "gt = []\n",
    "for i in tqdm(range(26446)):\n",
    "    prediction = detected_origin_result[\"predictions\"][i]\n",
    "    groundtruths = detected_origin_result[\"groundtruths\"][i]\n",
    "    idx2label = vocab_file['idx_to_label']\n",
    "    idx2pred = vocab_file['idx_to_predicate']\n",
    "    # prediction boxes\n",
    "    pred_boxes = prediction.bbox\n",
    "    # predicted object label corresponding to bbox above\n",
    "    pred_labels = prediction.get_field(\"pred_labels\").tolist()\n",
    "    # ground truth boxes\n",
    "    gt_boxes = groundtruths.bbox\n",
    "    # ground truth label corresponding to bbox above\n",
    "    gt_labels = groundtruths.get_field(\"labels\").tolist()\n",
    "    # rel pair lists\n",
    "    pred_rels = []\n",
    "    gt_rels =[]\n",
    "    # ground truth triplet\n",
    "    gt_triplets = groundtruths.get_field('relation_tuple').tolist()\n",
    "    for tri in gt_triplets:\n",
    "        tmp = {}\n",
    "        tmp[\"sub_label\"] = idx2label[str(gt_labels[tri[0]])]\n",
    "        tmp[\"obj_label\"] = idx2label[str(gt_labels[tri[1]])]\n",
    "        tmp[\"sub_bbox\"] = gt_boxes[tri[0]].tolist()\n",
    "        tmp[\"obj_bbox\"] = gt_boxes[tri[1]].tolist()\n",
    "        tmp[\"rel_label\"] = tri[2]\n",
    "        gt_rels.append(tmp)\n",
    "    # prediction relation triplet\n",
    "    pred_rel_pair = prediction.get_field('rel_pair_idxs').tolist()\n",
    "    pred_rel_label = prediction.get_field('pred_rel_labels')[:100]\n",
    "    for j, k in zip(pred_rel_pair, pred_rel_label.tolist()):\n",
    "        tmp = {}\n",
    "        tmp[\"sub_label\"] = idx2label[str(pred_labels[j[0]])]\n",
    "        tmp[\"obj_label\"] = idx2label[str(pred_labels[j[1]])]\n",
    "        tmp[\"sub_bbox\"] = pred_boxes[j[0]].tolist()\n",
    "        tmp[\"obj_bbox\"] = pred_boxes[j[1]].tolist()\n",
    "        tmp[\"rel_label\"] = k\n",
    "        pred_rels.append(tmp)\n",
    "    selected_pred_label, selected_gt_label = find_match(pred_rels, gt_rels)\n",
    "    pred = pred+selected_pred_label\n",
    "    gt = gt+selected_gt_label\n",
    "    "
   ]
  },
  {
   "cell_type": "code",
   "execution_count": 13,
   "metadata": {},
   "outputs": [
    {
     "data": {
      "text/plain": [
       "True"
      ]
     },
     "execution_count": 13,
     "metadata": {},
     "output_type": "execute_result"
    }
   ],
   "source": [
    "len(pred) == len(gt)"
   ]
  },
  {
   "cell_type": "code",
   "execution_count": 14,
   "metadata": {},
   "outputs": [],
   "source": [
    "pred_cnt = vocab_file[\"predicate_count\"]"
   ]
  },
  {
   "cell_type": "code",
   "execution_count": 15,
   "metadata": {},
   "outputs": [],
   "source": [
    "# confusion matrix\n",
    "val_mat = confusion_matrix(gt, pred)"
   ]
  },
  {
   "cell_type": "code",
   "execution_count": 16,
   "metadata": {},
   "outputs": [
    {
     "data": {
      "text/plain": [
       "(50, 50)"
      ]
     },
     "execution_count": 16,
     "metadata": {},
     "output_type": "execute_result"
    }
   ],
   "source": [
    "val_mat.shape"
   ]
  },
  {
   "cell_type": "code",
   "execution_count": 17,
   "metadata": {},
   "outputs": [],
   "source": [
    "mat = copy.deepcopy(val_mat).astype(float)\n",
    "for i in range(mat.shape[0]):\n",
    "    mat[i] = mat[i]/np.sum(mat[i])"
   ]
  },
  {
   "cell_type": "code",
   "execution_count": 18,
   "metadata": {},
   "outputs": [],
   "source": [
    "labels = np.array([idx2pred[str(l)] for l in set(gt)],dtype=str)"
   ]
  },
  {
   "cell_type": "code",
   "execution_count": 19,
   "metadata": {},
   "outputs": [
    {
     "data": {
      "text/plain": [
       "<AxesSubplot:>"
      ]
     },
     "execution_count": 19,
     "metadata": {},
     "output_type": "execute_result"
    },
    {
     "data": {
      "image/png": "[encoded data removed]",
      "text/plain": [
       "<Figure size 1440x1440 with 2 Axes>"
      ]
     },
     "metadata": {
      "needs_background": "light"
     },
     "output_type": "display_data"
    }
   ],
   "source": [
    "plt.figure(figsize=(20,20))\n",
    "sns.heatmap(mat, cmap=\"Blues\", xticklabels=labels, yticklabels=labels)"
   ]
  },
  {
   "cell_type": "markdown",
   "metadata": {},
   "source": [
    "## Hierarchical Clustering"
   ]
  },
  {
   "cell_type": "code",
   "execution_count": 20,
   "metadata": {},
   "outputs": [],
   "source": [
    "z = hierarchy.linkage(data, method=\"ward\", metric=\"euclidean\")"
   ]
  },
  {
   "cell_type": "code",
   "execution_count": 28,
   "metadata": {},
   "outputs": [
    {
     "data": {
      "image/png": "[encoded data removed]",
      "text/plain": [
       "<Figure size 1440x720 with 1 Axes>"
      ]
     },
     "metadata": {
      "needs_background": "light"
     },
     "output_type": "display_data"
    }
   ],
   "source": [
    "plt.figure(figsize=(20,10))\n",
    "ax = hierarchy.dendrogram(z, show_contracted=True, labels=labels)\n",
    "# plt.savefig(\"./motif-predcls-conf-cls.png\", dpi=300, bbox_inches=\"tight\")"
   ]
  },
  {
   "cell_type": "code",
   "execution_count": 26,
   "metadata": {},
   "outputs": [
    {
     "data": {
      "text/plain": [
       "20"
      ]
     },
     "execution_count": 26,
     "metadata": {},
     "output_type": "execute_result"
    }
   ],
   "source": [
    "cls = hierarchy.fcluster(z, t=0.4, criterion=\"distance\")\n",
    "len(set(cls))"
   ]
  },
  {
   "cell_type": "code",
   "execution_count": 380,
   "metadata": {},
   "outputs": [
    {
     "data": {
      "text/plain": [
       "[array([list(['above', 'attached to', 'covering', 'from', 'on', 'on back of', 'painted on', 'standing on', 'to']),\n",
       "        list(['belonging to', 'of']), list(['in']),\n",
       "        list(['between', 'in front of', 'near']),\n",
       "        list(['wearing', 'wears']), list(['has', 'made of', 'says'])],\n",
       "       dtype=object),\n",
       " array([list(['growing on', 'hanging from', 'laying on', 'lying on', 'mounted on', 'parked on', 'walking on']),\n",
       "        list(['across', 'over']), list(['sitting on']),\n",
       "        list(['carrying', 'holding']), list(['under']), list(['behind']),\n",
       "        list(['with'])], dtype=object),\n",
       " array([list(['for']), list(['walking in']), list(['riding']),\n",
       "        list(['eating']), list(['playing']), list(['part of']),\n",
       "        list(['covered in']), list(['looking at', 'watching']),\n",
       "        list(['and']), list(['using']), list(['along']), list(['against']),\n",
       "        list(['at'])], dtype=object)]"
      ]
     },
     "execution_count": 380,
     "metadata": {},
     "output_type": "execute_result"
    }
   ],
   "source": [
    "balanced_tree_building(labels, cls)"
   ]
  },
  {
   "cell_type": "code",
   "execution_count": 27,
   "metadata": {},
   "outputs": [
    {
     "name": "stdout",
     "output_type": "stream",
     "text": [
      "['covering' 'growing on' 'hanging from' 'laying on' 'mounted on'\n",
      " 'parked on' 'walking on']\n",
      "28879\n",
      "['above' 'attached to' 'flying in' 'from' 'lying on' 'on' 'on back of'\n",
      " 'painted on' 'standing on' 'to' 'walking in']\n",
      "800178\n",
      "['wearing' 'wears']\n",
      "151556\n",
      "['made of' 'says' 'with']\n",
      "71046\n",
      "['has']\n",
      "277936\n",
      "['belonging to' 'of']\n",
      "149627\n",
      "['part of']\n",
      "2065\n",
      "['carrying' 'holding']\n",
      "47935\n",
      "['eating']\n",
      "4688\n",
      "['covered in' 'in']\n",
      "254068\n",
      "['across' 'for' 'over']\n",
      "20458\n",
      "['sitting on']\n",
      "18643\n",
      "['riding']\n",
      "8856\n",
      "['and' 'looking at' 'playing']\n",
      "10370\n",
      "['watching']\n",
      "3490\n",
      "['under']\n",
      "22596\n",
      "['using']\n",
      "1925\n",
      "['against' 'along' 'between' 'in front of' 'near']\n",
      "120431\n",
      "['at']\n",
      "9903\n",
      "['behind']\n",
      "41356\n"
     ]
    }
   ],
   "source": [
    "for i in range(1,len(set(cls))+1):\n",
    "    print(labels[cls==i])\n",
    "    cnt = 0\n",
    "    for l in labels[cls==i]:\n",
    "        cnt += pred_cnt[l]\n",
    "    print(cnt)"
   ]
  },
  {
   "cell_type": "markdown",
   "metadata": {},
   "source": [
    "## Kmeans"
   ]
  },
  {
   "cell_type": "code",
   "execution_count": 282,
   "metadata": {},
   "outputs": [],
   "source": [
    "def elbow(x, max_k):\n",
    "    inertia = np.zeros((max_k,))\n",
    "    for i in range(1,max_k+1):\n",
    "        kmeans = KMeans(n_clusters=i)\n",
    "        cls = kmeans.fit_predict(x)\n",
    "        inertia[i-1] = kmeans.inertia_\n",
    "    return inertia\n"
   ]
  },
  {
   "cell_type": "code",
   "execution_count": 283,
   "metadata": {},
   "outputs": [],
   "source": [
    "inertia = elbow(mat, 40)"
   ]
  },
  {
   "cell_type": "code",
   "execution_count": 284,
   "metadata": {},
   "outputs": [
    {
     "data": {
      "image/png": "[encoded data removed]",
      "text/plain": [
       "<Figure size 432x288 with 1 Axes>"
      ]
     },
     "metadata": {
      "needs_background": "light"
     },
     "output_type": "display_data"
    }
   ],
   "source": [
    "plt.plot([i+1 for i in range(40)],inertia)\n",
    "plt.xlabel(\"Number of clusters\")\n",
    "plt.ylabel(\"SSE\")\n",
    "plt.show()"
   ]
  },
  {
   "cell_type": "code",
   "execution_count": 47,
   "metadata": {},
   "outputs": [
    {
     "name": "stdout",
     "output_type": "stream",
     "text": [
      "['eating']\n",
      "['growing on' 'hanging from' 'laying on' 'lying on' 'mounted on'\n",
      " 'parked on' 'walking on']\n",
      "['against']\n",
      "['with']\n",
      "['belonging to' 'of']\n",
      "['wearing' 'wears']\n",
      "['looking at' 'watching']\n",
      "['covered in']\n",
      "['behind']\n",
      "['for']\n",
      "['carrying' 'holding']\n",
      "['has' 'made of' 'says']\n",
      "['walking in']\n",
      "['along' 'between' 'in front of' 'near']\n",
      "['playing']\n",
      "['across' 'over']\n",
      "['part of']\n",
      "['at']\n",
      "['riding']\n",
      "['and']\n",
      "['using']\n",
      "['in']\n",
      "['under']\n",
      "['above' 'attached to' 'covering' 'from' 'on' 'on back of' 'painted on'\n",
      " 'standing on' 'to']\n",
      "['sitting on']\n"
     ]
    }
   ],
   "source": [
    "n_clusters = 25\n",
    "cls = KMeans(n_clusters=n_clusters, random_state=5).fit_predict(mat)\n",
    "for i in range(n_clusters):\n",
    "    print(labels[cls==i])"
   ]
  },
  {
   "cell_type": "markdown",
   "metadata": {},
   "source": [
    "# Visual tree"
   ]
  },
  {
   "cell_type": "code",
   "execution_count": 12,
   "metadata": {},
   "outputs": [],
   "source": [
    "labels = np.array([idx2pred[str(l)] for l in range(1,51)], dtype=str)"
   ]
  },
  {
   "cell_type": "markdown",
   "metadata": {},
   "source": [
    "## data from npy file"
   ]
  },
  {
   "cell_type": "code",
   "execution_count": 7,
   "metadata": {},
   "outputs": [],
   "source": [
    "vis_info_path = \"/home/miskai/デスクトップ/related-work/scene-graph-benchmark/SGG-TD2/checkpoints/motifs-sgdet-exmp/concat/vis_record/vis.npy\"\n",
    "# vis_info_path2 = \"/home/miskai/デスクトップ/related-work/scene-graph-benchmark/SGG-TD2/checkpoints/motifs-predcls-exmp/vis_record>20653/vis.npy\""
   ]
  },
  {
   "cell_type": "code",
   "execution_count": 8,
   "metadata": {},
   "outputs": [],
   "source": [
    "vis_info = np.load(vis_info_path, allow_pickle=True).item()\n",
    "# vis_info2 = np.load(vis_info_path2, allow_pickle=True).item()"
   ]
  },
  {
   "cell_type": "code",
   "execution_count": 9,
   "metadata": {},
   "outputs": [
    {
     "data": {
      "text/plain": [
       "dict_keys(['avg_feature'])"
      ]
     },
     "execution_count": 9,
     "metadata": {},
     "output_type": "execute_result"
    }
   ],
   "source": [
    "vis_info.keys()"
   ]
  },
  {
   "cell_type": "code",
   "execution_count": null,
   "metadata": {},
   "outputs": [],
   "source": [
    "data = vis_info[\"avg_feature\"][1:]\n",
    "data"
   ]
  },
  {
   "cell_type": "code",
   "execution_count": 19,
   "metadata": {},
   "outputs": [
    {
     "ename": "KeyError",
     "evalue": "'feat_sum'",
     "output_type": "error",
     "traceback": [
      "\u001b[0;31m---------------------------------------------------------------------------\u001b[0m",
      "\u001b[0;31mKeyError\u001b[0m                                  Traceback (most recent call last)",
      "\u001b[0;32m/tmp/ipykernel_335830/983765055.py\u001b[0m in \u001b[0;36m<module>\u001b[0;34m\u001b[0m\n\u001b[1;32m      1\u001b[0m \u001b[0mcombined_vis_info\u001b[0m \u001b[0;34m=\u001b[0m \u001b[0mcopy\u001b[0m\u001b[0;34m.\u001b[0m\u001b[0mdeepcopy\u001b[0m\u001b[0;34m(\u001b[0m\u001b[0mvis_info\u001b[0m\u001b[0;34m)\u001b[0m\u001b[0;34m\u001b[0m\u001b[0m\n\u001b[0;32m----> 2\u001b[0;31m \u001b[0mcombined_vis_info\u001b[0m\u001b[0;34m[\u001b[0m\u001b[0;34m\"feat_sum\"\u001b[0m\u001b[0;34m]\u001b[0m \u001b[0;34m=\u001b[0m \u001b[0;34m(\u001b[0m\u001b[0mcombined_vis_info\u001b[0m\u001b[0;34m[\u001b[0m\u001b[0;34m\"feat_sum\"\u001b[0m\u001b[0;34m]\u001b[0m\u001b[0;34m+\u001b[0m\u001b[0mvis_info2\u001b[0m\u001b[0;34m[\u001b[0m\u001b[0;34m\"feat_sum\"\u001b[0m\u001b[0;34m]\u001b[0m\u001b[0;34m)\u001b[0m\u001b[0;34m[\u001b[0m\u001b[0;36m1\u001b[0m\u001b[0;34m:\u001b[0m\u001b[0;34m]\u001b[0m\u001b[0;34m\u001b[0m\u001b[0m\n\u001b[0m\u001b[1;32m      3\u001b[0m \u001b[0mcombined_vis_info\u001b[0m\u001b[0;34m[\u001b[0m\u001b[0;34m\"feat_sq\"\u001b[0m\u001b[0;34m]\u001b[0m \u001b[0;34m=\u001b[0m \u001b[0;34m(\u001b[0m\u001b[0mcombined_vis_info\u001b[0m\u001b[0;34m[\u001b[0m\u001b[0;34m\"feat_sq\"\u001b[0m\u001b[0;34m]\u001b[0m\u001b[0;34m+\u001b[0m\u001b[0mvis_info2\u001b[0m\u001b[0;34m[\u001b[0m\u001b[0;34m\"feat_sq\"\u001b[0m\u001b[0;34m]\u001b[0m\u001b[0;34m)\u001b[0m\u001b[0;34m[\u001b[0m\u001b[0;36m1\u001b[0m\u001b[0;34m:\u001b[0m\u001b[0;34m]\u001b[0m\u001b[0;34m\u001b[0m\u001b[0m\n\u001b[1;32m      4\u001b[0m \u001b[0mcombined_vis_info\u001b[0m\u001b[0;34m[\u001b[0m\u001b[0;34m\"freq_sum\"\u001b[0m\u001b[0;34m]\u001b[0m \u001b[0;34m=\u001b[0m \u001b[0;34m(\u001b[0m\u001b[0mcombined_vis_info\u001b[0m\u001b[0;34m[\u001b[0m\u001b[0;34m\"freq_sum\"\u001b[0m\u001b[0;34m]\u001b[0m\u001b[0;34m+\u001b[0m\u001b[0mvis_info2\u001b[0m\u001b[0;34m[\u001b[0m\u001b[0;34m\"freq_sum\"\u001b[0m\u001b[0;34m]\u001b[0m\u001b[0;34m)\u001b[0m\u001b[0;34m[\u001b[0m\u001b[0;36m1\u001b[0m\u001b[0;34m:\u001b[0m\u001b[0;34m]\u001b[0m\u001b[0;34m\u001b[0m\u001b[0m\n\u001b[1;32m      5\u001b[0m \u001b[0mcombined_vis_info\u001b[0m\u001b[0;34m[\u001b[0m\u001b[0;34m\"freq_sq\"\u001b[0m\u001b[0;34m]\u001b[0m \u001b[0;34m=\u001b[0m \u001b[0;34m(\u001b[0m\u001b[0mcombined_vis_info\u001b[0m\u001b[0;34m[\u001b[0m\u001b[0;34m\"freq_sq\"\u001b[0m\u001b[0;34m]\u001b[0m\u001b[0;34m+\u001b[0m\u001b[0mvis_info2\u001b[0m\u001b[0;34m[\u001b[0m\u001b[0;34m\"freq_sq\"\u001b[0m\u001b[0;34m]\u001b[0m\u001b[0;34m)\u001b[0m\u001b[0;34m[\u001b[0m\u001b[0;36m1\u001b[0m\u001b[0;34m:\u001b[0m\u001b[0;34m]\u001b[0m\u001b[0;34m\u001b[0m\u001b[0m\n",
      "\u001b[0;31mKeyError\u001b[0m: 'feat_sum'"
     ]
    }
   ],
   "source": [
    "combined_vis_info = copy.deepcopy(vis_info)\n",
    "combined_vis_info[\"feat_sum\"] = (combined_vis_info[\"feat_sum\"]+vis_info2[\"feat_sum\"])[1:]\n",
    "combined_vis_info[\"feat_sq\"] = (combined_vis_info[\"feat_sq\"]+vis_info2[\"feat_sq\"])[1:]\n",
    "combined_vis_info[\"freq_sum\"] = (combined_vis_info[\"freq_sum\"]+vis_info2[\"freq_sum\"])[1:]\n",
    "combined_vis_info[\"freq_sq\"] = (combined_vis_info[\"freq_sq\"]+vis_info2[\"freq_sq\"])[1:]\n",
    "combined_vis_info[\"cnt\"] = (combined_vis_info[\"cnt\"]+vis_info2[\"cnt\"])[1:]"
   ]
  },
  {
   "cell_type": "code",
   "execution_count": 61,
   "metadata": {},
   "outputs": [],
   "source": [
    "combined_vis_info[\"feat_ave\"] = copy.deepcopy(combined_vis_info[\"feat_sum\"])\n",
    "combined_vis_info[\"freq_ave\"] = copy.deepcopy(combined_vis_info[\"freq_sum\"])\n",
    "for i in range(50):\n",
    "    combined_vis_info[\"feat_ave\"][i] /= combined_vis_info[\"cnt\"][i]\n",
    "    combined_vis_info[\"freq_ave\"][i] /= combined_vis_info[\"cnt\"][i]"
   ]
  },
  {
   "cell_type": "markdown",
   "metadata": {},
   "source": [
    "## data from checkpoint"
   ]
  },
  {
   "cell_type": "code",
   "execution_count": 6,
   "metadata": {},
   "outputs": [],
   "source": [
    "ckpt_file = \"/home/miskai/デスクトップ/related-work/scene-graph-benchmark/SGG-TD2/checkpoints/motifs-predcls-exmp/record/model_0000100.pth\""
   ]
  },
  {
   "cell_type": "code",
   "execution_count": 7,
   "metadata": {},
   "outputs": [],
   "source": [
    "t = torch.load(ckpt_file, map_location=torch.device(\"cpu\"))"
   ]
  },
  {
   "cell_type": "code",
   "execution_count": 9,
   "metadata": {},
   "outputs": [
    {
     "data": {
      "text/plain": [
       "tensor([[ 0.1727,  0.0305,  0.2818,  ..., -6.9077, -6.9078, -6.6980],\n",
       "        [ 0.0487,  0.1370,  0.2795,  ..., -6.8906, -6.8896, -6.7782],\n",
       "        [ 0.6479,  0.7355,  0.4242,  ..., -6.2692, -6.2742, -6.2457],\n",
       "        ...,\n",
       "        [ 0.6562,  0.6242,  0.0942,  ..., -1.7582, -4.2185, -5.2074],\n",
       "        [ 0.2751,  0.5592,  0.1390,  ..., -1.5424, -3.7620, -4.9229],\n",
       "        [ 0.1903,  0.0312,  0.7480,  ..., -5.7413, -6.2081, -3.9420]])"
      ]
     },
     "execution_count": 9,
     "metadata": {},
     "output_type": "execute_result"
    }
   ],
   "source": [
    "data = t[\"model\"][\"roi_heads.relation.predictor.class_features\"][1:]\n",
    "data"
   ]
  },
  {
   "cell_type": "markdown",
   "metadata": {},
   "source": [
    "## Spectral clustering"
   ]
  },
  {
   "cell_type": "code",
   "execution_count": 141,
   "metadata": {},
   "outputs": [],
   "source": [
    "dif_mat = np.zeros((50,50))"
   ]
  },
  {
   "cell_type": "code",
   "execution_count": 159,
   "metadata": {},
   "outputs": [
    {
     "data": {
      "text/plain": [
       "True"
      ]
     },
     "execution_count": 159,
     "metadata": {},
     "output_type": "execute_result"
    }
   ],
   "source": [
    "np.all(combined_vis_info[\"freq_sum\"]>0)"
   ]
  },
  {
   "cell_type": "code",
   "execution_count": 168,
   "metadata": {},
   "outputs": [],
   "source": [
    "for i in range(50):\n",
    "    for j in range(50):\n",
    "        feat_dis = 0\n",
    "        feat_dis += (combined_vis_info[\"feat_sq\"][i] - 2*(combined_vis_info[\"feat_sum\"][i]*combined_vis_info[\"feat_ave\"][i])).sum()/combined_vis_info[\"cnt\"][i]\n",
    "        feat_dis += (combined_vis_info[\"feat_ave\"][i]**2).sum()\n",
    "        feat_dis += (combined_vis_info[\"feat_sq\"][j] - 2*(combined_vis_info[\"feat_sum\"][j]*combined_vis_info[\"feat_ave\"][j])).sum()/combined_vis_info[\"cnt\"][j]\n",
    "        feat_dis += (combined_vis_info[\"feat_ave\"][j]**2).sum()\n",
    "        feat_dis += ((combined_vis_info[\"feat_ave\"][i] - combined_vis_info[\"feat_ave\"][j])**2).sum()\n",
    "        feat_dis = np.sqrt(feat_dis)\n",
    "        freq_dis = 0\n",
    "        freq_dis += (combined_vis_info[\"freq_sq\"][i] - 2*(combined_vis_info[\"freq_sum\"][i]*combined_vis_info[\"freq_ave\"][i])).sum()/combined_vis_info[\"cnt\"][i]\n",
    "        freq_dis += (combined_vis_info[\"freq_ave\"][i]**2).sum()\n",
    "        freq_dis += (combined_vis_info[\"freq_sq\"][j] - 2*(combined_vis_info[\"freq_sum\"][j]*combined_vis_info[\"freq_ave\"][j])).sum()/combined_vis_info[\"cnt\"][j]\n",
    "        freq_dis += (combined_vis_info[\"freq_ave\"][j]**2).sum()\n",
    "        freq_dis += ((combined_vis_info[\"freq_ave\"][i] - combined_vis_info[\"freq_ave\"][j])**2).sum()\n",
    "        freq_dis = np.sqrt(freq_dis)\n",
    "        # print(feat_dis, freq_dis)\n",
    "        dif_mat[i][j] = feat_dis + freq_dis"
   ]
  },
  {
   "cell_type": "code",
   "execution_count": 169,
   "metadata": {},
   "outputs": [
    {
     "data": {
      "text/plain": [
       "array([[0.28072301, 0.26898589, 0.27322482, ..., 0.30950938, 0.30991175,\n",
       "        0.30137465],\n",
       "       [0.26898589, 0.19616778, 0.17923372, ..., 0.2726736 , 0.27376393,\n",
       "        0.23812985],\n",
       "       [0.27322482, 0.17923372, 0.14650913, ..., 0.2645561 , 0.2658945 ,\n",
       "        0.2195728 ],\n",
       "       ...,\n",
       "       [0.30950938, 0.2726736 , 0.2645561 , ..., 0.11676353, 0.11826953,\n",
       "        0.25605689],\n",
       "       [0.30991175, 0.27376393, 0.2658945 , ..., 0.11826953, 0.11969886,\n",
       "        0.25693036],\n",
       "       [0.30137465, 0.23812985, 0.2195728 , ..., 0.25605689, 0.25693036,\n",
       "        0.22759448]])"
      ]
     },
     "execution_count": 169,
     "metadata": {},
     "output_type": "execute_result"
    }
   ],
   "source": [
    "dif_mat"
   ]
  },
  {
   "cell_type": "markdown",
   "metadata": {},
   "source": [
    "### dif_mat"
   ]
  },
  {
   "cell_type": "code",
   "execution_count": 231,
   "metadata": {},
   "outputs": [
    {
     "data": {
      "text/plain": [
       "array([ 0,  0, 10,  6, 11,  0,  0, 13, 19,  4,  0,  2,  0,  0, 14,  0,  8,\n",
       "        3,  0,  0,  0,  0,  9,  0,  0,  0,  1,  5,  0, 15,  0,  0,  0,  0,\n",
       "       16, 17,  0,  0, 12,  0,  0,  0,  0,  0,  7, 18,  0,  0,  0,  0],\n",
       "      dtype=int32)"
      ]
     },
     "execution_count": 231,
     "metadata": {},
     "output_type": "execute_result"
    }
   ],
   "source": [
    "num_cluster = 20\n",
    "spkm = SpectralClustering(n_clusters=num_cluster, affinity=\"precomputed\")\n",
    "res = spkm.fit(dif_mat)\n",
    "res.labels_"
   ]
  },
  {
   "cell_type": "code",
   "execution_count": 232,
   "metadata": {},
   "outputs": [
    {
     "name": "stdout",
     "output_type": "stream",
     "text": [
      "['above' 'across' 'at' 'attached to' 'carrying' 'covering' 'eating' 'for'\n",
      " 'hanging from' 'has' 'holding' 'in' 'laying on' 'looking at' 'lying on'\n",
      " 'near' 'on' 'on back of' 'over' 'painted on' 'playing' 'riding'\n",
      " 'sitting on' 'standing on' 'to' 'under' 'using' 'watching' 'wearing'\n",
      " 'wears' 'with']\n",
      "['made of']\n",
      "['covered in']\n",
      "['growing on']\n",
      "['between']\n",
      "['mounted on']\n",
      "['along']\n",
      "['walking in']\n",
      "['from']\n",
      "['in front of']\n",
      "['against']\n",
      "['and']\n",
      "['says']\n",
      "['behind']\n",
      "['flying in']\n",
      "['of']\n",
      "['parked on']\n",
      "['part of']\n",
      "['walking on']\n",
      "['belonging to']\n"
     ]
    }
   ],
   "source": [
    "for i in range(num_cluster):\n",
    "    print(labels[res.labels_==i])"
   ]
  },
  {
   "cell_type": "markdown",
   "metadata": {},
   "source": [
    "### average_feature"
   ]
  },
  {
   "cell_type": "code",
   "execution_count": 225,
   "metadata": {},
   "outputs": [],
   "source": [
    "combined_vis_info[\"fused_ave\"] = np.concatenate([combined_vis_info[\"feat_ave\"], combined_vis_info[\"freq_ave\"]], axis=1)"
   ]
  },
  {
   "cell_type": "code",
   "execution_count": 227,
   "metadata": {},
   "outputs": [
    {
     "data": {
      "text/plain": [
       "array([ 4, 12,  1,  1, 29,  6, 14,  8, 11,  8,  3, 10,  1, 13, 18,  2, 17,\n",
       "       14,  6,  9, 23, 16, 26,  0,  6,  0,  5, 25, 12, 11, 21, 19,  2,  3,\n",
       "        0, 11, 22, 15, 24, 27,  4,  3,  2, 23, 17, 28,  2,  7,  7, 20],\n",
       "      dtype=int32)"
      ]
     },
     "execution_count": 227,
     "metadata": {},
     "output_type": "execute_result"
    }
   ],
   "source": [
    "num_cluster = 30\n",
    "spkm = SpectralClustering(n_clusters=num_cluster, affinity=\"nearest_neighbors\")\n",
    "res = spkm.fit(combined_vis_info[\"fused_ave\"])\n",
    "res.labels_"
   ]
  },
  {
   "cell_type": "code",
   "execution_count": 228,
   "metadata": {},
   "outputs": [
    {
     "name": "stdout",
     "output_type": "stream",
     "text": [
      "['laying on' 'lying on' 'parked on']\n",
      "['against' 'along' 'covering']\n",
      "['for' 'over' 'under' 'watching']\n",
      "['carrying' 'painted on' 'to']\n",
      "['above' 'standing on']\n",
      "['made of']\n",
      "['at' 'hanging from' 'looking at']\n",
      "['wearing' 'wears']\n",
      "['behind' 'between']\n",
      "['has']\n",
      "['covered in']\n",
      "['belonging to' 'of' 'part of']\n",
      "['across' 'near']\n",
      "['eating']\n",
      "['attached to' 'growing on']\n",
      "['riding']\n",
      "['in']\n",
      "['from' 'walking in']\n",
      "['flying in']\n",
      "['on back of']\n",
      "['with']\n",
      "['on']\n",
      "['playing']\n",
      "['holding' 'using']\n",
      "['says']\n",
      "['mounted on']\n",
      "['in front of']\n",
      "['sitting on']\n",
      "['walking on']\n",
      "['and']\n"
     ]
    }
   ],
   "source": [
    "for i in range(num_cluster):\n",
    "    print(labels[res.labels_==i])"
   ]
  },
  {
   "cell_type": "markdown",
   "metadata": {},
   "source": [
    "## kmeans"
   ]
  },
  {
   "cell_type": "code",
   "execution_count": 63,
   "metadata": {},
   "outputs": [],
   "source": [
    "combined_vis_info[\"fused_ave\"] = np.concatenate([combined_vis_info[\"feat_ave\"], combined_vis_info[\"freq_ave\"]], axis=1)"
   ]
  },
  {
   "cell_type": "code",
   "execution_count": 64,
   "metadata": {},
   "outputs": [],
   "source": [
    "def elbow(x, max_k):\n",
    "    inertia = np.zeros((max_k,))\n",
    "    for i in range(1,max_k+1):\n",
    "        kmeans = KMeans(n_clusters=i, random_state=10)\n",
    "        cls = kmeans.fit_predict(x)\n",
    "        inertia[i-1] = kmeans.inertia_\n",
    "    return inertia\n"
   ]
  },
  {
   "cell_type": "code",
   "execution_count": 65,
   "metadata": {},
   "outputs": [],
   "source": [
    "inertia = elbow(combined_vis_info[\"fused_ave\"], 40)"
   ]
  },
  {
   "cell_type": "code",
   "execution_count": 66,
   "metadata": {},
   "outputs": [
    {
     "data": {
      "image/png": "[encoded data removed]",
      "text/plain": [
       "<Figure size 432x288 with 1 Axes>"
      ]
     },
     "metadata": {
      "needs_background": "light"
     },
     "output_type": "display_data"
    }
   ],
   "source": [
    "plt.plot([i+1 for i in range(40)],inertia)\n",
    "plt.xlabel(\"Number of clusters\")\n",
    "plt.ylabel(\"SSE\")\n",
    "plt.show()"
   ]
  },
  {
   "cell_type": "code",
   "execution_count": 68,
   "metadata": {},
   "outputs": [
    {
     "name": "stdout",
     "output_type": "stream",
     "text": [
      "['against' 'and' 'behind' 'between' 'covered in' 'flying in' 'in front of'\n",
      " 'made of' 'playing' 'says' 'watching']\n",
      "81257\n",
      "['above' 'attached to' 'hanging from' 'to']\n",
      "69942\n",
      "['wearing' 'wears']\n",
      "151556\n",
      "['carrying' 'holding' 'looking at']\n",
      "51018\n",
      "['across' 'along' 'at' 'covering' 'for' 'from' 'growing on' 'near' 'over'\n",
      " 'under' 'walking in']\n",
      "163514\n",
      "['laying on' 'lying on' 'parked on']\n",
      "8329\n",
      "['belonging to' 'of' 'part of']\n",
      "151692\n",
      "['with']\n",
      "66425\n",
      "['riding']\n",
      "8856\n",
      "['in']\n",
      "251756\n",
      "['eating']\n",
      "4688\n",
      "['mounted on' 'on' 'on back of' 'painted on']\n",
      "719671\n",
      "['has']\n",
      "277936\n",
      "['sitting on' 'standing on' 'walking on']\n",
      "37441\n",
      "['using']\n",
      "1925\n"
     ]
    }
   ],
   "source": [
    "n_clusters = 15\n",
    "cls = KMeans(n_clusters=n_clusters, random_state=10).fit_predict(combined_vis_info[\"fused_ave\"])\n",
    "for i in range(n_clusters):\n",
    "    print(labels[cls==i])\n",
    "    cnt = 0\n",
    "    for l in labels[cls==i]:\n",
    "        cnt += pred_cnt[l]\n",
    "    print(cnt)"
   ]
  },
  {
   "cell_type": "code",
   "execution_count": 34,
   "metadata": {},
   "outputs": [
    {
     "name": "stdout",
     "output_type": "stream",
     "text": [
      "3\n",
      "4\n",
      "5\n"
     ]
    },
    {
     "data": {
      "text/plain": [
       "[array([list(['wearing', 'wears']),\n",
       "        list(['mounted on', 'on', 'on back of', 'painted on']),\n",
       "        list(['belonging to', 'of', 'part of']), list(['has']),\n",
       "        list(['in']),\n",
       "        list(['across', 'along', 'for', 'from', 'near', 'over'])],\n",
       "       dtype=object),\n",
       " array([list(['at', 'covering', 'growing on', 'walking in']),\n",
       "        list(['against', 'between', 'covered in', 'in front of', 'under', 'watching']),\n",
       "        list(['carrying', 'holding', 'looking at']), list(['with']),\n",
       "        list(['above', 'attached to', 'hanging from', 'to']),\n",
       "        list(['standing on', 'walking on']), list(['sitting on']),\n",
       "        list(['and', 'behind', 'made of', 'playing', 'says'])],\n",
       "       dtype=object),\n",
       " array([list(['riding']), list(['eating']),\n",
       "        list(['laying on', 'lying on']), list(['flying in']),\n",
       "        list(['using']), list(['parked on'])], dtype=object)]"
      ]
     },
     "execution_count": 34,
     "metadata": {},
     "output_type": "execute_result"
    }
   ],
   "source": [
    "balanced_tree_building(labels, cls+1)"
   ]
  },
  {
   "cell_type": "markdown",
   "metadata": {},
   "source": [
    "## Hierarchical Clustering"
   ]
  },
  {
   "cell_type": "code",
   "execution_count": 10,
   "metadata": {},
   "outputs": [],
   "source": [
    "z = hierarchy.linkage(data, method=\"ward\", metric=\"euclidean\")\n",
    "# z = hierarchy.linkage(combined_vis_info[\"freq_ave\"], method=\"ward\", metric=\"euclidean\")"
   ]
  },
  {
   "cell_type": "code",
   "execution_count": 13,
   "metadata": {},
   "outputs": [
    {
     "data": {
      "image/png": "[encoded data removed]",
      "text/plain": [
       "<Figure size 1440x720 with 1 Axes>"
      ]
     },
     "metadata": {
      "needs_background": "light"
     },
     "output_type": "display_data"
    }
   ],
   "source": [
    "plt.figure(figsize=(20,10))\n",
    "ax = hierarchy.dendrogram(z, show_contracted=True, labels=labels)\n",
    "# plt.savefig(\"./feat-basic-cls.png\", dpi=300, bbox_inches=\"tight\")"
   ]
  },
  {
   "cell_type": "code",
   "execution_count": 15,
   "metadata": {},
   "outputs": [
    {
     "data": {
      "text/plain": [
       "2"
      ]
     },
     "execution_count": 15,
     "metadata": {},
     "output_type": "execute_result"
    }
   ],
   "source": [
    "cls = hierarchy.fcluster(z, t=2, criterion=\"maxclust\")\n",
    "len(set(cls))"
   ]
  },
  {
   "cell_type": "code",
   "execution_count": 16,
   "metadata": {},
   "outputs": [
    {
     "name": "stdout",
     "output_type": "stream",
     "text": [
      "['flying in' 'says']\n",
      "4214\n",
      "['above' 'across' 'against' 'along' 'and' 'at' 'attached to' 'behind'\n",
      " 'belonging to' 'between' 'carrying' 'covered in' 'covering' 'eating'\n",
      " 'for' 'from' 'growing on' 'hanging from' 'has' 'holding' 'in'\n",
      " 'in front of' 'laying on' 'looking at' 'lying on' 'made of' 'mounted on'\n",
      " 'near' 'of' 'on' 'on back of' 'over' 'painted on' 'parked on' 'part of'\n",
      " 'playing' 'riding' 'sitting on' 'standing on' 'to' 'under' 'using'\n",
      " 'walking in' 'walking on' 'watching' 'wearing' 'wears' 'with']\n",
      "2041792\n"
     ]
    }
   ],
   "source": [
    "labels = np.array(labels, dtype=str)\n",
    "for i in range(1,len(set(cls))+1):\n",
    "    print(labels[cls==i])\n",
    "    cnt = 0\n",
    "    for l in labels[cls==i]:\n",
    "        cnt += pred_cnt[l]\n",
    "    print(cnt)"
   ]
  },
  {
   "cell_type": "code",
   "execution_count": null,
   "metadata": {},
   "outputs": [],
   "source": []
  }
 ],
 "metadata": {
  "interpreter": {
   "hash": "e7370f93d1d0cde622a1f8e1c04877d8463912d04d973331ad4851f04de6915a"
  },
  "kernelspec": {
   "display_name": "Python 3.8.10 64-bit",
   "name": "python3"
  },
  "language_info": {
   "codemirror_mode": {
    "name": "ipython",
    "version": 3
   },
   "file_extension": ".py",
   "mimetype": "text/x-python",
   "name": "python",
   "nbconvert_exporter": "python",
   "pygments_lexer": "ipython3",
   "version": "3.7.0"
  },
  "orig_nbformat": 4
 },
 "nbformat": 4,
 "nbformat_minor": 2
}
