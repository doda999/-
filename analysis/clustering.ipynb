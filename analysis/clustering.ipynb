{
 "cells": [
  {
   "cell_type": "code",
   "execution_count": 2,
   "metadata": {},
   "outputs": [
    {
     "name": "stderr",
     "output_type": "stream",
     "text": [
      "Duplicate key in file PosixPath('/home/miskai/.pyenv/versions/miniconda3-latest/envs/sgg-td/lib/python3.7/site-packages/matplotlib/mpl-data/matplotlibrc'), line 257 ('font.family:  sans-serif')\n"
     ]
    }
   ],
   "source": [
    "import torch\n",
    "import torch.nn.functional as F\n",
    "import json\n",
    "import h5py\n",
    "import numpy as np\n",
    "import math\n",
    "import matplotlib.pyplot as plt\n",
    "from matplotlib.pyplot import imshow\n",
    "from PIL import Image, ImageDraw"
   ]
  },
  {
   "cell_type": "code",
   "execution_count": 3,
   "metadata": {},
   "outputs": [],
   "source": [
    "from tqdm import tqdm"
   ]
  },
  {
   "cell_type": "code",
   "execution_count": 1,
   "metadata": {},
   "outputs": [],
   "source": [
    "from scipy.cluster import hierarchy"
   ]
  },
  {
   "cell_type": "code",
   "execution_count": 4,
   "metadata": {},
   "outputs": [],
   "source": [
    "project_dir = '/home/miskai/デスクトップ/related-work/scene-graph-benchmark'\n",
    "image_file = json.load(open(f'{project_dir}/datasets/vg/image_data.json'))\n",
    "vocab_file = json.load(open(f'{project_dir}/datasets/vg/VG-SGG-dicts-with-attri.json'))\n",
    "data_file = h5py.File(f'{project_dir}/datasets/vg/VG-SGG-with-attri.h5', 'r')\n",
    "# remove invalid image\n",
    "corrupted_ims = [1592, 1722, 4616, 4617]\n",
    "tmp = []\n",
    "for item in image_file:\n",
    "    if int(item['image_id']) not in corrupted_ims:\n",
    "        tmp.append(item)\n",
    "image_file = tmp"
   ]
  },
  {
   "cell_type": "code",
   "execution_count": 5,
   "metadata": {},
   "outputs": [],
   "source": [
    "idx2pred = vocab_file[\"idx_to_predicate\"]\n",
    "pred_cnt = vocab_file[\"predicate_count\"]"
   ]
  },
  {
   "cell_type": "markdown",
   "metadata": {},
   "source": [
    "# Visual tree"
   ]
  },
  {
   "cell_type": "code",
   "execution_count": 6,
   "metadata": {},
   "outputs": [],
   "source": [
    "labels = np.array([idx2pred[str(l)] for l in range(1,51)], dtype=str)"
   ]
  },
  {
   "cell_type": "markdown",
   "metadata": {},
   "source": [
    "## data from npy file"
   ]
  },
  {
   "cell_type": "code",
   "execution_count": 9,
   "metadata": {},
   "outputs": [],
   "source": [
    "vis_info_path = \"../datasets/vg/initial_feature/predcls/feat.npy\""
   ]
  },
  {
   "cell_type": "code",
   "execution_count": 10,
   "metadata": {},
   "outputs": [],
   "source": [
    "vis_info = np.load(vis_info_path, allow_pickle=True).item()"
   ]
  },
  {
   "cell_type": "code",
   "execution_count": 11,
   "metadata": {},
   "outputs": [
    {
     "data": {
      "text/plain": [
       "dict_keys(['avg_feature'])"
      ]
     },
     "execution_count": 11,
     "metadata": {},
     "output_type": "execute_result"
    }
   ],
   "source": [
    "vis_info.keys()"
   ]
  },
  {
   "cell_type": "code",
   "execution_count": 12,
   "metadata": {},
   "outputs": [
    {
     "data": {
      "text/plain": [
       "array([[ 8.78182370e-02,  8.37645540e-02,  1.22660679e-01, ...,\n",
       "        -6.90760710e+00, -6.90774453e+00, -6.90748296e+00],\n",
       "       [ 1.47392768e-01,  1.16908082e-01,  6.74765523e-02, ...,\n",
       "        -6.90774003e+00, -6.90773139e+00, -6.90771599e+00],\n",
       "       [ 2.08611857e-01,  1.00765036e-10,  8.63715186e-02, ...,\n",
       "        -6.90770969e+00, -6.90774153e+00, -6.89034438e+00],\n",
       "       ...,\n",
       "       [ 1.87102243e-01,  1.31770892e-01,  3.74616326e-02, ...,\n",
       "        -1.37563402e+00, -3.75640813e+00, -4.76339705e+00],\n",
       "       [ 1.21486080e-01,  7.38199728e-02,  1.60430993e-01, ...,\n",
       "        -3.31000451e+00, -4.38970869e+00, -5.15966807e+00],\n",
       "       [ 1.27609288e-02,  2.47284138e-01,  5.18179847e-01, ...,\n",
       "        -6.90022588e+00, -6.90055833e+00, -4.38379713e+00]])"
      ]
     },
     "execution_count": 12,
     "metadata": {},
     "output_type": "execute_result"
    }
   ],
   "source": [
    "data = vis_info[\"avg_feature\"][1:]\n",
    "data"
   ]
  },
  {
   "cell_type": "markdown",
   "metadata": {},
   "source": [
    "## Hierarchical Clustering"
   ]
  },
  {
   "cell_type": "code",
   "execution_count": 13,
   "metadata": {},
   "outputs": [],
   "source": [
    "z = hierarchy.linkage(data, method=\"ward\", metric=\"euclidean\")\n",
    "# z = hierarchy.linkage(combined_vis_info[\"freq_ave\"], method=\"ward\", metric=\"euclidean\")"
   ]
  },
  {
   "cell_type": "code",
   "execution_count": 14,
   "metadata": {},
   "outputs": [
    {
     "data": {
      "image/png": "[encoded data removed]",
      "text/plain": [
       "<Figure size 1440x720 with 1 Axes>"
      ]
     },
     "metadata": {
      "needs_background": "light"
     },
     "output_type": "display_data"
    }
   ],
   "source": [
    "plt.figure(figsize=(20,10))\n",
    "ax = hierarchy.dendrogram(z, show_contracted=True, labels=labels)\n",
    "# plt.savefig(\"./feat-basic-cls.png\", dpi=300, bbox_inches=\"tight\")"
   ]
  },
  {
   "cell_type": "code",
   "execution_count": 15,
   "metadata": {},
   "outputs": [
    {
     "data": {
      "text/plain": [
       "2"
      ]
     },
     "execution_count": 15,
     "metadata": {},
     "output_type": "execute_result"
    }
   ],
   "source": [
    "cls = hierarchy.fcluster(z, t=2, criterion=\"maxclust\")\n",
    "len(set(cls))"
   ]
  },
  {
   "cell_type": "code",
   "execution_count": 16,
   "metadata": {},
   "outputs": [
    {
     "name": "stdout",
     "output_type": "stream",
     "text": [
      "['and' 'at' 'carrying' 'eating' 'has' 'holding' 'laying on' 'looking at'\n",
      " 'lying on' 'playing' 'riding' 'says' 'sitting on' 'using' 'watching'\n",
      " 'wearing' 'wears' 'with']\n",
      "609576\n",
      "['above' 'across' 'against' 'along' 'attached to' 'behind' 'belonging to'\n",
      " 'between' 'covered in' 'covering' 'flying in' 'for' 'from' 'growing on'\n",
      " 'hanging from' 'in' 'in front of' 'made of' 'mounted on' 'near' 'of' 'on'\n",
      " 'on back of' 'over' 'painted on' 'parked on' 'part of' 'standing on' 'to'\n",
      " 'under' 'walking in' 'walking on']\n",
      "1436430\n"
     ]
    }
   ],
   "source": [
    "labels = np.array(labels, dtype=str)\n",
    "for i in range(1,len(set(cls))+1):\n",
    "    print(labels[cls==i])\n",
    "    cnt = 0\n",
    "    for l in labels[cls==i]:\n",
    "        cnt += pred_cnt[l]\n",
    "    print(cnt)"
   ]
  },
  {
   "cell_type": "code",
   "execution_count": null,
   "metadata": {},
   "outputs": [],
   "source": []
  }
 ],
 "metadata": {
  "interpreter": {
   "hash": "e7370f93d1d0cde622a1f8e1c04877d8463912d04d973331ad4851f04de6915a"
  },
  "kernelspec": {
   "display_name": "Python 3.8.10 64-bit",
   "name": "python3"
  },
  "language_info": {
   "codemirror_mode": {
    "name": "ipython",
    "version": 3
   },
   "file_extension": ".py",
   "mimetype": "text/x-python",
   "name": "python",
   "nbconvert_exporter": "python",
   "pygments_lexer": "ipython3",
   "version": "3.7.0"
  },
  "orig_nbformat": 4
 },
 "nbformat": 4,
 "nbformat_minor": 2
}
